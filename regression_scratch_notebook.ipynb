{
 "cells": [
  {
   "cell_type": "code",
   "execution_count": 1,
   "id": "868b7022",
   "metadata": {},
   "outputs": [],
   "source": [
    "import os\n",
    "\n",
    "import pandas as pd\n",
    "import numpy as np\n",
    "import matplotlib.pyplot as plt\n",
    "import seaborn as sns\n",
    "\n",
    "import wrangle as wr\n",
    "\n",
    "from env import get_db_url"
   ]
  },
  {
   "cell_type": "markdown",
   "id": "9527885c",
   "metadata": {},
   "source": [
    "# Acquiring Data:\n",
    "- Acquiring data for *single family homes* that have transaction dates *during the year of 2017.*"
   ]
  },
  {
   "cell_type": "code",
   "execution_count": 2,
   "id": "4bed10b1",
   "metadata": {},
   "outputs": [],
   "source": [
    "query_df = wr.get_zillow_data()"
   ]
  },
  {
   "cell_type": "code",
   "execution_count": 3,
   "id": "d4c4135f",
   "metadata": {
    "scrolled": true
   },
   "outputs": [
    {
     "data": {
      "text/plain": [
       "52441"
      ]
     },
     "execution_count": 3,
     "metadata": {},
     "output_type": "execute_result"
    }
   ],
   "source": [
    "#Verifying that the dataset meets the rubric requirement of being 52,441 homes long:\n",
    "query_df.shape[0]"
   ]
  },
  {
   "cell_type": "markdown",
   "id": "c2bb29d3",
   "metadata": {},
   "source": [
    "## Wrangling Data:\n",
    "- I readjusted my wrangle function to exclude any homes that are over 1.5 million dollars. \n",
    "- This, paired with the other operations and cleaning carried out in the wrangle script, leave 95.4% of the data remaining. "
   ]
  },
  {
   "cell_type": "code",
   "execution_count": 9,
   "id": "3d1adbd8",
   "metadata": {},
   "outputs": [],
   "source": [
    "#Acquiring CLEANED data, beyond the initial SQL query:\n",
    "df = wr.wrangle_zillow()"
   ]
  },
  {
   "cell_type": "code",
   "execution_count": 10,
   "id": "7d5d5189",
   "metadata": {},
   "outputs": [
    {
     "data": {
      "text/plain": [
       "0.9540435918460747"
      ]
     },
     "execution_count": 10,
     "metadata": {},
     "output_type": "execute_result"
    }
   ],
   "source": [
    "#Verifying how much of the data was cleaned out (less than 5%):\n",
    "df.shape[0] / query_df.shape[0]"
   ]
  }
 ],
 "metadata": {
  "kernelspec": {
   "display_name": "Python 3 (ipykernel)",
   "language": "python",
   "name": "python3"
  },
  "language_info": {
   "codemirror_mode": {
    "name": "ipython",
    "version": 3
   },
   "file_extension": ".py",
   "mimetype": "text/x-python",
   "name": "python",
   "nbconvert_exporter": "python",
   "pygments_lexer": "ipython3",
   "version": "3.9.7"
  }
 },
 "nbformat": 4,
 "nbformat_minor": 5
}
