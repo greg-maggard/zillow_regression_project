{
 "cells": [
  {
   "cell_type": "code",
   "execution_count": 1,
   "id": "868b7022",
   "metadata": {},
   "outputs": [],
   "source": [
    "import os\n",
    "\n",
    "import pandas as pd\n",
    "import numpy as np\n",
    "import matplotlib.pyplot as plt\n",
    "import seaborn as sns\n",
    "\n",
    "import wrangle as wr\n",
    "\n",
    "from env import get_db_url"
   ]
  },
  {
   "cell_type": "markdown",
   "id": "9527885c",
   "metadata": {},
   "source": [
    "# Acquiring Data:\n",
    "- Acquiring data for *single family homes* that have transaction dates *during the year of 2017.*"
   ]
  },
  {
   "cell_type": "code",
   "execution_count": 2,
   "id": "4bed10b1",
   "metadata": {},
   "outputs": [],
   "source": [
    "query_df = wr.get_zillow_data()"
   ]
  },
  {
   "cell_type": "code",
   "execution_count": 3,
   "id": "d4c4135f",
   "metadata": {
    "scrolled": true
   },
   "outputs": [
    {
     "data": {
      "text/plain": [
       "52441"
      ]
     },
     "execution_count": 3,
     "metadata": {},
     "output_type": "execute_result"
    }
   ],
   "source": [
    "#Verifying that the dataset meets the rubric requirement of being 52,441 homes long:\n",
    "query_df.shape[0]"
   ]
  },
  {
   "cell_type": "markdown",
   "id": "c2bb29d3",
   "metadata": {},
   "source": [
    "## Wrangling Data:\n",
    "- I readjusted my wrangle function to exclude any homes that are over 1.5 million dollars. \n",
    "- This, paired with the other operations and cleaning carried out in the wrangle script, leave 95.4% of the data remaining. \n",
    "- I feel comfortable with the omission of this data, as I want to ensure that I'm not excluding too large a chunk of my total set, but do want to be sure that I'm focusing my model on homes that comprise the bulk of Zillow's business. Homes priced in the millions are very clearly not the main focus of Zillow's model, so I don't want to skew it's training by including too many of those. See plot below."
   ]
  },
  {
   "cell_type": "code",
   "execution_count": 4,
   "id": "3d1adbd8",
   "metadata": {},
   "outputs": [],
   "source": [
    "#Acquiring CLEANED data, beyond the initial SQL query:\n",
    "df = wr.wrangle_zillow()"
   ]
  },
  {
   "cell_type": "code",
   "execution_count": 5,
   "id": "7d5d5189",
   "metadata": {},
   "outputs": [
    {
     "data": {
      "text/plain": [
       "0.9540435918460747"
      ]
     },
     "execution_count": 5,
     "metadata": {},
     "output_type": "execute_result"
    }
   ],
   "source": [
    "#Verifying how much of the data was cleaned out (less than 5%):\n",
    "df.shape[0] / query_df.shape[0]"
   ]
  },
  {
   "cell_type": "code",
   "execution_count": 7,
   "id": "16f2321a",
   "metadata": {},
   "outputs": [
    {
     "data": {
      "text/plain": [
       "[Text(0.5, 1.0, 'Distribution of Homes by Price')]"
      ]
     },
     "execution_count": 7,
     "metadata": {},
     "output_type": "execute_result"
    },
    {
     "data": {
      "image/png": "[encoded data removed]",
      "text/plain": [
       "<Figure size 432x288 with 1 Axes>"
      ]
     },
     "metadata": {
      "needs_background": "light"
     },
     "output_type": "display_data"
    }
   ],
   "source": [
    "sns.histplot(data = df, x = df.taxvaluedollarcnt).set(title = 'Distribution of Homes by Price')\n",
    "\n",
    "#It is very clear that the vast majority of homes in Zillow's dataset fall below $1 million. "
   ]
  },
  {
   "cell_type": "markdown",
   "id": "36791ce9",
   "metadata": {},
   "source": [
    "# Exploring Data:"
   ]
  },
  {
   "cell_type": "code",
   "execution_count": 9,
   "id": "69c3fbc2",
   "metadata": {},
   "outputs": [],
   "source": [
    "# splitting the data into train, validate, and test sets before exploration:\n",
    "train, validate, test = wr.split_zillow_data(df)"
   ]
  },
  {
   "cell_type": "code",
   "execution_count": 10,
   "id": "1b7f4b3d",
   "metadata": {},
   "outputs": [
    {
     "data": {
      "text/plain": [
       "[Text(0.5, 1.0, 'Distribution of Homes by Price')]"
      ]
     },
     "execution_count": 10,
     "metadata": {},
     "output_type": "execute_result"
    },
    {
     "data": {
      "image/png": "[encoded data removed]",
      "text/plain": [
       "<Figure size 432x288 with 1 Axes>"
      ]
     },
     "metadata": {
      "needs_background": "light"
     },
     "output_type": "display_data"
    }
   ],
   "source": [
    "sns.histplot(data = train, x = train.taxvaluedollarcnt).set(title = 'Distribution of Homes by Price')"
   ]
  }
 ],
 "metadata": {
  "kernelspec": {
   "display_name": "Python 3 (ipykernel)",
   "language": "python",
   "name": "python3"
  },
  "language_info": {
   "codemirror_mode": {
    "name": "ipython",
    "version": 3
   },
   "file_extension": ".py",
   "mimetype": "text/x-python",
   "name": "python",
   "nbconvert_exporter": "python",
   "pygments_lexer": "ipython3",
   "version": "3.9.7"
  }
 },
 "nbformat": 4,
 "nbformat_minor": 5
}
