{
 "cells": [
  {
   "cell_type": "code",
   "execution_count": 1,
   "id": "868b7022",
   "metadata": {},
   "outputs": [],
   "source": [
    "import os\n",
    "\n",
    "import pandas as pd\n",
    "import numpy as np\n",
    "import matplotlib.pyplot as plt\n",
    "import seaborn as sns\n",
    "import scipy.stats as stats\n",
    "import warnings\n",
    "warnings.filterwarnings('ignore')\n",
    "\n",
    "α = .05\n",
    "\n",
    "from env import get_db_url\n",
    "import wrangle as wr\n",
    "import explore as ex\n",
    "\n",
    "from stats_toolkit import significance_test\n",
    "from sklearn.metrics import mean_squared_error, r2_score\n",
    "from sklearn.linear_model import LinearRegression, LassoLars, TweedieRegressor\n",
    "from sklearn.feature_selection import RFE\n",
    "\n",
    "from sklearn.preprocessing import PolynomialFeatures"
   ]
  },
  {
   "cell_type": "markdown",
   "id": "9781a394",
   "metadata": {},
   "source": [
    "taxvaluedollarcount is what the county assessor is saying the house is worth for tax purposes"
   ]
  },
  {
   "cell_type": "markdown",
   "id": "0f86588b",
   "metadata": {},
   "source": [
    "# <span style='color:red'> Questions and Key Considerations: </span>\n",
    "## - Acquire:\n",
    "- <span style='color:blue'>The taxvaluedollarcnt is a valuation assigned by a tax assessor for the county's tax purposes __not__ a sale amount</span>\n",
    "- I am leaving taxamount for the sake of exploration, but it needs to be removed before modeling.\n",
    "\n",
    "## - Wrangle:\n",
    "\n",
    "## - Explore:\n",
    "\n",
    "## - Model:\n",
    "- I feel like I'm struggling to understand whether I'm doing this in the right way.\n",
    "- <span style = 'color:red'> It may not be worth keeping lat/long. Would it be worth keeping these as a feature, and if so, would it need to be scaled?</span>\n",
    "- <span style = 'color:red'> I built out my RMSE calculation section __after__ I scaled everything. Is that okay? It appears that others did this before scaling.\n",
    "    - If I were to do an inverse transform on this, would it have the same effect?</span>"
   ]
  },
  {
   "cell_type": "markdown",
   "id": "fd6927a5",
   "metadata": {},
   "source": [
    "# To-Do:\n",
    "\n",
    "## - Explore:\n",
    "- Is there a relationship between year built and value?\n",
    "\n",
    "## - Model: \n",
    "- <span style = 'color:red'> Scale __after__ split. </span>\n",
    "- Figure out if I need to undo scaling before baseline modeling and RMSE calculation.\n",
    "- Look into why it appears other scaled their data, and then used unscaled data in models.\n",
    "- <span style = 'color:red'>Look into whether I need to scale year </span>"
   ]
  },
  {
   "cell_type": "markdown",
   "id": "9527885c",
   "metadata": {},
   "source": [
    "# Acquiring Data:\n",
    "- Acquiring data for *single family homes* that have transaction dates *during the year of 2017.*"
   ]
  },
  {
   "cell_type": "code",
   "execution_count": 2,
   "id": "4bed10b1",
   "metadata": {},
   "outputs": [],
   "source": [
    "query_df = wr.get_zillow_data()"
   ]
  },
  {
   "cell_type": "code",
   "execution_count": 3,
   "id": "1bee7a68",
   "metadata": {},
   "outputs": [],
   "source": [
    "#query_df['bed_bath_ratio'] = df.bedroomcnt / df.bathroomcnt"
   ]
  },
  {
   "cell_type": "code",
   "execution_count": 4,
   "id": "d4c4135f",
   "metadata": {
    "scrolled": true
   },
   "outputs": [
    {
     "data": {
      "text/plain": [
       "1.0"
      ]
     },
     "execution_count": 4,
     "metadata": {},
     "output_type": "execute_result"
    }
   ],
   "source": [
    "#Verifying that the dataset meets the rubric requirement of being 52,441 homes long:\n",
    "query_df.shape[0] / 52441"
   ]
  },
  {
   "cell_type": "code",
   "execution_count": 5,
   "id": "a0d00e0f",
   "metadata": {
    "scrolled": true
   },
   "outputs": [
    {
     "data": {
      "text/html": [
       "<div>\n",
       "<style scoped>\n",
       "    .dataframe tbody tr th:only-of-type {\n",
       "        vertical-align: middle;\n",
       "    }\n",
       "\n",
       "    .dataframe tbody tr th {\n",
       "        vertical-align: top;\n",
       "    }\n",
       "\n",
       "    .dataframe thead th {\n",
       "        text-align: right;\n",
       "    }\n",
       "</style>\n",
       "<table border=\"1\" class=\"dataframe\">\n",
       "  <thead>\n",
       "    <tr style=\"text-align: right;\">\n",
       "      <th></th>\n",
       "      <th>bathrooms</th>\n",
       "      <th>bedrooms</th>\n",
       "      <th>value</th>\n",
       "      <th>square_feet</th>\n",
       "      <th>year_built</th>\n",
       "      <th>fips</th>\n",
       "      <th>latitude</th>\n",
       "      <th>longitude</th>\n",
       "      <th>lot_size</th>\n",
       "    </tr>\n",
       "  </thead>\n",
       "  <tbody>\n",
       "    <tr>\n",
       "      <th>0</th>\n",
       "      <td>3.5</td>\n",
       "      <td>4.0</td>\n",
       "      <td>1023282.0</td>\n",
       "      <td>3100.0</td>\n",
       "      <td>1998.0</td>\n",
       "      <td>6059.0</td>\n",
       "      <td>33634931.0</td>\n",
       "      <td>-117869207.0</td>\n",
       "      <td>4506.0</td>\n",
       "    </tr>\n",
       "    <tr>\n",
       "      <th>1</th>\n",
       "      <td>1.0</td>\n",
       "      <td>2.0</td>\n",
       "      <td>464000.0</td>\n",
       "      <td>1465.0</td>\n",
       "      <td>1967.0</td>\n",
       "      <td>6111.0</td>\n",
       "      <td>34449266.0</td>\n",
       "      <td>-119281531.0</td>\n",
       "      <td>12647.0</td>\n",
       "    </tr>\n",
       "    <tr>\n",
       "      <th>2</th>\n",
       "      <td>2.0</td>\n",
       "      <td>3.0</td>\n",
       "      <td>564778.0</td>\n",
       "      <td>1243.0</td>\n",
       "      <td>1962.0</td>\n",
       "      <td>6059.0</td>\n",
       "      <td>33886168.0</td>\n",
       "      <td>-117823170.0</td>\n",
       "      <td>8432.0</td>\n",
       "    </tr>\n",
       "    <tr>\n",
       "      <th>3</th>\n",
       "      <td>3.0</td>\n",
       "      <td>4.0</td>\n",
       "      <td>145143.0</td>\n",
       "      <td>2376.0</td>\n",
       "      <td>1970.0</td>\n",
       "      <td>6037.0</td>\n",
       "      <td>34245180.0</td>\n",
       "      <td>-118240722.0</td>\n",
       "      <td>13038.0</td>\n",
       "    </tr>\n",
       "    <tr>\n",
       "      <th>4</th>\n",
       "      <td>3.0</td>\n",
       "      <td>4.0</td>\n",
       "      <td>773303.0</td>\n",
       "      <td>2962.0</td>\n",
       "      <td>1950.0</td>\n",
       "      <td>6037.0</td>\n",
       "      <td>34145202.0</td>\n",
       "      <td>-118179824.0</td>\n",
       "      <td>63000.0</td>\n",
       "    </tr>\n",
       "  </tbody>\n",
       "</table>\n",
       "</div>"
      ],
      "text/plain": [
       "   bathrooms  bedrooms      value  square_feet  year_built    fips  \\\n",
       "0        3.5       4.0  1023282.0       3100.0      1998.0  6059.0   \n",
       "1        1.0       2.0   464000.0       1465.0      1967.0  6111.0   \n",
       "2        2.0       3.0   564778.0       1243.0      1962.0  6059.0   \n",
       "3        3.0       4.0   145143.0       2376.0      1970.0  6037.0   \n",
       "4        3.0       4.0   773303.0       2962.0      1950.0  6037.0   \n",
       "\n",
       "     latitude    longitude  lot_size  \n",
       "0  33634931.0 -117869207.0    4506.0  \n",
       "1  34449266.0 -119281531.0   12647.0  \n",
       "2  33886168.0 -117823170.0    8432.0  \n",
       "3  34245180.0 -118240722.0   13038.0  \n",
       "4  34145202.0 -118179824.0   63000.0  "
      ]
     },
     "execution_count": 5,
     "metadata": {},
     "output_type": "execute_result"
    }
   ],
   "source": [
    "query_df.head()"
   ]
  },
  {
   "cell_type": "markdown",
   "id": "c3a914cf",
   "metadata": {},
   "source": [
    "swap these"
   ]
  },
  {
   "cell_type": "code",
   "execution_count": 6,
   "id": "3cad7ff2",
   "metadata": {},
   "outputs": [
    {
     "data": {
      "text/plain": [
       "<AxesSubplot:xlabel='longitude', ylabel='latitude'>"
      ]
     },
     "execution_count": 6,
     "metadata": {},
     "output_type": "execute_result"
    },
    {
     "data": {
      "image/png": "[encoded data removed]",
      "text/plain": [
       "<Figure size 432x288 with 1 Axes>"
      ]
     },
     "metadata": {
      "needs_background": "light"
     },
     "output_type": "display_data"
    }
   ],
   "source": [
    "sns.scatterplot(data = query_df, x = query_df.longitude, y = query_df.latitude)"
   ]
  },
  {
   "cell_type": "markdown",
   "id": "c2bb29d3",
   "metadata": {},
   "source": [
    "## Wrangling Data:\n",
    "- General Data Format Cleaning:\n",
    "    - Converting moving decimal left 6 places on latitude and longitude.\n",
    "- Assigning county names to each home, based on the fips code one the record:\n",
    "    - 60370: Los Angeles County\n",
    "    - 60490: Orange County\n",
    "    - 61110: Ventura County\n",
    "- Homes Dropped:\n",
    "    - 0 bedrooms\n",
    "    - 0 bathrooms\n",
    "    - Less than 120 square feet\n",
    "    - More than 10,000 square feet\n",
    "    - Home value over \\\\$1.6 million\n",
    "    - Records containing null values\n",
    "- Columns Created:\n",
    "    - Column displaying the ratios of bedrooms to bathrooms.\n",
    "- This, paired with the other operations and cleaning carried out in the wrangle script, leave 95.4\\% of the data remaining. \n",
    "- I feel comfortable with the omission of this data, as I want to ensure that I'm not excluding too large a chunk of my total set, but do want to be sure that I'm focusing my model on homes that comprise the bulk of Zillow's business. Homes priced in the millions are very clearly not the main focus of Zillow's model, so I don't want to skew it's training by including too many of those. See plot below."
   ]
  },
  {
   "cell_type": "code",
   "execution_count": 7,
   "id": "3d1adbd8",
   "metadata": {},
   "outputs": [],
   "source": [
    "#Acquiring CLEANED data, beyond the initial SQL query:\n",
    "df = wr.wrangle_zillow()"
   ]
  },
  {
   "cell_type": "code",
   "execution_count": 8,
   "id": "7d5d5189",
   "metadata": {},
   "outputs": [
    {
     "data": {
      "text/plain": [
       "0.9480749795007722"
      ]
     },
     "execution_count": 8,
     "metadata": {},
     "output_type": "execute_result"
    }
   ],
   "source": [
    "#Verifying how much of the data was cleaned out (less than 5%):\n",
    "df.shape[0] / query_df.shape[0]"
   ]
  },
  {
   "cell_type": "code",
   "execution_count": 9,
   "id": "4647bdae",
   "metadata": {},
   "outputs": [],
   "source": [
    "# splitting the data into train, validate, and test sets before exploration:\n",
    "train, validate, test = wr.split_zillow_data(df)"
   ]
  },
  {
   "cell_type": "markdown",
   "id": "36791ce9",
   "metadata": {},
   "source": [
    "# Exploring Data:"
   ]
  },
  {
   "cell_type": "markdown",
   "id": "4ffada8b",
   "metadata": {},
   "source": [
    "## Early Hypotheses:\n",
    "- More square footage will lead to more value.\n",
    "- Homes with more land will have more value.\n",
    "- Location will have a significant impact on value.\n",
    "- More bedrooms and more bathrooms will lead to more value.\n",
    "- There will be a relationship between the bath-to-bed ratio and price.\n",
    "    - Homes with higher bath-to-bed ratios will fetch higher prices.\n",
    "- Newer houses will fetch more value and be sold less."
   ]
  },
  {
   "cell_type": "markdown",
   "id": "968ea1de",
   "metadata": {},
   "source": [
    "## Key Questions Answered:\n",
    "- Is there a relationship between the county in which a home is built and its value?\n",
    "- Is there a relationship between the year a home is built and the square footage of a home?"
   ]
  },
  {
   "cell_type": "code",
   "execution_count": 10,
   "id": "9c3d3deb",
   "metadata": {},
   "outputs": [
    {
     "data": {
      "text/html": [
       "<div>\n",
       "<style scoped>\n",
       "    .dataframe tbody tr th:only-of-type {\n",
       "        vertical-align: middle;\n",
       "    }\n",
       "\n",
       "    .dataframe tbody tr th {\n",
       "        vertical-align: top;\n",
       "    }\n",
       "\n",
       "    .dataframe thead th {\n",
       "        text-align: right;\n",
       "    }\n",
       "</style>\n",
       "<table border=\"1\" class=\"dataframe\">\n",
       "  <thead>\n",
       "    <tr style=\"text-align: right;\">\n",
       "      <th></th>\n",
       "      <th>bathrooms</th>\n",
       "      <th>bedrooms</th>\n",
       "      <th>value</th>\n",
       "      <th>square_feet</th>\n",
       "      <th>year_built</th>\n",
       "      <th>latitude</th>\n",
       "      <th>longitude</th>\n",
       "      <th>lot_size</th>\n",
       "      <th>county</th>\n",
       "      <th>bath_bed_ratio</th>\n",
       "    </tr>\n",
       "  </thead>\n",
       "  <tbody>\n",
       "    <tr>\n",
       "      <th>52424</th>\n",
       "      <td>1.0</td>\n",
       "      <td>2</td>\n",
       "      <td>60841.0</td>\n",
       "      <td>820.0</td>\n",
       "      <td>1949</td>\n",
       "      <td>34.044147</td>\n",
       "      <td>-117.762663</td>\n",
       "      <td>5717.0</td>\n",
       "      <td>Los Angeles County</td>\n",
       "      <td>0.500000</td>\n",
       "    </tr>\n",
       "    <tr>\n",
       "      <th>47464</th>\n",
       "      <td>2.0</td>\n",
       "      <td>3</td>\n",
       "      <td>689597.0</td>\n",
       "      <td>1631.0</td>\n",
       "      <td>1947</td>\n",
       "      <td>34.116783</td>\n",
       "      <td>-118.068101</td>\n",
       "      <td>6855.0</td>\n",
       "      <td>Los Angeles County</td>\n",
       "      <td>0.666667</td>\n",
       "    </tr>\n",
       "    <tr>\n",
       "      <th>49026</th>\n",
       "      <td>2.0</td>\n",
       "      <td>4</td>\n",
       "      <td>488000.0</td>\n",
       "      <td>1500.0</td>\n",
       "      <td>1958</td>\n",
       "      <td>34.191748</td>\n",
       "      <td>-118.612943</td>\n",
       "      <td>8103.0</td>\n",
       "      <td>Los Angeles County</td>\n",
       "      <td>0.500000</td>\n",
       "    </tr>\n",
       "    <tr>\n",
       "      <th>8675</th>\n",
       "      <td>1.0</td>\n",
       "      <td>3</td>\n",
       "      <td>216381.0</td>\n",
       "      <td>1380.0</td>\n",
       "      <td>1950</td>\n",
       "      <td>34.030891</td>\n",
       "      <td>-117.943995</td>\n",
       "      <td>20721.0</td>\n",
       "      <td>Los Angeles County</td>\n",
       "      <td>0.333333</td>\n",
       "    </tr>\n",
       "    <tr>\n",
       "      <th>12478</th>\n",
       "      <td>3.0</td>\n",
       "      <td>4</td>\n",
       "      <td>157769.0</td>\n",
       "      <td>2502.0</td>\n",
       "      <td>1961</td>\n",
       "      <td>34.153198</td>\n",
       "      <td>-118.543525</td>\n",
       "      <td>14067.0</td>\n",
       "      <td>Los Angeles County</td>\n",
       "      <td>0.750000</td>\n",
       "    </tr>\n",
       "  </tbody>\n",
       "</table>\n",
       "</div>"
      ],
      "text/plain": [
       "       bathrooms  bedrooms     value  square_feet  year_built   latitude  \\\n",
       "52424        1.0         2   60841.0        820.0        1949  34.044147   \n",
       "47464        2.0         3  689597.0       1631.0        1947  34.116783   \n",
       "49026        2.0         4  488000.0       1500.0        1958  34.191748   \n",
       "8675         1.0         3  216381.0       1380.0        1950  34.030891   \n",
       "12478        3.0         4  157769.0       2502.0        1961  34.153198   \n",
       "\n",
       "        longitude  lot_size              county  bath_bed_ratio  \n",
       "52424 -117.762663    5717.0  Los Angeles County        0.500000  \n",
       "47464 -118.068101    6855.0  Los Angeles County        0.666667  \n",
       "49026 -118.612943    8103.0  Los Angeles County        0.500000  \n",
       "8675  -117.943995   20721.0  Los Angeles County        0.333333  \n",
       "12478 -118.543525   14067.0  Los Angeles County        0.750000  "
      ]
     },
     "execution_count": 10,
     "metadata": {},
     "output_type": "execute_result"
    }
   ],
   "source": [
    "train.head()"
   ]
  },
  {
   "cell_type": "markdown",
   "id": "fa79e85d",
   "metadata": {},
   "source": [
    "## Visualizing the distribution of homes by price within the train set: "
   ]
  },
  {
   "cell_type": "code",
   "execution_count": 11,
   "id": "1b7f4b3d",
   "metadata": {
    "scrolled": true
   },
   "outputs": [
    {
     "data": {
      "image/png": "[encoded data removed]",
      "text/plain": [
       "<Figure size 432x288 with 1 Axes>"
      ]
     },
     "metadata": {
      "needs_background": "light"
     },
     "output_type": "display_data"
    }
   ],
   "source": [
    "sns.histplot(data = train, x = train.value).set(title = 'Distribution of Homes by Price');"
   ]
  },
  {
   "cell_type": "markdown",
   "id": "9e0fb457",
   "metadata": {},
   "source": [
    "## Visualizing Distribution of Homes by Square Footage:"
   ]
  },
  {
   "cell_type": "code",
   "execution_count": 12,
   "id": "020f9771",
   "metadata": {},
   "outputs": [
    {
     "data": {
      "image/png": "[encoded data removed]",
      "text/plain": [
       "<Figure size 432x288 with 1 Axes>"
      ]
     },
     "metadata": {
      "needs_background": "light"
     },
     "output_type": "display_data"
    }
   ],
   "source": [
    "sns.histplot(data = train, x = train.square_feet).set(title = 'Distribution of Homes by Square Footage');"
   ]
  },
  {
   "cell_type": "markdown",
   "id": "fcfb0376",
   "metadata": {},
   "source": [
    "## Visualizing Distribution of Homes by Bedroom Count:"
   ]
  },
  {
   "cell_type": "code",
   "execution_count": 13,
   "id": "c4fca015",
   "metadata": {
    "scrolled": true
   },
   "outputs": [
    {
     "data": {
      "image/png": "[encoded data removed]",
      "text/plain": [
       "<Figure size 432x288 with 1 Axes>"
      ]
     },
     "metadata": {
      "needs_background": "light"
     },
     "output_type": "display_data"
    }
   ],
   "source": [
    "sns.histplot(data = train, x = train.bedrooms).set(title = 'Distribution of Homes by Bedroom Count');"
   ]
  },
  {
   "cell_type": "markdown",
   "id": "504a991f",
   "metadata": {},
   "source": [
    "## Visualizing Distribution of Homes by Bathroom Count:"
   ]
  },
  {
   "cell_type": "code",
   "execution_count": 14,
   "id": "ffe5a1fa",
   "metadata": {},
   "outputs": [
    {
     "data": {
      "image/png": "[encoded data removed]",
      "text/plain": [
       "<Figure size 432x288 with 1 Axes>"
      ]
     },
     "metadata": {
      "needs_background": "light"
     },
     "output_type": "display_data"
    }
   ],
   "source": [
    "sns.histplot(data = train, x = train.bathrooms).set(title = 'Distribution of Homes by Bathroom Count');"
   ]
  },
  {
   "cell_type": "markdown",
   "id": "db60dd04",
   "metadata": {},
   "source": [
    "## Visualizing Home Value by Ratio of Bathrooms to Bedrooms:"
   ]
  },
  {
   "cell_type": "code",
   "execution_count": 15,
   "id": "08925dbb",
   "metadata": {
    "scrolled": true
   },
   "outputs": [
    {
     "data": {
      "image/png": "[encoded data removed]",
      "text/plain": [
       "<Figure size 432x288 with 1 Axes>"
      ]
     },
     "metadata": {
      "needs_background": "light"
     },
     "output_type": "display_data"
    }
   ],
   "source": [
    "sns.boxplot(data = train, x = train.bedrooms, y = train.value ).set(title = 'Home Values by Ratio of Bathrooms to Bedrooms');"
   ]
  },
  {
   "cell_type": "markdown",
   "id": "19162ad5",
   "metadata": {},
   "source": [
    "## Visualizing Home Values by County:"
   ]
  },
  {
   "cell_type": "code",
   "execution_count": 16,
   "id": "f4b3d8de",
   "metadata": {},
   "outputs": [
    {
     "data": {
      "image/png": "[encoded data removed]",
      "text/plain": [
       "<Figure size 432x288 with 1 Axes>"
      ]
     },
     "metadata": {
      "needs_background": "light"
     },
     "output_type": "display_data"
    }
   ],
   "source": [
    "sns.violinplot(data = train, x = train.county, y = train.value ).set(title = 'Plot of Home Value by County');"
   ]
  },
  {
   "cell_type": "markdown",
   "id": "6f4f3cc0",
   "metadata": {},
   "source": [
    "### Stats: Does County of Residence Have a Meaningful Impact on Value?\n",
    "- Null Hypothesis: There is no relationship between county and home value.\n",
    "- Alternative Hypothesis: There is a significant relationship between county and home value.\n",
    "- __Findings: There is sufficient evidence to reject the null and assert that there is a meaningful relationship between home values and county.__"
   ]
  },
  {
   "cell_type": "code",
   "execution_count": 17,
   "id": "bf07aec6",
   "metadata": {},
   "outputs": [
    {
     "name": "stdout",
     "output_type": "stream",
     "text": [
      "Sufficient evidence -> Reject the null hypothesis.\n"
     ]
    },
    {
     "data": {
      "text/plain": [
       "(None, 2.158071718811469e-199)"
      ]
     },
     "execution_count": 17,
     "metadata": {},
     "output_type": "execute_result"
    }
   ],
   "source": [
    "#Creating Separate DataFrames by County:\n",
    "la_values = train[train.county == 'Los Angeles County'].value\n",
    "orange_values = train[train.county == 'Orange County'].value\n",
    "ventura_values = train[train.county == 'Ventura County'].value\n",
    "\n",
    "#Running a one-way ANOVA (there is a single independent variable - 'county'):\n",
    "f, p = stats.f_oneway(la_values, orange_values, ventura_values)\n",
    "\n",
    "#Printing whether the p-value is less than alpha:\n",
    "significance_test(p), p"
   ]
  },
  {
   "cell_type": "markdown",
   "id": "01d6eb89",
   "metadata": {},
   "source": [
    "## Number of Homes for Sale by County:"
   ]
  },
  {
   "cell_type": "code",
   "execution_count": 18,
   "id": "c7fec400",
   "metadata": {},
   "outputs": [
    {
     "data": {
      "image/png": "[encoded data removed]",
      "text/plain": [
       "<Figure size 432x288 with 1 Axes>"
      ]
     },
     "metadata": {
      "needs_background": "light"
     },
     "output_type": "display_data"
    }
   ],
   "source": [
    "sns.histplot(data = train, x = train.county).set(title = 'Number of Homes for Sale by County');"
   ]
  },
  {
   "cell_type": "markdown",
   "id": "207f0e3b",
   "metadata": {},
   "source": [
    "## Distribution of Homes by Year Built:"
   ]
  },
  {
   "cell_type": "code",
   "execution_count": 19,
   "id": "e1da40e5",
   "metadata": {
    "scrolled": true
   },
   "outputs": [
    {
     "data": {
      "image/png": "[encoded data removed]",
      "text/plain": [
       "<Figure size 432x288 with 1 Axes>"
      ]
     },
     "metadata": {
      "needs_background": "light"
     },
     "output_type": "display_data"
    }
   ],
   "source": [
    "sns.histplot(data = train, x = train.year_built).set(title = 'Number of Homes for Sale by Construction Year');"
   ]
  },
  {
   "cell_type": "markdown",
   "id": "d6142b26",
   "metadata": {},
   "source": [
    "## The Relationship Between the Year a Home Was Built and the Square Footage:"
   ]
  },
  {
   "cell_type": "code",
   "execution_count": 20,
   "id": "d64e3814",
   "metadata": {},
   "outputs": [
    {
     "data": {
      "image/png": "[encoded data removed]",
      "text/plain": [
       "<Figure size 432x432 with 3 Axes>"
      ]
     },
     "metadata": {
      "needs_background": "light"
     },
     "output_type": "display_data"
    }
   ],
   "source": [
    "sns.jointplot(x = \"year_built\", y = \"square_feet\", data = train, kind = 'reg',\n",
    "                  joint_kws = {'line_kws':{'color':'red'}});"
   ]
  },
  {
   "cell_type": "markdown",
   "id": "6e1f6b29",
   "metadata": {},
   "source": [
    "### Stats: Is there a relationship between the year a home was built and the square footage?\n",
    "- Null Hypothesis: There is no relationship between the year a home was built and the square footage.\n",
    "- Alternative Hypothesis: There is a significant relationship between the year a home was built and the square footage.\n",
    "- __Findings: There is sufficient evidence to reject the null and assert that there is a meaningful relationship between construction year and square footage.__ \n",
    "    - It appears that as time has progressed, homes are being built larger."
   ]
  },
  {
   "cell_type": "code",
   "execution_count": 21,
   "id": "16315183",
   "metadata": {},
   "outputs": [
    {
     "name": "stdout",
     "output_type": "stream",
     "text": [
      "Sufficient evidence -> Reject the null hypothesis.\n"
     ]
    },
    {
     "data": {
      "text/plain": [
       "(0.48663049289505733, None)"
      ]
     },
     "execution_count": 21,
     "metadata": {},
     "output_type": "execute_result"
    }
   ],
   "source": [
    "#Running a Pearson's R test to check the correlation between year built and square footage in a home:\n",
    "corr, p = stats.pearsonr(train.square_feet, train.year_built)\n",
    "#Running a significance test to determine whether we can reject the null:\n",
    "corr, significance_test(p)"
   ]
  },
  {
   "cell_type": "markdown",
   "id": "01e385d4",
   "metadata": {},
   "source": [
    "## The Relationship Between the Year a Home Was Built and Its Value:"
   ]
  },
  {
   "cell_type": "code",
   "execution_count": 22,
   "id": "6b7a83f6",
   "metadata": {},
   "outputs": [
    {
     "data": {
      "image/png": "[encoded data removed]",
      "text/plain": [
       "<Figure size 432x432 with 3 Axes>"
      ]
     },
     "metadata": {
      "needs_background": "light"
     },
     "output_type": "display_data"
    }
   ],
   "source": [
    "sns.jointplot(x = \"year_built\", y = \"value\", data = train, kind = 'reg',\n",
    "                  joint_kws = {'line_kws':{'color':'red'}});"
   ]
  },
  {
   "cell_type": "code",
   "execution_count": 23,
   "id": "4e9ce053",
   "metadata": {},
   "outputs": [
    {
     "name": "stdout",
     "output_type": "stream",
     "text": [
      "Sufficient evidence -> Reject the null hypothesis.\n"
     ]
    },
    {
     "data": {
      "text/plain": [
       "(0.25255027444509304, None)"
      ]
     },
     "execution_count": 23,
     "metadata": {},
     "output_type": "execute_result"
    }
   ],
   "source": [
    "#Running a Pearson's R test to check the correlation between year built and square footage in a home:\n",
    "corr, p = stats.pearsonr(train.value, train.year_built)\n",
    "#Running a significance test to determine whether we can reject the null:\n",
    "corr, significance_test(p)"
   ]
  },
  {
   "cell_type": "markdown",
   "id": "bb662654",
   "metadata": {},
   "source": [
    "### Stats: Is there a relationship between the year a home was built and its value?\n",
    "- Null Hypothesis: There is no relationship between the year a home was built and the value.\n",
    "- Alternative Hypothesis: There is a significant relationship between the year a home was built and the value.\n",
    "- __Findings: There is sufficient evidence to reject the null and assert that there is a meaningful relationship between construction year and value.__ \n",
    "    - It appears that newer homes are valued higher."
   ]
  },
  {
   "cell_type": "markdown",
   "id": "6a875c33",
   "metadata": {},
   "source": [
    "# Modeling:"
   ]
  },
  {
   "cell_type": "markdown",
   "id": "9db425ee",
   "metadata": {},
   "source": [
    "## Prepping Data for Modeling:"
   ]
  },
  {
   "cell_type": "markdown",
   "id": "666ba7bb",
   "metadata": {},
   "source": [
    "### Splitting Train, Validate, Test Into 'X' and 'y' Sets For Modeling: "
   ]
  },
  {
   "cell_type": "code",
   "execution_count": 24,
   "id": "44e1d6fc",
   "metadata": {},
   "outputs": [],
   "source": [
    "#Splitting Train Set:\n",
    "X_train = train.drop(columns = ['value'])\n",
    "y_train = train.drop(columns = X_train)\n",
    "\n",
    "#Splitting Validate Set:\n",
    "X_validate = validate.drop(columns = ['value'])\n",
    "y_validate = validate.drop(columns = X_validate)\n",
    "\n",
    "#Splitting Test Set:\n",
    "X_test = test.drop(columns = ['value'])\n",
    "y_test = test.drop(columns = X_test)"
   ]
  },
  {
   "cell_type": "markdown",
   "id": "a85609b8",
   "metadata": {},
   "source": [
    "### Encoding County Data for Modeling:"
   ]
  },
  {
   "cell_type": "code",
   "execution_count": 25,
   "id": "934e5568",
   "metadata": {},
   "outputs": [],
   "source": [
    "X_train = wr.encode_zillow_data(X_train)\n",
    "X_validate = wr.encode_zillow_data(X_validate)\n",
    "X_test = wr.encode_zillow_data(X_test)"
   ]
  },
  {
   "cell_type": "markdown",
   "id": "c68e337a",
   "metadata": {},
   "source": [
    "### Scaling Data:"
   ]
  },
  {
   "cell_type": "markdown",
   "id": "e8b7aa32",
   "metadata": {},
   "source": [
    "- don't scale the target (scale everything but the 'y')\n",
    "- a good way to think about scaling things like years or lat/long:\n",
    "    - If you're not going to encode these values as though they were categorical variables, then you need scale it like any other continuous variable.\n",
    "- Future work to develop intuition:\n",
    "    - You could create 2 versions of the model; one in which things like years are continuous, another in which they are categorical, and then put them through to see which works best. This kind of thing is a great way to develop intuition about different models and what makes them better. "
   ]
  },
  {
   "cell_type": "code",
   "execution_count": 26,
   "id": "e24952ce",
   "metadata": {},
   "outputs": [],
   "source": [
    "X_train_scaled, X_validate_scaled, X_test_scaled = wr.scale_zillow_data(X_train, X_validate, X_test)"
   ]
  },
  {
   "cell_type": "markdown",
   "id": "2eb4e2da",
   "metadata": {},
   "source": [
    "### Encoding County Data for Modeling:"
   ]
  },
  {
   "cell_type": "code",
   "execution_count": 27,
   "id": "468cefe1",
   "metadata": {},
   "outputs": [],
   "source": [
    "#X_train_scaled = wr.encode_zillow_data(X_train_scaled)"
   ]
  },
  {
   "cell_type": "code",
   "execution_count": 28,
   "id": "e40181e1",
   "metadata": {
    "scrolled": true
   },
   "outputs": [],
   "source": [
    "#X_train_scaled.head()"
   ]
  },
  {
   "cell_type": "markdown",
   "id": "4f719b82",
   "metadata": {},
   "source": [
    "### Determining the Best k Features:"
   ]
  },
  {
   "cell_type": "code",
   "execution_count": 29,
   "id": "de097476",
   "metadata": {},
   "outputs": [
    {
     "data": {
      "text/html": [
       "<div>\n",
       "<style scoped>\n",
       "    .dataframe tbody tr th:only-of-type {\n",
       "        vertical-align: middle;\n",
       "    }\n",
       "\n",
       "    .dataframe tbody tr th {\n",
       "        vertical-align: top;\n",
       "    }\n",
       "\n",
       "    .dataframe thead th {\n",
       "        text-align: right;\n",
       "    }\n",
       "</style>\n",
       "<table border=\"1\" class=\"dataframe\">\n",
       "  <thead>\n",
       "    <tr style=\"text-align: right;\">\n",
       "      <th></th>\n",
       "      <th>bathrooms</th>\n",
       "      <th>bedrooms</th>\n",
       "      <th>square_feet</th>\n",
       "      <th>year_built</th>\n",
       "      <th>latitude</th>\n",
       "      <th>longitude</th>\n",
       "      <th>lot_size</th>\n",
       "      <th>bath_bed_ratio</th>\n",
       "      <th>county_Orange County</th>\n",
       "      <th>county_Ventura County</th>\n",
       "    </tr>\n",
       "  </thead>\n",
       "  <tbody>\n",
       "    <tr>\n",
       "      <th>52424</th>\n",
       "      <td>0.000000</td>\n",
       "      <td>0.142857</td>\n",
       "      <td>0.085751</td>\n",
       "      <td>1949</td>\n",
       "      <td>34.044147</td>\n",
       "      <td>-117.762663</td>\n",
       "      <td>0.000786</td>\n",
       "      <td>0.107143</td>\n",
       "      <td>0</td>\n",
       "      <td>0</td>\n",
       "    </tr>\n",
       "    <tr>\n",
       "      <th>47464</th>\n",
       "      <td>0.142857</td>\n",
       "      <td>0.285714</td>\n",
       "      <td>0.189859</td>\n",
       "      <td>1947</td>\n",
       "      <td>34.116783</td>\n",
       "      <td>-118.068101</td>\n",
       "      <td>0.000950</td>\n",
       "      <td>0.166667</td>\n",
       "      <td>0</td>\n",
       "      <td>0</td>\n",
       "    </tr>\n",
       "    <tr>\n",
       "      <th>49026</th>\n",
       "      <td>0.142857</td>\n",
       "      <td>0.428571</td>\n",
       "      <td>0.173042</td>\n",
       "      <td>1958</td>\n",
       "      <td>34.191748</td>\n",
       "      <td>-118.612943</td>\n",
       "      <td>0.001129</td>\n",
       "      <td>0.107143</td>\n",
       "      <td>0</td>\n",
       "      <td>0</td>\n",
       "    </tr>\n",
       "    <tr>\n",
       "      <th>8675</th>\n",
       "      <td>0.000000</td>\n",
       "      <td>0.285714</td>\n",
       "      <td>0.157638</td>\n",
       "      <td>1950</td>\n",
       "      <td>34.030891</td>\n",
       "      <td>-117.943995</td>\n",
       "      <td>0.002939</td>\n",
       "      <td>0.047619</td>\n",
       "      <td>0</td>\n",
       "      <td>0</td>\n",
       "    </tr>\n",
       "    <tr>\n",
       "      <th>12478</th>\n",
       "      <td>0.285714</td>\n",
       "      <td>0.428571</td>\n",
       "      <td>0.301669</td>\n",
       "      <td>1961</td>\n",
       "      <td>34.153198</td>\n",
       "      <td>-118.543525</td>\n",
       "      <td>0.001984</td>\n",
       "      <td>0.196429</td>\n",
       "      <td>0</td>\n",
       "      <td>0</td>\n",
       "    </tr>\n",
       "  </tbody>\n",
       "</table>\n",
       "</div>"
      ],
      "text/plain": [
       "       bathrooms  bedrooms  square_feet  year_built   latitude   longitude  \\\n",
       "52424   0.000000  0.142857     0.085751        1949  34.044147 -117.762663   \n",
       "47464   0.142857  0.285714     0.189859        1947  34.116783 -118.068101   \n",
       "49026   0.142857  0.428571     0.173042        1958  34.191748 -118.612943   \n",
       "8675    0.000000  0.285714     0.157638        1950  34.030891 -117.943995   \n",
       "12478   0.285714  0.428571     0.301669        1961  34.153198 -118.543525   \n",
       "\n",
       "       lot_size  bath_bed_ratio  county_Orange County  county_Ventura County  \n",
       "52424  0.000786        0.107143                     0                      0  \n",
       "47464  0.000950        0.166667                     0                      0  \n",
       "49026  0.001129        0.107143                     0                      0  \n",
       "8675   0.002939        0.047619                     0                      0  \n",
       "12478  0.001984        0.196429                     0                      0  "
      ]
     },
     "execution_count": 29,
     "metadata": {},
     "output_type": "execute_result"
    }
   ],
   "source": [
    "X_train_scaled.head()"
   ]
  },
  {
   "cell_type": "code",
   "execution_count": 30,
   "id": "1613ec5f",
   "metadata": {
    "scrolled": true
   },
   "outputs": [
    {
     "data": {
      "text/plain": [
       "['bathrooms',\n",
       " 'bedrooms',\n",
       " 'square_feet',\n",
       " 'year_built',\n",
       " 'latitude',\n",
       " 'longitude',\n",
       " 'lot_size',\n",
       " 'bath_bed_ratio',\n",
       " 'county_Orange County',\n",
       " 'county_Ventura County']"
      ]
     },
     "execution_count": 30,
     "metadata": {},
     "output_type": "execute_result"
    }
   ],
   "source": [
    "k_features = ex.select_k_features(X_train_scaled, y_train, 10)\n",
    "k_features"
   ]
  },
  {
   "cell_type": "markdown",
   "id": "8a8ec633",
   "metadata": {},
   "source": [
    "## Using Recursive Feature Elimination to Find Best Features:\n",
    "    - Seeing as this dataset is small, I'm okay with using RFE for more accuracy, as\n",
    "    it's not too intensive."
   ]
  },
  {
   "cell_type": "code",
   "execution_count": 31,
   "id": "582c1ff3",
   "metadata": {},
   "outputs": [],
   "source": [
    "def rfe_regression(X_train_scaled, y_train, n):\n",
    "    '''\n",
    "    Takes in a scaled X_set of a DataFrame, an un-scaled\n",
    "    y_set of the DataFrame, and 'n' for the number of desired\n",
    "    features to be selected for modeling. Returns a list of \n",
    "    the n best features for the regression model.\n",
    "    '''\n",
    "    # Creating the Regression Object:\n",
    "    lm = LinearRegression()\n",
    "    # create the rfe object, indicating the ML object (lm) and the number of features I want to use: \n",
    "    rfe = RFE(lm, n_features_to_select=10)\n",
    "    # fit the data using RFE\n",
    "    rfe.fit(X_train_scaled, y_train)\n",
    "    # Create the boolean mask that will select best columns:\n",
    "    feature_mask = rfe.support_\n",
    "    # Return the list of selected columns: \n",
    "    rfe_feature = X_train_scaled.iloc[:,feature_mask].columns.tolist()\n",
    "    return rfe_feature"
   ]
  },
  {
   "cell_type": "code",
   "execution_count": 32,
   "id": "991b4f90",
   "metadata": {},
   "outputs": [
    {
     "data": {
      "text/plain": [
       "['bathrooms',\n",
       " 'bedrooms',\n",
       " 'square_feet',\n",
       " 'year_built',\n",
       " 'latitude',\n",
       " 'longitude',\n",
       " 'lot_size',\n",
       " 'bath_bed_ratio',\n",
       " 'county_Orange County',\n",
       " 'county_Ventura County']"
      ]
     },
     "execution_count": 32,
     "metadata": {},
     "output_type": "execute_result"
    }
   ],
   "source": [
    "rfe_regression = rfe_regression(X_train_scaled, y_train, 10)\n",
    "rfe_regression"
   ]
  },
  {
   "cell_type": "markdown",
   "id": "80422648",
   "metadata": {},
   "source": [
    "## Baseline Model:\n",
    "- It's important to note here that there is no \"machine learning\" happening with this model; all it is doing is finding the mean (or median) assessed home value and saving that to a new column in the DataFrame."
   ]
  },
  {
   "cell_type": "markdown",
   "id": "8fbaf374",
   "metadata": {},
   "source": [
    "### Mean Baseline:"
   ]
  },
  {
   "cell_type": "code",
   "execution_count": 33,
   "id": "88e1d649",
   "metadata": {},
   "outputs": [],
   "source": [
    "#Adding mean baseline value to y_train:\n",
    "y_train['baseline_mean'] = y_train.value.mean()\n",
    "#Adding mean baseline value to y_validate:\n",
    "y_validate['baseline_mean'] = y_validate.value.mean()"
   ]
  },
  {
   "cell_type": "markdown",
   "id": "d51655cc",
   "metadata": {},
   "source": [
    "### Median Baseline:"
   ]
  },
  {
   "cell_type": "code",
   "execution_count": 34,
   "id": "048f6928",
   "metadata": {},
   "outputs": [],
   "source": [
    "#Adding median baseline value to y_train:\n",
    "y_train['baseline_median'] = y_train.value.median()\n",
    "#Adding median baseline value to y_validate:\n",
    "y_validate['baseline_median'] = y_validate.value.median()"
   ]
  },
  {
   "cell_type": "markdown",
   "id": "fb8df1ed",
   "metadata": {},
   "source": [
    "### Calculating RMSE for Baselines:"
   ]
  },
  {
   "cell_type": "code",
   "execution_count": 35,
   "id": "f6adf751",
   "metadata": {},
   "outputs": [
    {
     "data": {
      "text/html": [
       "<div>\n",
       "<style scoped>\n",
       "    .dataframe tbody tr th:only-of-type {\n",
       "        vertical-align: middle;\n",
       "    }\n",
       "\n",
       "    .dataframe tbody tr th {\n",
       "        vertical-align: top;\n",
       "    }\n",
       "\n",
       "    .dataframe thead th {\n",
       "        text-align: right;\n",
       "    }\n",
       "</style>\n",
       "<table border=\"1\" class=\"dataframe\">\n",
       "  <thead>\n",
       "    <tr style=\"text-align: right;\">\n",
       "      <th></th>\n",
       "      <th>model</th>\n",
       "      <th>RMSE_train</th>\n",
       "      <th>RMSE_validate</th>\n",
       "    </tr>\n",
       "  </thead>\n",
       "  <tbody>\n",
       "    <tr>\n",
       "      <th>0</th>\n",
       "      <td>baseline_mean</td>\n",
       "      <td>312398.217352</td>\n",
       "      <td>312027.431326</td>\n",
       "    </tr>\n",
       "  </tbody>\n",
       "</table>\n",
       "</div>"
      ],
      "text/plain": [
       "           model     RMSE_train  RMSE_validate\n",
       "0  baseline_mean  312398.217352  312027.431326"
      ]
     },
     "execution_count": 35,
     "metadata": {},
     "output_type": "execute_result"
    }
   ],
   "source": [
    "# Creating an empty list for baseline results:\n",
    "results = []\n",
    "\n",
    "# Creating a dictionary of baseline mean values:\n",
    "baseline_mean = {\n",
    "    'model':'baseline_mean',\n",
    "    'RMSE_train': mean_squared_error(y_train['value'], y_train['baseline_mean']) ** 0.5,\n",
    "    'RMSE_validate': mean_squared_error(y_validate['value'], y_validate['baseline_mean'])** 0.5\n",
    "}\n",
    "#Appending baseline mean to results list:\n",
    "results.append(baseline_mean)\n",
    "\n",
    "#Creating a DataFrame from the list of result dictionaries:\n",
    "results = pd.DataFrame(results)\n",
    "results"
   ]
  },
  {
   "cell_type": "markdown",
   "id": "6de19e85",
   "metadata": {},
   "source": [
    "### Baseline Takeaways:\n",
    "- The __Mean__ Baseline has a lower RMSE, so I will use that as my baseline for comparison with other models."
   ]
  },
  {
   "cell_type": "markdown",
   "id": "c987c12f",
   "metadata": {},
   "source": [
    "## LinearRegression (OLS):"
   ]
  },
  {
   "cell_type": "code",
   "execution_count": 36,
   "id": "b6dc889b",
   "metadata": {},
   "outputs": [
    {
     "data": {
      "text/html": [
       "<div>\n",
       "<style scoped>\n",
       "    .dataframe tbody tr th:only-of-type {\n",
       "        vertical-align: middle;\n",
       "    }\n",
       "\n",
       "    .dataframe tbody tr th {\n",
       "        vertical-align: top;\n",
       "    }\n",
       "\n",
       "    .dataframe thead th {\n",
       "        text-align: right;\n",
       "    }\n",
       "</style>\n",
       "<table border=\"1\" class=\"dataframe\">\n",
       "  <thead>\n",
       "    <tr style=\"text-align: right;\">\n",
       "      <th></th>\n",
       "      <th>model</th>\n",
       "      <th>RMSE_train</th>\n",
       "      <th>RMSE_validate</th>\n",
       "    </tr>\n",
       "  </thead>\n",
       "  <tbody>\n",
       "    <tr>\n",
       "      <th>0</th>\n",
       "      <td>baseline_mean</td>\n",
       "      <td>312398.217352</td>\n",
       "      <td>312027.431326</td>\n",
       "    </tr>\n",
       "    <tr>\n",
       "      <th>1</th>\n",
       "      <td>ols_regression</td>\n",
       "      <td>247406.285257</td>\n",
       "      <td>250296.392121</td>\n",
       "    </tr>\n",
       "  </tbody>\n",
       "</table>\n",
       "</div>"
      ],
      "text/plain": [
       "            model     RMSE_train  RMSE_validate\n",
       "0   baseline_mean  312398.217352  312027.431326\n",
       "1  ols_regression  247406.285257  250296.392121"
      ]
     },
     "execution_count": 36,
     "metadata": {},
     "output_type": "execute_result"
    }
   ],
   "source": [
    "#Creating an empty list for the error calculations:\n",
    "error = []\n",
    "\n",
    "# Creating the Model Object:\n",
    "lm = LinearRegression(normalize=True)\n",
    "\n",
    "# Fitting the model to the value in the training set:\n",
    "lm.fit(X_train_scaled, y_train.value)\n",
    "\n",
    "# Using OLS to make predictions on training set:\n",
    "y_train['OLS_pred'] = lm.predict(X_train_scaled)\n",
    "\n",
    "# Calculating the RMSE for train:\n",
    "rmse_train = mean_squared_error(y_train.value, y_train.OLS_pred)**(0.5)\n",
    "\n",
    "# Using OLS to make predictions on validate set:\n",
    "y_validate['OLS_pred'] = lm.predict(X_validate_scaled)\n",
    "\n",
    "# Calculating the RMSE for validate:\n",
    "rmse_validate = mean_squared_error(y_validate.value, y_validate.OLS_pred)**(0.5)\n",
    "\n",
    "#Creating a dictionary of ols_regression stats:\n",
    "ols_regression = {\n",
    "    'model':'ols_regression',\n",
    "    'RMSE_train': mean_squared_error(y_train['value'], y_train['OLS_pred'])**(0.5),\n",
    "    'RMSE_validate': mean_squared_error(y_validate['value'], y_validate['OLS_pred'])**(0.5)\n",
    "}\n",
    "\n",
    "#Adding the ols_regression stats to the empty list:\n",
    "error.append(ols_regression)\n",
    "#Converting the list to a DataFrame:\n",
    "error = pd.DataFrame(error)\n",
    "\n",
    "#Concatenating the RMSE DataFrames, ignoring index so it auto-updates in the final DataFrame:\n",
    "results = pd.concat([results, error], ignore_index = True)\n",
    "results"
   ]
  },
  {
   "cell_type": "markdown",
   "id": "f2c79da0",
   "metadata": {},
   "source": [
    "## LassoLars:"
   ]
  },
  {
   "cell_type": "code",
   "execution_count": 37,
   "id": "0fee9a65",
   "metadata": {},
   "outputs": [
    {
     "data": {
      "text/html": [
       "<div>\n",
       "<style scoped>\n",
       "    .dataframe tbody tr th:only-of-type {\n",
       "        vertical-align: middle;\n",
       "    }\n",
       "\n",
       "    .dataframe tbody tr th {\n",
       "        vertical-align: top;\n",
       "    }\n",
       "\n",
       "    .dataframe thead th {\n",
       "        text-align: right;\n",
       "    }\n",
       "</style>\n",
       "<table border=\"1\" class=\"dataframe\">\n",
       "  <thead>\n",
       "    <tr style=\"text-align: right;\">\n",
       "      <th></th>\n",
       "      <th>model</th>\n",
       "      <th>RMSE_train</th>\n",
       "      <th>RMSE_validate</th>\n",
       "    </tr>\n",
       "  </thead>\n",
       "  <tbody>\n",
       "    <tr>\n",
       "      <th>0</th>\n",
       "      <td>baseline_mean</td>\n",
       "      <td>312398.217352</td>\n",
       "      <td>312027.431326</td>\n",
       "    </tr>\n",
       "    <tr>\n",
       "      <th>1</th>\n",
       "      <td>ols_regression</td>\n",
       "      <td>247406.285257</td>\n",
       "      <td>250296.392121</td>\n",
       "    </tr>\n",
       "    <tr>\n",
       "      <th>2</th>\n",
       "      <td>LassoLars</td>\n",
       "      <td>247412.497945</td>\n",
       "      <td>250313.604628</td>\n",
       "    </tr>\n",
       "  </tbody>\n",
       "</table>\n",
       "</div>"
      ],
      "text/plain": [
       "            model     RMSE_train  RMSE_validate\n",
       "0   baseline_mean  312398.217352  312027.431326\n",
       "1  ols_regression  247406.285257  250296.392121\n",
       "2       LassoLars  247412.497945  250313.604628"
      ]
     },
     "execution_count": 37,
     "metadata": {},
     "output_type": "execute_result"
    }
   ],
   "source": [
    "#Creating an empty list for the error calculations:\n",
    "error = []\n",
    "\n",
    "# Creating the Model Object:\n",
    "lars = LassoLars(alpha=1)\n",
    "\n",
    "# Fitting the model object to the training set:\n",
    "lars.fit(X_train_scaled, y_train.value)\n",
    "\n",
    "# Using the LassoLars model to make predictions on the training set:\n",
    "y_train['lasso_pred'] = lars.predict(X_train_scaled)\n",
    "\n",
    "# Calculating the RMSE for the training set:\n",
    "rmse_train = mean_squared_error(y_train.value, y_train.lasso_pred) ** (0.5)\n",
    "\n",
    "# Using the LassoLars model to make predictions on the validate set:\n",
    "y_validate['lasso_pred'] = lars.predict(X_validate_scaled)\n",
    "\n",
    "# Calculating the RMSE for the validate set:\n",
    "rmse_validate = mean_squared_error(y_validate.value, y_validate.lasso_pred) ** (0.5)\n",
    "\n",
    "#Creating a dictionary of LassoLars stats:\n",
    "lasso_lars = {\n",
    "    'model':'LassoLars',\n",
    "    'RMSE_train': mean_squared_error(y_train['value'], y_train['lasso_pred'])**(0.5),\n",
    "    'RMSE_validate': mean_squared_error(y_validate['value'], y_validate['lasso_pred'])**(0.5)\n",
    "}\n",
    "\n",
    "#print(\"RMSE for Lasso + Lars\\nTraining/In-Sample: \", rmse_train, \n",
    "      #\"\\nValidation/Out-of-Sample: \", rmse_validate)\n",
    "\n",
    "#Adding the lasso_lars stats to the empty list:\n",
    "error.append(lasso_lars)\n",
    "#Converting the list to a DataFrame:\n",
    "error = pd.DataFrame(error)\n",
    "\n",
    "#Concatenating the RMSE DataFrames, ignoring index so it auto-updates in the final DataFrame:\n",
    "results = pd.concat([results, error], ignore_index = True)\n",
    "results"
   ]
  },
  {
   "cell_type": "markdown",
   "id": "64c2f094",
   "metadata": {},
   "source": [
    "## Tweedie Regressor:"
   ]
  },
  {
   "cell_type": "code",
   "execution_count": 38,
   "id": "e642872d",
   "metadata": {},
   "outputs": [
    {
     "data": {
      "text/html": [
       "<div>\n",
       "<style scoped>\n",
       "    .dataframe tbody tr th:only-of-type {\n",
       "        vertical-align: middle;\n",
       "    }\n",
       "\n",
       "    .dataframe tbody tr th {\n",
       "        vertical-align: top;\n",
       "    }\n",
       "\n",
       "    .dataframe thead th {\n",
       "        text-align: right;\n",
       "    }\n",
       "</style>\n",
       "<table border=\"1\" class=\"dataframe\">\n",
       "  <thead>\n",
       "    <tr style=\"text-align: right;\">\n",
       "      <th></th>\n",
       "      <th>model</th>\n",
       "      <th>RMSE_train</th>\n",
       "      <th>RMSE_validate</th>\n",
       "    </tr>\n",
       "  </thead>\n",
       "  <tbody>\n",
       "    <tr>\n",
       "      <th>0</th>\n",
       "      <td>baseline_mean</td>\n",
       "      <td>312398.217352</td>\n",
       "      <td>312027.431326</td>\n",
       "    </tr>\n",
       "    <tr>\n",
       "      <th>1</th>\n",
       "      <td>ols_regression</td>\n",
       "      <td>247406.285257</td>\n",
       "      <td>250296.392121</td>\n",
       "    </tr>\n",
       "    <tr>\n",
       "      <th>2</th>\n",
       "      <td>LassoLars</td>\n",
       "      <td>247412.497945</td>\n",
       "      <td>250313.604628</td>\n",
       "    </tr>\n",
       "    <tr>\n",
       "      <th>3</th>\n",
       "      <td>tweedie_regressor</td>\n",
       "      <td>312398.217352</td>\n",
       "      <td>312028.817314</td>\n",
       "    </tr>\n",
       "  </tbody>\n",
       "</table>\n",
       "</div>"
      ],
      "text/plain": [
       "               model     RMSE_train  RMSE_validate\n",
       "0      baseline_mean  312398.217352  312027.431326\n",
       "1     ols_regression  247406.285257  250296.392121\n",
       "2          LassoLars  247412.497945  250313.604628\n",
       "3  tweedie_regressor  312398.217352  312028.817314"
      ]
     },
     "execution_count": 38,
     "metadata": {},
     "output_type": "execute_result"
    }
   ],
   "source": [
    "#Creating an empty list for the error calculations:\n",
    "error = []\n",
    "\n",
    "# Creating the Tweedie Regression model object:\n",
    "glm = TweedieRegressor(power=3, alpha=0)\n",
    "\n",
    "# Fitting the regressor model to the training set:\n",
    "glm.fit(X_train_scaled, y_train.value)\n",
    "\n",
    "# Using Tweedie Regressor to make predictions on training set:\n",
    "y_train['tweedie_pred'] = glm.predict(X_train)\n",
    "\n",
    "# Calculating RMSE for training set:\n",
    "rmse_train = mean_squared_error(y_train.value, y_train.tweedie_pred) ** (0.5)\n",
    "\n",
    "# Using Tweedie Regressor to make predictions on validate set:\n",
    "y_validate['tweedie_pred'] = glm.predict(X_validate)\n",
    "\n",
    "# Calculating RMSE for validate set:\n",
    "rmse_validate = mean_squared_error(y_validate.value, y_validate.tweedie_pred) ** (0.5)\n",
    "\n",
    "#Creating a dictionary of Tweedie Regressor stats:\n",
    "tweedie_regressor = {\n",
    "    'model':'tweedie_regressor',\n",
    "    'RMSE_train': mean_squared_error(y_train['value'], y_train['tweedie_pred']) ** (0.5),\n",
    "    'RMSE_validate': mean_squared_error(y_validate['value'], y_validate['tweedie_pred']) ** (0.5)\n",
    "}\n",
    "\n",
    "#Adding the tweedie_regressor stats to the empty list:\n",
    "error.append(tweedie_regressor)\n",
    "#Converting the list to a DataFrame:\n",
    "error = pd.DataFrame(error)\n",
    "\n",
    "#Concatenating the RMSE DataFrames, ignoring index so it auto-updates in the final DataFrame:\n",
    "results = pd.concat([results, error], ignore_index = True)\n",
    "results"
   ]
  },
  {
   "cell_type": "markdown",
   "id": "6b0a114b",
   "metadata": {},
   "source": [
    "### Tweedie Takeaways:\n",
    "- The distribution of this data seems to most closely resemble an inverse gaussian distribution, so the power was set to 3. \n",
    "- The tweedie regressor basically appears to be nearly identical to baseline. "
   ]
  },
  {
   "cell_type": "markdown",
   "id": "22978b24",
   "metadata": {},
   "source": [
    "## Polynomial Regression:"
   ]
  },
  {
   "cell_type": "markdown",
   "id": "187d0d85",
   "metadata": {},
   "source": [
    "### Polynomial Features:"
   ]
  },
  {
   "cell_type": "code",
   "execution_count": 39,
   "id": "e6e57665",
   "metadata": {},
   "outputs": [],
   "source": [
    "# make the polynomial features to get a new set of features\n",
    "pf = PolynomialFeatures(degree = 2)\n",
    "\n",
    "# fit and transform X_train_scaled\n",
    "X_train_degree2 = pf.fit_transform(X_train_scaled)\n",
    "\n",
    "# transform X_validate_scaled & X_test_scaled\n",
    "X_validate_degree2 = pf.transform(X_validate)\n",
    "X_test_degree2 = pf.transform(X_test_scaled)"
   ]
  },
  {
   "cell_type": "markdown",
   "id": "8c51231f",
   "metadata": {},
   "source": [
    "### Linear Regression with Polynomial Features:"
   ]
  },
  {
   "cell_type": "code",
   "execution_count": 40,
   "id": "cf19a75c",
   "metadata": {},
   "outputs": [
    {
     "data": {
      "text/html": [
       "<div>\n",
       "<style scoped>\n",
       "    .dataframe tbody tr th:only-of-type {\n",
       "        vertical-align: middle;\n",
       "    }\n",
       "\n",
       "    .dataframe tbody tr th {\n",
       "        vertical-align: top;\n",
       "    }\n",
       "\n",
       "    .dataframe thead th {\n",
       "        text-align: right;\n",
       "    }\n",
       "</style>\n",
       "<table border=\"1\" class=\"dataframe\">\n",
       "  <thead>\n",
       "    <tr style=\"text-align: right;\">\n",
       "      <th></th>\n",
       "      <th>model</th>\n",
       "      <th>RMSE_train</th>\n",
       "      <th>RMSE_validate</th>\n",
       "    </tr>\n",
       "  </thead>\n",
       "  <tbody>\n",
       "    <tr>\n",
       "      <th>0</th>\n",
       "      <td>baseline_mean</td>\n",
       "      <td>312398.217352</td>\n",
       "      <td>3.120274e+05</td>\n",
       "    </tr>\n",
       "    <tr>\n",
       "      <th>1</th>\n",
       "      <td>ols_regression</td>\n",
       "      <td>247406.285257</td>\n",
       "      <td>2.502964e+05</td>\n",
       "    </tr>\n",
       "    <tr>\n",
       "      <th>2</th>\n",
       "      <td>LassoLars</td>\n",
       "      <td>247412.497945</td>\n",
       "      <td>2.503136e+05</td>\n",
       "    </tr>\n",
       "    <tr>\n",
       "      <th>3</th>\n",
       "      <td>tweedie_regressor</td>\n",
       "      <td>312398.217352</td>\n",
       "      <td>3.120288e+05</td>\n",
       "    </tr>\n",
       "    <tr>\n",
       "      <th>4</th>\n",
       "      <td>poly_regressor</td>\n",
       "      <td>239746.430707</td>\n",
       "      <td>1.301522e+18</td>\n",
       "    </tr>\n",
       "  </tbody>\n",
       "</table>\n",
       "</div>"
      ],
      "text/plain": [
       "               model     RMSE_train  RMSE_validate\n",
       "0      baseline_mean  312398.217352   3.120274e+05\n",
       "1     ols_regression  247406.285257   2.502964e+05\n",
       "2          LassoLars  247412.497945   2.503136e+05\n",
       "3  tweedie_regressor  312398.217352   3.120288e+05\n",
       "4     poly_regressor  239746.430707   1.301522e+18"
      ]
     },
     "execution_count": 40,
     "metadata": {},
     "output_type": "execute_result"
    }
   ],
   "source": [
    "#Creating an empty list for the error calculations:\n",
    "error = []\n",
    "\n",
    "# create the model object\n",
    "lm2 = LinearRegression(normalize=True)\n",
    "\n",
    "# fit the model to our training data. We must specify the column in y_train, \n",
    "# since we have converted it to a dataframe from a series! \n",
    "lm2.fit(X_train_degree2, y_train.value)\n",
    "\n",
    "# predict train\n",
    "y_train['poly_pred'] = lm2.predict(X_train_degree2)\n",
    "\n",
    "# evaluate: rmse\n",
    "rmse_train = mean_squared_error(y_train.value, y_train.poly_pred) ** 0.5\n",
    "\n",
    "# predict validate\n",
    "y_validate['poly_pred'] = lm2.predict(X_validate_degree2)\n",
    "\n",
    "# evaluate: rmse\n",
    "rmse_validate = mean_squared_error(y_validate.value, y_validate.poly_pred) ** 0.5\n",
    "\n",
    "#Creating a dictionary of Tweedie Regressor stats:\n",
    "polynomial_regressor = {\n",
    "    'model':'poly_regressor',\n",
    "    'RMSE_train': mean_squared_error(y_train['value'], y_train['poly_pred']) ** (0.5),\n",
    "    'RMSE_validate': mean_squared_error(y_validate['value'], y_validate['poly_pred']) ** (0.5)\n",
    "}\n",
    "\n",
    "#Adding the tweedie_regressor stats to the empty list:\n",
    "error.append(polynomial_regressor)\n",
    "#Converting the list to a DataFrame:\n",
    "error = pd.DataFrame(error)\n",
    "\n",
    "#Concatenating the RMSE DataFrames, ignoring index so it auto-updates in the final DataFrame:\n",
    "results = pd.concat([results, error], ignore_index = True)\n",
    "results\n",
    "\n",
    "#print(\"RMSE for Polynomial Model, degrees=2\\nTraining/In-Sample: \", rmse_train, \n",
    "     # \"\\nValidation/Out-of-Sample: \", rmse_validate)"
   ]
  },
  {
   "cell_type": "markdown",
   "id": "697f472a",
   "metadata": {},
   "source": [
    "### Poynomial Regression Takeaways:\n",
    "- The RMSE on the training set matches that of the OLS linear regression, but the RMSE on the validate set is orders of magnitude higher. \n",
    "    - This means that the model is severely overfit to the training set and therefore not generalizable. "
   ]
  },
  {
   "cell_type": "markdown",
   "id": "7f080897",
   "metadata": {},
   "source": [
    "## Overall Modeling Takeaways:\n",
    "- It appears that of the 4 non-baseline models, it appears that the OLS regression beats the baseline by the most.\n",
    "- It appears that my OLS model beat the baseline by ~19.8% on the validate set."
   ]
  },
  {
   "cell_type": "code",
   "execution_count": 41,
   "id": "e66df828",
   "metadata": {},
   "outputs": [],
   "source": [
    "ols_performance = (results.RMSE_validate[0] - results.RMSE_validate[1]) / results.RMSE_validate[0]"
   ]
  },
  {
   "cell_type": "code",
   "execution_count": 42,
   "id": "6876fe0e",
   "metadata": {},
   "outputs": [
    {
     "data": {
      "text/plain": [
       "0.19783850074634318"
      ]
     },
     "execution_count": 42,
     "metadata": {},
     "output_type": "execute_result"
    }
   ],
   "source": [
    "ols_performance"
   ]
  },
  {
   "cell_type": "markdown",
   "id": "a71a80fa",
   "metadata": {},
   "source": [
    "## Testing Model Performance on the Test Set:"
   ]
  },
  {
   "cell_type": "markdown",
   "id": "b14d25be",
   "metadata": {},
   "source": [
    "### Generating OLS Regression Prediction for Test and Creating RMSE_test Column:"
   ]
  },
  {
   "cell_type": "code",
   "execution_count": 51,
   "id": "4872628b",
   "metadata": {},
   "outputs": [
    {
     "data": {
      "text/html": [
       "<div>\n",
       "<style scoped>\n",
       "    .dataframe tbody tr th:only-of-type {\n",
       "        vertical-align: middle;\n",
       "    }\n",
       "\n",
       "    .dataframe tbody tr th {\n",
       "        vertical-align: top;\n",
       "    }\n",
       "\n",
       "    .dataframe thead th {\n",
       "        text-align: right;\n",
       "    }\n",
       "</style>\n",
       "<table border=\"1\" class=\"dataframe\">\n",
       "  <thead>\n",
       "    <tr style=\"text-align: right;\">\n",
       "      <th></th>\n",
       "      <th>model</th>\n",
       "      <th>RMSE_train</th>\n",
       "      <th>RMSE_validate</th>\n",
       "      <th>RMSE_test</th>\n",
       "    </tr>\n",
       "  </thead>\n",
       "  <tbody>\n",
       "    <tr>\n",
       "      <th>0</th>\n",
       "      <td>baseline_mean</td>\n",
       "      <td>312398.217352</td>\n",
       "      <td>3.120274e+05</td>\n",
       "      <td>312027.431326</td>\n",
       "    </tr>\n",
       "    <tr>\n",
       "      <th>1</th>\n",
       "      <td>ols_regression</td>\n",
       "      <td>247406.285257</td>\n",
       "      <td>2.502964e+05</td>\n",
       "      <td>NaN</td>\n",
       "    </tr>\n",
       "    <tr>\n",
       "      <th>2</th>\n",
       "      <td>LassoLars</td>\n",
       "      <td>247412.497945</td>\n",
       "      <td>2.503136e+05</td>\n",
       "      <td>NaN</td>\n",
       "    </tr>\n",
       "    <tr>\n",
       "      <th>3</th>\n",
       "      <td>tweedie_regressor</td>\n",
       "      <td>312398.217352</td>\n",
       "      <td>3.120288e+05</td>\n",
       "      <td>NaN</td>\n",
       "    </tr>\n",
       "    <tr>\n",
       "      <th>4</th>\n",
       "      <td>poly_regressor</td>\n",
       "      <td>239746.430707</td>\n",
       "      <td>1.301522e+18</td>\n",
       "      <td>NaN</td>\n",
       "    </tr>\n",
       "    <tr>\n",
       "      <th>5</th>\n",
       "      <td>ols_regression</td>\n",
       "      <td>247406.285257</td>\n",
       "      <td>NaN</td>\n",
       "      <td>251384.566529</td>\n",
       "    </tr>\n",
       "    <tr>\n",
       "      <th>6</th>\n",
       "      <td>ols_regression</td>\n",
       "      <td>247406.285257</td>\n",
       "      <td>NaN</td>\n",
       "      <td>251384.566529</td>\n",
       "    </tr>\n",
       "    <tr>\n",
       "      <th>7</th>\n",
       "      <td>ols_regression</td>\n",
       "      <td>247406.285257</td>\n",
       "      <td>NaN</td>\n",
       "      <td>251384.566529</td>\n",
       "    </tr>\n",
       "  </tbody>\n",
       "</table>\n",
       "</div>"
      ],
      "text/plain": [
       "               model     RMSE_train  RMSE_validate      RMSE_test\n",
       "0      baseline_mean  312398.217352   3.120274e+05  312027.431326\n",
       "1     ols_regression  247406.285257   2.502964e+05            NaN\n",
       "2          LassoLars  247412.497945   2.503136e+05            NaN\n",
       "3  tweedie_regressor  312398.217352   3.120288e+05            NaN\n",
       "4     poly_regressor  239746.430707   1.301522e+18            NaN\n",
       "5     ols_regression  247406.285257            NaN  251384.566529\n",
       "6     ols_regression  247406.285257            NaN  251384.566529\n",
       "7     ols_regression  247406.285257            NaN  251384.566529"
      ]
     },
     "execution_count": 51,
     "metadata": {},
     "output_type": "execute_result"
    }
   ],
   "source": [
    "#Creating an empty list for the error calculations:\n",
    "error = []\n",
    "\n",
    "# Creating the Model Object:\n",
    "lm = LinearRegression(normalize=True)\n",
    "\n",
    "# Fitting the model to the values in the training set:\n",
    "lm.fit(X_train_scaled, y_train.value)\n",
    "\n",
    "# Using OLS to make predictions on training set:\n",
    "y_train['OLS_pred'] = lm.predict(X_train_scaled)\n",
    "\n",
    "# Calculating the RMSE for train:\n",
    "rmse_train = mean_squared_error(y_train.value, y_train.OLS_pred)**(0.5)\n",
    "\n",
    "# Using OLS to make predictions on test set:\n",
    "y_test['OLS_pred'] = lm.predict(X_test_scaled)\n",
    "\n",
    "# Calculating the RMSE for test:\n",
    "rmse_validate = mean_squared_error(y_test.value, y_test.OLS_pred)**(0.5)\n",
    "\n",
    "#Creating a dictionary of ols_regression stats:\n",
    "ols_regression = {\n",
    "    'model':'ols_regression',\n",
    "    'RMSE_train': mean_squared_error(y_train['value'], y_train['OLS_pred'])**(0.5),\n",
    "    'RMSE_test': mean_squared_error(y_test['value'], y_test['OLS_pred'])**(0.5)\n",
    "}\n",
    "\n",
    "#Adding the ols_regression stats to the empty list:\n",
    "error.append(ols_regression)\n",
    "#Converting the list to a DataFrame:\n",
    "error = pd.DataFrame(error)\n",
    "\n",
    "#Concatenating the RMSE DataFrames, ignoring index so it auto-updates in the final DataFrame:\n",
    "results = pd.concat([results, error], ignore_index = True)\n",
    "results"
   ]
  },
  {
   "cell_type": "markdown",
   "id": "011497db",
   "metadata": {},
   "source": [
    "### Generating Baseline Model Prediction for Test Now That RMSE_test Column Exists:\n",
    "- It appears that the model beats the baseline by ~19.44% on the test set."
   ]
  },
  {
   "cell_type": "code",
   "execution_count": null,
   "id": "5aeb83b3",
   "metadata": {},
   "outputs": [],
   "source": [
    "results['RMSE_test'][0] = mean_squared_error(y_validate['value'], y_validate['baseline_mean'])** 0.5\n",
    "results"
   ]
  },
  {
   "cell_type": "code",
   "execution_count": 54,
   "id": "86a8a9d7",
   "metadata": {},
   "outputs": [
    {
     "name": "stdout",
     "output_type": "stream",
     "text": [
      "The model beats the baseline by 19.44%.\n"
     ]
    }
   ],
   "source": [
    "ols_test_performance = (results.RMSE_test[0] - results.RMSE_test[5]) / results.RMSE_validate[0]\n",
    "print(f\"The model beats the baseline by {round((ols_test_performance * 100),2)}%.\")"
   ]
  }
 ],
 "metadata": {
  "kernelspec": {
   "display_name": "Python 3 (ipykernel)",
   "language": "python",
   "name": "python3"
  },
  "language_info": {
   "codemirror_mode": {
    "name": "ipython",
    "version": 3
   },
   "file_extension": ".py",
   "mimetype": "text/x-python",
   "name": "python",
   "nbconvert_exporter": "python",
   "pygments_lexer": "ipython3",
   "version": "3.9.7"
  }
 },
 "nbformat": 4,
 "nbformat_minor": 5
}
