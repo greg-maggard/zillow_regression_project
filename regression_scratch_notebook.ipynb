{
 "cells": [
  {
   "cell_type": "code",
   "execution_count": 1,
   "id": "868b7022",
   "metadata": {},
   "outputs": [],
   "source": [
    "import os\n",
    "\n",
    "import pandas as pd\n",
    "import numpy as np\n",
    "import matplotlib.pyplot as plt\n",
    "import seaborn as sns\n",
    "\n",
    "import wrangle as wr\n",
    "\n",
    "from env import get_db_url"
   ]
  },
  {
   "cell_type": "markdown",
   "id": "0f86588b",
   "metadata": {},
   "source": [
    "# <span style='color:red'> Questions: </span>\n",
    "## - Acquire:\n",
    "- Is it perhaps a bad idea to include the sale date? Would this leave the realm of regression and move into time series analysis?\n",
    "\n",
    "## - Wrangle:\n",
    "- Is it worth splitting all of the functions up in the wrangle.py file?\n",
    "- Would it be circular logic to include the tax amount, calculate the tax rate, and use that as a predictor of sale price?\n",
    "    - The tax value is a product of sale price, so it may be useless/even harmful to include tax rate as a *predictor* of sale price. "
   ]
  },
  {
   "cell_type": "markdown",
   "id": "9527885c",
   "metadata": {},
   "source": [
    "# Acquiring Data:\n",
    "- Acquiring data for *single family homes* that have transaction dates *during the year of 2017.*"
   ]
  },
  {
   "cell_type": "code",
   "execution_count": 2,
   "id": "4bed10b1",
   "metadata": {},
   "outputs": [],
   "source": [
    "query_df = wr.get_zillow_data()"
   ]
  },
  {
   "cell_type": "code",
   "execution_count": 3,
   "id": "1bee7a68",
   "metadata": {},
   "outputs": [],
   "source": [
    "#query_df['bed_bath_ratio'] = df.bedroomcnt / df.bathroomcnt"
   ]
  },
  {
   "cell_type": "code",
   "execution_count": 4,
   "id": "d4c4135f",
   "metadata": {
    "scrolled": true
   },
   "outputs": [
    {
     "data": {
      "text/plain": [
       "1.0"
      ]
     },
     "execution_count": 4,
     "metadata": {},
     "output_type": "execute_result"
    }
   ],
   "source": [
    "#Verifying that the dataset meets the rubric requirement of being 52,441 homes long:\n",
    "query_df.shape[0] / 52441"
   ]
  },
  {
   "cell_type": "code",
   "execution_count": 5,
   "id": "d48f4ae7",
   "metadata": {},
   "outputs": [
    {
     "data": {
      "text/plain": [
       "84"
      ]
     },
     "execution_count": 5,
     "metadata": {},
     "output_type": "execute_result"
    }
   ],
   "source": [
    "query_df[query_df.value != (query_df.land_value + query_df.structure_value)].shape[0]"
   ]
  },
  {
   "cell_type": "code",
   "execution_count": 6,
   "id": "d6cb4148",
   "metadata": {},
   "outputs": [
    {
     "data": {
      "text/plain": [
       "Index(['bathrooms', 'bedrooms', 'value', 'tax_amount', 'square_feet',\n",
       "       'year_built', 'fips', 'latitude', 'longitude', 'lot_size', 'zip_code',\n",
       "       'structure_value', 'land_value', 'sale_date'],\n",
       "      dtype='object')"
      ]
     },
     "execution_count": 6,
     "metadata": {},
     "output_type": "execute_result"
    }
   ],
   "source": [
    "query_df.columns"
   ]
  },
  {
   "cell_type": "code",
   "execution_count": 7,
   "id": "a0d00e0f",
   "metadata": {},
   "outputs": [
    {
     "data": {
      "text/html": [
       "<div>\n",
       "<style scoped>\n",
       "    .dataframe tbody tr th:only-of-type {\n",
       "        vertical-align: middle;\n",
       "    }\n",
       "\n",
       "    .dataframe tbody tr th {\n",
       "        vertical-align: top;\n",
       "    }\n",
       "\n",
       "    .dataframe thead th {\n",
       "        text-align: right;\n",
       "    }\n",
       "</style>\n",
       "<table border=\"1\" class=\"dataframe\">\n",
       "  <thead>\n",
       "    <tr style=\"text-align: right;\">\n",
       "      <th></th>\n",
       "      <th>bathrooms</th>\n",
       "      <th>bedrooms</th>\n",
       "      <th>value</th>\n",
       "      <th>tax_amount</th>\n",
       "      <th>square_feet</th>\n",
       "      <th>year_built</th>\n",
       "      <th>fips</th>\n",
       "      <th>latitude</th>\n",
       "      <th>longitude</th>\n",
       "      <th>lot_size</th>\n",
       "      <th>zip_code</th>\n",
       "      <th>structure_value</th>\n",
       "      <th>land_value</th>\n",
       "      <th>sale_date</th>\n",
       "    </tr>\n",
       "  </thead>\n",
       "  <tbody>\n",
       "    <tr>\n",
       "      <th>0</th>\n",
       "      <td>3.5</td>\n",
       "      <td>4.0</td>\n",
       "      <td>1023282.0</td>\n",
       "      <td>11013.72</td>\n",
       "      <td>3100.0</td>\n",
       "      <td>1998.0</td>\n",
       "      <td>6059.0</td>\n",
       "      <td>33634931.0</td>\n",
       "      <td>-117869207.0</td>\n",
       "      <td>4506.0</td>\n",
       "      <td>96978.0</td>\n",
       "      <td>485713.0</td>\n",
       "      <td>537569.0</td>\n",
       "      <td>2017-01-01</td>\n",
       "    </tr>\n",
       "    <tr>\n",
       "      <th>1</th>\n",
       "      <td>1.0</td>\n",
       "      <td>2.0</td>\n",
       "      <td>464000.0</td>\n",
       "      <td>5672.48</td>\n",
       "      <td>1465.0</td>\n",
       "      <td>1967.0</td>\n",
       "      <td>6111.0</td>\n",
       "      <td>34449266.0</td>\n",
       "      <td>-119281531.0</td>\n",
       "      <td>12647.0</td>\n",
       "      <td>97099.0</td>\n",
       "      <td>88000.0</td>\n",
       "      <td>376000.0</td>\n",
       "      <td>2017-01-01</td>\n",
       "    </tr>\n",
       "    <tr>\n",
       "      <th>2</th>\n",
       "      <td>2.0</td>\n",
       "      <td>3.0</td>\n",
       "      <td>564778.0</td>\n",
       "      <td>6488.30</td>\n",
       "      <td>1243.0</td>\n",
       "      <td>1962.0</td>\n",
       "      <td>6059.0</td>\n",
       "      <td>33886168.0</td>\n",
       "      <td>-117823170.0</td>\n",
       "      <td>8432.0</td>\n",
       "      <td>97078.0</td>\n",
       "      <td>85289.0</td>\n",
       "      <td>479489.0</td>\n",
       "      <td>2017-01-01</td>\n",
       "    </tr>\n",
       "    <tr>\n",
       "      <th>3</th>\n",
       "      <td>3.0</td>\n",
       "      <td>4.0</td>\n",
       "      <td>145143.0</td>\n",
       "      <td>1777.51</td>\n",
       "      <td>2376.0</td>\n",
       "      <td>1970.0</td>\n",
       "      <td>6037.0</td>\n",
       "      <td>34245180.0</td>\n",
       "      <td>-118240722.0</td>\n",
       "      <td>13038.0</td>\n",
       "      <td>96330.0</td>\n",
       "      <td>108918.0</td>\n",
       "      <td>36225.0</td>\n",
       "      <td>2017-01-01</td>\n",
       "    </tr>\n",
       "    <tr>\n",
       "      <th>4</th>\n",
       "      <td>3.0</td>\n",
       "      <td>4.0</td>\n",
       "      <td>773303.0</td>\n",
       "      <td>9516.26</td>\n",
       "      <td>2962.0</td>\n",
       "      <td>1950.0</td>\n",
       "      <td>6037.0</td>\n",
       "      <td>34145202.0</td>\n",
       "      <td>-118179824.0</td>\n",
       "      <td>63000.0</td>\n",
       "      <td>96293.0</td>\n",
       "      <td>276684.0</td>\n",
       "      <td>496619.0</td>\n",
       "      <td>2017-01-01</td>\n",
       "    </tr>\n",
       "  </tbody>\n",
       "</table>\n",
       "</div>"
      ],
      "text/plain": [
       "   bathrooms  bedrooms      value  tax_amount  square_feet  year_built  \\\n",
       "0        3.5       4.0  1023282.0    11013.72       3100.0      1998.0   \n",
       "1        1.0       2.0   464000.0     5672.48       1465.0      1967.0   \n",
       "2        2.0       3.0   564778.0     6488.30       1243.0      1962.0   \n",
       "3        3.0       4.0   145143.0     1777.51       2376.0      1970.0   \n",
       "4        3.0       4.0   773303.0     9516.26       2962.0      1950.0   \n",
       "\n",
       "     fips    latitude    longitude  lot_size  zip_code  structure_value  \\\n",
       "0  6059.0  33634931.0 -117869207.0    4506.0   96978.0         485713.0   \n",
       "1  6111.0  34449266.0 -119281531.0   12647.0   97099.0          88000.0   \n",
       "2  6059.0  33886168.0 -117823170.0    8432.0   97078.0          85289.0   \n",
       "3  6037.0  34245180.0 -118240722.0   13038.0   96330.0         108918.0   \n",
       "4  6037.0  34145202.0 -118179824.0   63000.0   96293.0         276684.0   \n",
       "\n",
       "   land_value   sale_date  \n",
       "0    537569.0  2017-01-01  \n",
       "1    376000.0  2017-01-01  \n",
       "2    479489.0  2017-01-01  \n",
       "3     36225.0  2017-01-01  \n",
       "4    496619.0  2017-01-01  "
      ]
     },
     "execution_count": 7,
     "metadata": {},
     "output_type": "execute_result"
    }
   ],
   "source": [
    "query_df.head()"
   ]
  },
  {
   "cell_type": "code",
   "execution_count": 8,
   "id": "3cad7ff2",
   "metadata": {},
   "outputs": [
    {
     "data": {
      "text/plain": [
       "<AxesSubplot:xlabel='latitude', ylabel='longitude'>"
      ]
     },
     "execution_count": 8,
     "metadata": {},
     "output_type": "execute_result"
    },
    {
     "data": {
      "image/png": "[encoded data removed]",
      "text/plain": [
       "<Figure size 432x288 with 1 Axes>"
      ]
     },
     "metadata": {
      "needs_background": "light"
     },
     "output_type": "display_data"
    }
   ],
   "source": [
    "sns.scatterplot(data = query_df, x = query_df.latitude, y = query_df.longitude)"
   ]
  },
  {
   "cell_type": "markdown",
   "id": "c2bb29d3",
   "metadata": {},
   "source": [
    "## Wrangling Data:\n",
    "- General Data Format Cleaning:\n",
    "    - Converting moving decimal left 6 places on latitude and longitude.\n",
    "- Assigning county names to each home, based on the fips code one the record:\n",
    "    - 60370: Los Angeles County\n",
    "    - 60490: Orange County\n",
    "    - 61110: Ventura County\n",
    "- Homes Dropped:\n",
    "    - 0 bedrooms\n",
    "    - 0 bathrooms\n",
    "    - Less than 120 square feet\n",
    "    - More than 10,000 square feet\n",
    "    - Home value over \\\\$1.6 million\n",
    "    - Records containing null values\n",
    "- Columns Created:\n",
    "    - Column displaying the ratios of bedrooms to bathrooms.\n",
    "- This, paired with the other operations and cleaning carried out in the wrangle script, leave 95.4\\% of the data remaining. \n",
    "- I feel comfortable with the omission of this data, as I want to ensure that I'm not excluding too large a chunk of my total set, but do want to be sure that I'm focusing my model on homes that comprise the bulk of Zillow's business. Homes priced in the millions are very clearly not the main focus of Zillow's model, so I don't want to skew it's training by including too many of those. See plot below."
   ]
  },
  {
   "cell_type": "code",
   "execution_count": 9,
   "id": "3d1adbd8",
   "metadata": {},
   "outputs": [],
   "source": [
    "#Acquiring CLEANED data, beyond the initial SQL query:\n",
    "df = wr.wrangle_zillow()"
   ]
  },
  {
   "cell_type": "code",
   "execution_count": 10,
   "id": "7d5d5189",
   "metadata": {},
   "outputs": [
    {
     "data": {
      "text/plain": [
       "0.9471024580004195"
      ]
     },
     "execution_count": 10,
     "metadata": {},
     "output_type": "execute_result"
    }
   ],
   "source": [
    "#Verifying how much of the data was cleaned out (less than 5%):\n",
    "df.shape[0] / query_df.shape[0]"
   ]
  },
  {
   "cell_type": "code",
   "execution_count": 11,
   "id": "4647bdae",
   "metadata": {},
   "outputs": [],
   "source": [
    "# splitting the data into train, validate, and test sets before exploration:\n",
    "train, validate, test = wr.split_zillow_data(df)"
   ]
  },
  {
   "cell_type": "markdown",
   "id": "36791ce9",
   "metadata": {},
   "source": [
    "# Exploring Data:"
   ]
  },
  {
   "cell_type": "markdown",
   "id": "4ffada8b",
   "metadata": {},
   "source": [
    "## Early Hypotheses:\n",
    "- More square footage will lead to more value.\n",
    "- Location will have a significant impact on value.\n",
    "- More bedrooms and more bathrooms will lead to more value.\n",
    "- There will be a relationship between the bath-to-bed ratio and price.\n",
    "    - Homes with higher bath-to-bed ratios will fetch higher prices.\n",
    "- Newer houses will fetch more value."
   ]
  },
  {
   "cell_type": "code",
   "execution_count": 12,
   "id": "9c3d3deb",
   "metadata": {},
   "outputs": [
    {
     "data": {
      "text/html": [
       "<div>\n",
       "<style scoped>\n",
       "    .dataframe tbody tr th:only-of-type {\n",
       "        vertical-align: middle;\n",
       "    }\n",
       "\n",
       "    .dataframe tbody tr th {\n",
       "        vertical-align: top;\n",
       "    }\n",
       "\n",
       "    .dataframe thead th {\n",
       "        text-align: right;\n",
       "    }\n",
       "</style>\n",
       "<table border=\"1\" class=\"dataframe\">\n",
       "  <thead>\n",
       "    <tr style=\"text-align: right;\">\n",
       "      <th></th>\n",
       "      <th>bathrooms</th>\n",
       "      <th>bedrooms</th>\n",
       "      <th>value</th>\n",
       "      <th>tax_amount</th>\n",
       "      <th>square_feet</th>\n",
       "      <th>year_built</th>\n",
       "      <th>latitude</th>\n",
       "      <th>longitude</th>\n",
       "      <th>lot_size</th>\n",
       "      <th>zip_code</th>\n",
       "      <th>structure_value</th>\n",
       "      <th>land_value</th>\n",
       "      <th>sale_date</th>\n",
       "      <th>county</th>\n",
       "      <th>bath_bed_ratio</th>\n",
       "    </tr>\n",
       "  </thead>\n",
       "  <tbody>\n",
       "    <tr>\n",
       "      <th>18435</th>\n",
       "      <td>2.0</td>\n",
       "      <td>3</td>\n",
       "      <td>380732.0</td>\n",
       "      <td>5150.85</td>\n",
       "      <td>1286.0</td>\n",
       "      <td>1970</td>\n",
       "      <td>33.848519</td>\n",
       "      <td>-118.249615</td>\n",
       "      <td>5113.0</td>\n",
       "      <td>96230.0</td>\n",
       "      <td>153272.0</td>\n",
       "      <td>227460.0</td>\n",
       "      <td>2017-04-18</td>\n",
       "      <td>Los Angeles County</td>\n",
       "      <td>0.666667</td>\n",
       "    </tr>\n",
       "    <tr>\n",
       "      <th>10503</th>\n",
       "      <td>4.0</td>\n",
       "      <td>5</td>\n",
       "      <td>525269.0</td>\n",
       "      <td>6564.72</td>\n",
       "      <td>2664.0</td>\n",
       "      <td>1954</td>\n",
       "      <td>34.216195</td>\n",
       "      <td>-118.412888</td>\n",
       "      <td>25222.0</td>\n",
       "      <td>96450.0</td>\n",
       "      <td>238249.0</td>\n",
       "      <td>287020.0</td>\n",
       "      <td>2017-03-09</td>\n",
       "      <td>Los Angeles County</td>\n",
       "      <td>0.800000</td>\n",
       "    </tr>\n",
       "    <tr>\n",
       "      <th>45819</th>\n",
       "      <td>4.0</td>\n",
       "      <td>7</td>\n",
       "      <td>135891.0</td>\n",
       "      <td>1742.56</td>\n",
       "      <td>3060.0</td>\n",
       "      <td>1966</td>\n",
       "      <td>33.883593</td>\n",
       "      <td>-117.902149</td>\n",
       "      <td>10560.0</td>\n",
       "      <td>97039.0</td>\n",
       "      <td>100159.0</td>\n",
       "      <td>35732.0</td>\n",
       "      <td>2017-08-17</td>\n",
       "      <td>Orange County</td>\n",
       "      <td>0.571429</td>\n",
       "    </tr>\n",
       "    <tr>\n",
       "      <th>24237</th>\n",
       "      <td>2.0</td>\n",
       "      <td>3</td>\n",
       "      <td>322902.0</td>\n",
       "      <td>3416.38</td>\n",
       "      <td>1375.0</td>\n",
       "      <td>1964</td>\n",
       "      <td>34.274476</td>\n",
       "      <td>-119.176572</td>\n",
       "      <td>6550.0</td>\n",
       "      <td>97084.0</td>\n",
       "      <td>193745.0</td>\n",
       "      <td>129157.0</td>\n",
       "      <td>2017-05-12</td>\n",
       "      <td>Ventura County</td>\n",
       "      <td>0.666667</td>\n",
       "    </tr>\n",
       "    <tr>\n",
       "      <th>18927</th>\n",
       "      <td>3.0</td>\n",
       "      <td>3</td>\n",
       "      <td>1335745.0</td>\n",
       "      <td>15635.14</td>\n",
       "      <td>1936.0</td>\n",
       "      <td>1937</td>\n",
       "      <td>33.749113</td>\n",
       "      <td>-118.121175</td>\n",
       "      <td>1989.0</td>\n",
       "      <td>96237.0</td>\n",
       "      <td>353725.0</td>\n",
       "      <td>982020.0</td>\n",
       "      <td>2017-04-20</td>\n",
       "      <td>Los Angeles County</td>\n",
       "      <td>1.000000</td>\n",
       "    </tr>\n",
       "  </tbody>\n",
       "</table>\n",
       "</div>"
      ],
      "text/plain": [
       "       bathrooms  bedrooms      value  tax_amount  square_feet  year_built  \\\n",
       "18435        2.0         3   380732.0     5150.85       1286.0        1970   \n",
       "10503        4.0         5   525269.0     6564.72       2664.0        1954   \n",
       "45819        4.0         7   135891.0     1742.56       3060.0        1966   \n",
       "24237        2.0         3   322902.0     3416.38       1375.0        1964   \n",
       "18927        3.0         3  1335745.0    15635.14       1936.0        1937   \n",
       "\n",
       "        latitude   longitude  lot_size  zip_code  structure_value  land_value  \\\n",
       "18435  33.848519 -118.249615    5113.0   96230.0         153272.0    227460.0   \n",
       "10503  34.216195 -118.412888   25222.0   96450.0         238249.0    287020.0   \n",
       "45819  33.883593 -117.902149   10560.0   97039.0         100159.0     35732.0   \n",
       "24237  34.274476 -119.176572    6550.0   97084.0         193745.0    129157.0   \n",
       "18927  33.749113 -118.121175    1989.0   96237.0         353725.0    982020.0   \n",
       "\n",
       "        sale_date              county  bath_bed_ratio  \n",
       "18435  2017-04-18  Los Angeles County        0.666667  \n",
       "10503  2017-03-09  Los Angeles County        0.800000  \n",
       "45819  2017-08-17       Orange County        0.571429  \n",
       "24237  2017-05-12      Ventura County        0.666667  \n",
       "18927  2017-04-20  Los Angeles County        1.000000  "
      ]
     },
     "execution_count": 12,
     "metadata": {},
     "output_type": "execute_result"
    }
   ],
   "source": [
    "train.head()"
   ]
  },
  {
   "cell_type": "code",
   "execution_count": 13,
   "id": "1b7f4b3d",
   "metadata": {
    "scrolled": true
   },
   "outputs": [
    {
     "data": {
      "text/plain": [
       "[Text(0.5, 1.0, 'Distribution of Homes by Price')]"
      ]
     },
     "execution_count": 13,
     "metadata": {},
     "output_type": "execute_result"
    },
    {
     "data": {
      "image/png": "[encoded data removed]",
      "text/plain": [
       "<Figure size 432x288 with 1 Axes>"
      ]
     },
     "metadata": {
      "needs_background": "light"
     },
     "output_type": "display_data"
    }
   ],
   "source": [
    "#Visualizing the distribution of homes by price within the train set:\n",
    "sns.histplot(data = train, x = train.value).set(title = 'Distribution of Homes by Price')"
   ]
  }
 ],
 "metadata": {
  "kernelspec": {
   "display_name": "Python 3 (ipykernel)",
   "language": "python",
   "name": "python3"
  },
  "language_info": {
   "codemirror_mode": {
    "name": "ipython",
    "version": 3
   },
   "file_extension": ".py",
   "mimetype": "text/x-python",
   "name": "python",
   "nbconvert_exporter": "python",
   "pygments_lexer": "ipython3",
   "version": "3.9.7"
  }
 },
 "nbformat": 4,
 "nbformat_minor": 5
}
