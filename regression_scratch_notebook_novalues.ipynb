{
 "cells": [
  {
   "cell_type": "code",
   "execution_count": 1,
   "id": "868b7022",
   "metadata": {},
   "outputs": [],
   "source": [
    "import os\n",
    "\n",
    "import pandas as pd\n",
    "import numpy as np\n",
    "import matplotlib.pyplot as plt\n",
    "import seaborn as sns\n",
    "import scipy.stats as stats\n",
    "import warnings\n",
    "warnings.filterwarnings('ignore')\n",
    "\n",
    "α = .05\n",
    "\n",
    "from env import get_db_url\n",
    "import wrangle as wr\n",
    "import explore as ex\n",
    "\n",
    "from stats_toolkit import significance_test\n",
    "from sklearn.metrics import mean_squared_error, r2_score\n",
    "from sklearn.linear_model import LinearRegression\n",
    "from sklearn.feature_selection import RFE"
   ]
  },
  {
   "cell_type": "markdown",
   "id": "9781a394",
   "metadata": {},
   "source": [
    "taxvaluedollarcount is what the county assessor is saying the house is worth for tax purposes"
   ]
  },
  {
   "cell_type": "markdown",
   "id": "0f86588b",
   "metadata": {},
   "source": [
    "# <span style='color:red'> Questions and Key Considerations: </span>\n",
    "## - Acquire:\n",
    "- <span style='color:blue'>The taxvaluedollarcnt is a valuation assigned by a tax assessor for the county's tax purposes __not__ a sale amount</span>\n",
    "- I am leaving taxamount for the sake of exploration, but it needs to be removed before modeling.\n",
    "\n",
    "## - Wrangle:\n",
    "\n",
    "## - Explore:\n",
    "\n",
    "## - Model:\n",
    "- I feel like I'm struggling to understand whether I'm doing this in the right way.\n",
    "- <span style = 'color:red'> It may not be worth keeping lat/long. Would it be worth keeping these as a feature, and if so, would it need to be scaled?</span>\n",
    "- <span style = 'color:red'> I built out my RMSE calculation section __after__ I scaled everything. Is that okay? It appears that others did this before scaling.\n",
    "    - If I were to do an inverse transform on this, would it have the same effect?</span>"
   ]
  },
  {
   "cell_type": "markdown",
   "id": "fd6927a5",
   "metadata": {},
   "source": [
    "# To-Do:\n",
    "\n",
    "## - Explore:\n",
    "- Is there a relationship between year built and value?\n",
    "\n",
    "## - Model: \n",
    "- <span style = 'color:red'> Scale __after__ split. </span>\n",
    "- Figure out if I need to undo scaling before baseline modeling and RMSE calculation.\n",
    "- Look into why it appears other scaled their data, and then used unscaled data in models.\n",
    "- <span style = 'color:red'>Look into whether I need to scale year </span>"
   ]
  },
  {
   "cell_type": "markdown",
   "id": "9527885c",
   "metadata": {},
   "source": [
    "# Acquiring Data:\n",
    "- Acquiring data for *single family homes* that have transaction dates *during the year of 2017.*"
   ]
  },
  {
   "cell_type": "code",
   "execution_count": 2,
   "id": "4bed10b1",
   "metadata": {},
   "outputs": [],
   "source": [
    "query_df = pd.read_sql('''SELECT\n",
    "        bathroomcnt AS bathrooms,\n",
    "        bedroomcnt AS bedrooms,\n",
    "        taxvaluedollarcnt AS value,\n",
    "        calculatedfinishedsquarefeet AS square_feet, \n",
    "        yearbuilt AS year_built,\n",
    "        fips, \n",
    "        latitude,\n",
    "        longitude,\n",
    "        lotsizesquarefeet AS lot_size\n",
    "        FROM properties_2017 \n",
    "        LEFT JOIN predictions_2017 USING (parcelid) \n",
    "        LEFT JOIN propertylandusetype USING (propertylandusetypeid)\n",
    "        WHERE propertylandusedesc IN ('Single Family Residential',\n",
    "        'Inferred Single Family Residential') \n",
    "        AND YEAR(transactiondate) = 2017;''', get_db_url('zillow'))"
   ]
  },
  {
   "cell_type": "code",
   "execution_count": 3,
   "id": "1bee7a68",
   "metadata": {},
   "outputs": [],
   "source": [
    "#query_df['bed_bath_ratio'] = df.bedroomcnt / df.bathroomcnt"
   ]
  },
  {
   "cell_type": "code",
   "execution_count": 4,
   "id": "d4c4135f",
   "metadata": {
    "scrolled": true
   },
   "outputs": [
    {
     "data": {
      "text/plain": [
       "1.0"
      ]
     },
     "execution_count": 4,
     "metadata": {},
     "output_type": "execute_result"
    }
   ],
   "source": [
    "#Verifying that the dataset meets the rubric requirement of being 52,441 homes long:\n",
    "query_df.shape[0] / 52441"
   ]
  },
  {
   "cell_type": "code",
   "execution_count": 5,
   "id": "d48f4ae7",
   "metadata": {
    "scrolled": true
   },
   "outputs": [],
   "source": [
    "#query_df[query_df.value != (query_df.land_value + query_df.structure_value)].shape[0]"
   ]
  },
  {
   "cell_type": "code",
   "execution_count": 6,
   "id": "a0d00e0f",
   "metadata": {
    "scrolled": true
   },
   "outputs": [
    {
     "data": {
      "text/html": [
       "<div>\n",
       "<style scoped>\n",
       "    .dataframe tbody tr th:only-of-type {\n",
       "        vertical-align: middle;\n",
       "    }\n",
       "\n",
       "    .dataframe tbody tr th {\n",
       "        vertical-align: top;\n",
       "    }\n",
       "\n",
       "    .dataframe thead th {\n",
       "        text-align: right;\n",
       "    }\n",
       "</style>\n",
       "<table border=\"1\" class=\"dataframe\">\n",
       "  <thead>\n",
       "    <tr style=\"text-align: right;\">\n",
       "      <th></th>\n",
       "      <th>bathrooms</th>\n",
       "      <th>bedrooms</th>\n",
       "      <th>value</th>\n",
       "      <th>square_feet</th>\n",
       "      <th>year_built</th>\n",
       "      <th>fips</th>\n",
       "      <th>latitude</th>\n",
       "      <th>longitude</th>\n",
       "      <th>lot_size</th>\n",
       "    </tr>\n",
       "  </thead>\n",
       "  <tbody>\n",
       "    <tr>\n",
       "      <th>0</th>\n",
       "      <td>3.5</td>\n",
       "      <td>4.0</td>\n",
       "      <td>1023282.0</td>\n",
       "      <td>3100.0</td>\n",
       "      <td>1998.0</td>\n",
       "      <td>6059.0</td>\n",
       "      <td>33634931.0</td>\n",
       "      <td>-117869207.0</td>\n",
       "      <td>4506.0</td>\n",
       "    </tr>\n",
       "    <tr>\n",
       "      <th>1</th>\n",
       "      <td>1.0</td>\n",
       "      <td>2.0</td>\n",
       "      <td>464000.0</td>\n",
       "      <td>1465.0</td>\n",
       "      <td>1967.0</td>\n",
       "      <td>6111.0</td>\n",
       "      <td>34449266.0</td>\n",
       "      <td>-119281531.0</td>\n",
       "      <td>12647.0</td>\n",
       "    </tr>\n",
       "    <tr>\n",
       "      <th>2</th>\n",
       "      <td>2.0</td>\n",
       "      <td>3.0</td>\n",
       "      <td>564778.0</td>\n",
       "      <td>1243.0</td>\n",
       "      <td>1962.0</td>\n",
       "      <td>6059.0</td>\n",
       "      <td>33886168.0</td>\n",
       "      <td>-117823170.0</td>\n",
       "      <td>8432.0</td>\n",
       "    </tr>\n",
       "    <tr>\n",
       "      <th>3</th>\n",
       "      <td>3.0</td>\n",
       "      <td>4.0</td>\n",
       "      <td>145143.0</td>\n",
       "      <td>2376.0</td>\n",
       "      <td>1970.0</td>\n",
       "      <td>6037.0</td>\n",
       "      <td>34245180.0</td>\n",
       "      <td>-118240722.0</td>\n",
       "      <td>13038.0</td>\n",
       "    </tr>\n",
       "    <tr>\n",
       "      <th>4</th>\n",
       "      <td>3.0</td>\n",
       "      <td>4.0</td>\n",
       "      <td>773303.0</td>\n",
       "      <td>2962.0</td>\n",
       "      <td>1950.0</td>\n",
       "      <td>6037.0</td>\n",
       "      <td>34145202.0</td>\n",
       "      <td>-118179824.0</td>\n",
       "      <td>63000.0</td>\n",
       "    </tr>\n",
       "  </tbody>\n",
       "</table>\n",
       "</div>"
      ],
      "text/plain": [
       "   bathrooms  bedrooms      value  square_feet  year_built    fips  \\\n",
       "0        3.5       4.0  1023282.0       3100.0      1998.0  6059.0   \n",
       "1        1.0       2.0   464000.0       1465.0      1967.0  6111.0   \n",
       "2        2.0       3.0   564778.0       1243.0      1962.0  6059.0   \n",
       "3        3.0       4.0   145143.0       2376.0      1970.0  6037.0   \n",
       "4        3.0       4.0   773303.0       2962.0      1950.0  6037.0   \n",
       "\n",
       "     latitude    longitude  lot_size  \n",
       "0  33634931.0 -117869207.0    4506.0  \n",
       "1  34449266.0 -119281531.0   12647.0  \n",
       "2  33886168.0 -117823170.0    8432.0  \n",
       "3  34245180.0 -118240722.0   13038.0  \n",
       "4  34145202.0 -118179824.0   63000.0  "
      ]
     },
     "execution_count": 6,
     "metadata": {},
     "output_type": "execute_result"
    }
   ],
   "source": [
    "query_df.head()"
   ]
  },
  {
   "cell_type": "code",
   "execution_count": 7,
   "id": "3cad7ff2",
   "metadata": {},
   "outputs": [
    {
     "data": {
      "text/plain": [
       "<AxesSubplot:xlabel='longitude', ylabel='latitude'>"
      ]
     },
     "execution_count": 7,
     "metadata": {},
     "output_type": "execute_result"
    },
    {
     "data": {
      "image/png": "[encoded data removed]",
      "text/plain": [
       "<Figure size 432x288 with 1 Axes>"
      ]
     },
     "metadata": {
      "needs_background": "light"
     },
     "output_type": "display_data"
    }
   ],
   "source": [
    "sns.scatterplot(data = query_df, x = query_df.longitude, y = query_df.latitude)"
   ]
  },
  {
   "cell_type": "markdown",
   "id": "c2bb29d3",
   "metadata": {},
   "source": [
    "## Wrangling Data:\n",
    "- General Data Format Cleaning:\n",
    "    - Converting moving decimal left 6 places on latitude and longitude.\n",
    "- Assigning county names to each home, based on the fips code one the record:\n",
    "    - 60370: Los Angeles County\n",
    "    - 60490: Orange County\n",
    "    - 61110: Ventura County\n",
    "- Homes Dropped:\n",
    "    - 0 bedrooms\n",
    "    - 0 bathrooms\n",
    "    - Less than 120 square feet\n",
    "    - More than 10,000 square feet\n",
    "    - Home value over \\\\$1.6 million\n",
    "    - Records containing null values\n",
    "- Columns Created:\n",
    "    - Column displaying the ratios of bedrooms to bathrooms.\n",
    "- This, paired with the other operations and cleaning carried out in the wrangle script, leave 95.4\\% of the data remaining. \n",
    "- I feel comfortable with the omission of this data, as I want to ensure that I'm not excluding too large a chunk of my total set, but do want to be sure that I'm focusing my model on homes that comprise the bulk of Zillow's business. Homes priced in the millions are very clearly not the main focus of Zillow's model, so I don't want to skew it's training by including too many of those. See plot below."
   ]
  },
  {
   "cell_type": "code",
   "execution_count": 8,
   "id": "3d1adbd8",
   "metadata": {
    "scrolled": true
   },
   "outputs": [],
   "source": [
    "#Acquiring CLEANED data, beyond the initial SQL query:\n",
    "df = wr.wrangle_zillow(query_df)"
   ]
  },
  {
   "cell_type": "code",
   "execution_count": 9,
   "id": "7d5d5189",
   "metadata": {},
   "outputs": [
    {
     "data": {
      "text/plain": [
       "0.9471405960984726"
      ]
     },
     "execution_count": 9,
     "metadata": {},
     "output_type": "execute_result"
    }
   ],
   "source": [
    "#Verifying how much of the data was cleaned out (less than 5%):\n",
    "df.shape[0] / query_df.shape[0]"
   ]
  },
  {
   "cell_type": "code",
   "execution_count": 10,
   "id": "4647bdae",
   "metadata": {},
   "outputs": [],
   "source": [
    "# splitting the data into train, validate, and test sets before exploration:\n",
    "train, validate, test = wr.split_zillow_data(df)"
   ]
  },
  {
   "cell_type": "code",
   "execution_count": 11,
   "id": "d42c7c6b",
   "metadata": {},
   "outputs": [
    {
     "data": {
      "text/html": [
       "<div>\n",
       "<style scoped>\n",
       "    .dataframe tbody tr th:only-of-type {\n",
       "        vertical-align: middle;\n",
       "    }\n",
       "\n",
       "    .dataframe tbody tr th {\n",
       "        vertical-align: top;\n",
       "    }\n",
       "\n",
       "    .dataframe thead th {\n",
       "        text-align: right;\n",
       "    }\n",
       "</style>\n",
       "<table border=\"1\" class=\"dataframe\">\n",
       "  <thead>\n",
       "    <tr style=\"text-align: right;\">\n",
       "      <th></th>\n",
       "      <th>bathrooms</th>\n",
       "      <th>bedrooms</th>\n",
       "      <th>value</th>\n",
       "      <th>square_feet</th>\n",
       "      <th>year_built</th>\n",
       "      <th>latitude</th>\n",
       "      <th>longitude</th>\n",
       "      <th>lot_size</th>\n",
       "      <th>zip_code</th>\n",
       "      <th>structure_value</th>\n",
       "      <th>land_value</th>\n",
       "      <th>county</th>\n",
       "      <th>bath_bed_ratio</th>\n",
       "    </tr>\n",
       "  </thead>\n",
       "  <tbody>\n",
       "    <tr>\n",
       "      <th>10503</th>\n",
       "      <td>4.0</td>\n",
       "      <td>5</td>\n",
       "      <td>525269.0</td>\n",
       "      <td>2664.0</td>\n",
       "      <td>1954</td>\n",
       "      <td>34.216195</td>\n",
       "      <td>-118.412888</td>\n",
       "      <td>25222.0</td>\n",
       "      <td>96450.0</td>\n",
       "      <td>238249.0</td>\n",
       "      <td>287020.0</td>\n",
       "      <td>Los Angeles County</td>\n",
       "      <td>0.800000</td>\n",
       "    </tr>\n",
       "    <tr>\n",
       "      <th>20093</th>\n",
       "      <td>3.0</td>\n",
       "      <td>4</td>\n",
       "      <td>243471.0</td>\n",
       "      <td>2201.0</td>\n",
       "      <td>1990</td>\n",
       "      <td>34.555259</td>\n",
       "      <td>-118.094324</td>\n",
       "      <td>6280.0</td>\n",
       "      <td>97328.0</td>\n",
       "      <td>197173.0</td>\n",
       "      <td>46298.0</td>\n",
       "      <td>Los Angeles County</td>\n",
       "      <td>0.750000</td>\n",
       "    </tr>\n",
       "    <tr>\n",
       "      <th>9071</th>\n",
       "      <td>3.0</td>\n",
       "      <td>4</td>\n",
       "      <td>750594.0</td>\n",
       "      <td>2730.0</td>\n",
       "      <td>1964</td>\n",
       "      <td>34.204889</td>\n",
       "      <td>-118.158852</td>\n",
       "      <td>20413.0</td>\n",
       "      <td>96265.0</td>\n",
       "      <td>206683.0</td>\n",
       "      <td>543911.0</td>\n",
       "      <td>Los Angeles County</td>\n",
       "      <td>0.750000</td>\n",
       "    </tr>\n",
       "    <tr>\n",
       "      <th>33092</th>\n",
       "      <td>2.0</td>\n",
       "      <td>4</td>\n",
       "      <td>464221.0</td>\n",
       "      <td>1991.0</td>\n",
       "      <td>1952</td>\n",
       "      <td>33.798432</td>\n",
       "      <td>-118.103808</td>\n",
       "      <td>6318.0</td>\n",
       "      <td>96247.0</td>\n",
       "      <td>173956.0</td>\n",
       "      <td>290265.0</td>\n",
       "      <td>Los Angeles County</td>\n",
       "      <td>0.500000</td>\n",
       "    </tr>\n",
       "    <tr>\n",
       "      <th>45363</th>\n",
       "      <td>2.0</td>\n",
       "      <td>3</td>\n",
       "      <td>341185.0</td>\n",
       "      <td>944.0</td>\n",
       "      <td>1949</td>\n",
       "      <td>34.091857</td>\n",
       "      <td>-118.199044</td>\n",
       "      <td>4872.0</td>\n",
       "      <td>96012.0</td>\n",
       "      <td>109038.0</td>\n",
       "      <td>232147.0</td>\n",
       "      <td>Los Angeles County</td>\n",
       "      <td>0.666667</td>\n",
       "    </tr>\n",
       "  </tbody>\n",
       "</table>\n",
       "</div>"
      ],
      "text/plain": [
       "       bathrooms  bedrooms     value  square_feet  year_built   latitude  \\\n",
       "10503        4.0         5  525269.0       2664.0        1954  34.216195   \n",
       "20093        3.0         4  243471.0       2201.0        1990  34.555259   \n",
       "9071         3.0         4  750594.0       2730.0        1964  34.204889   \n",
       "33092        2.0         4  464221.0       1991.0        1952  33.798432   \n",
       "45363        2.0         3  341185.0        944.0        1949  34.091857   \n",
       "\n",
       "        longitude  lot_size  zip_code  structure_value  land_value  \\\n",
       "10503 -118.412888   25222.0   96450.0         238249.0    287020.0   \n",
       "20093 -118.094324    6280.0   97328.0         197173.0     46298.0   \n",
       "9071  -118.158852   20413.0   96265.0         206683.0    543911.0   \n",
       "33092 -118.103808    6318.0   96247.0         173956.0    290265.0   \n",
       "45363 -118.199044    4872.0   96012.0         109038.0    232147.0   \n",
       "\n",
       "                   county  bath_bed_ratio  \n",
       "10503  Los Angeles County        0.800000  \n",
       "20093  Los Angeles County        0.750000  \n",
       "9071   Los Angeles County        0.750000  \n",
       "33092  Los Angeles County        0.500000  \n",
       "45363  Los Angeles County        0.666667  "
      ]
     },
     "execution_count": 11,
     "metadata": {},
     "output_type": "execute_result"
    }
   ],
   "source": [
    "train.head()"
   ]
  },
  {
   "cell_type": "markdown",
   "id": "36791ce9",
   "metadata": {},
   "source": [
    "# Exploring Data:"
   ]
  },
  {
   "cell_type": "markdown",
   "id": "4ffada8b",
   "metadata": {},
   "source": [
    "## Early Hypotheses:\n",
    "- More square footage will lead to more value.\n",
    "- Homes with more land will have more value.\n",
    "- Location will have a significant impact on value.\n",
    "- More bedrooms and more bathrooms will lead to more value.\n",
    "- There will be a relationship between the bath-to-bed ratio and price.\n",
    "    - Homes with higher bath-to-bed ratios will fetch higher prices.\n",
    "- Newer houses will fetch more value and be sold less."
   ]
  },
  {
   "cell_type": "markdown",
   "id": "968ea1de",
   "metadata": {},
   "source": [
    "## Key Questions Answered:\n",
    "- Is there a relationship between the county in which a home is built and its value?\n",
    "- Is there a relationship between the year a home is built and the square footage of a home?"
   ]
  },
  {
   "cell_type": "code",
   "execution_count": 12,
   "id": "9c3d3deb",
   "metadata": {},
   "outputs": [
    {
     "data": {
      "text/html": [
       "<div>\n",
       "<style scoped>\n",
       "    .dataframe tbody tr th:only-of-type {\n",
       "        vertical-align: middle;\n",
       "    }\n",
       "\n",
       "    .dataframe tbody tr th {\n",
       "        vertical-align: top;\n",
       "    }\n",
       "\n",
       "    .dataframe thead th {\n",
       "        text-align: right;\n",
       "    }\n",
       "</style>\n",
       "<table border=\"1\" class=\"dataframe\">\n",
       "  <thead>\n",
       "    <tr style=\"text-align: right;\">\n",
       "      <th></th>\n",
       "      <th>bathrooms</th>\n",
       "      <th>bedrooms</th>\n",
       "      <th>value</th>\n",
       "      <th>square_feet</th>\n",
       "      <th>year_built</th>\n",
       "      <th>latitude</th>\n",
       "      <th>longitude</th>\n",
       "      <th>lot_size</th>\n",
       "      <th>zip_code</th>\n",
       "      <th>structure_value</th>\n",
       "      <th>land_value</th>\n",
       "      <th>county</th>\n",
       "      <th>bath_bed_ratio</th>\n",
       "    </tr>\n",
       "  </thead>\n",
       "  <tbody>\n",
       "    <tr>\n",
       "      <th>10503</th>\n",
       "      <td>4.0</td>\n",
       "      <td>5</td>\n",
       "      <td>525269.0</td>\n",
       "      <td>2664.0</td>\n",
       "      <td>1954</td>\n",
       "      <td>34.216195</td>\n",
       "      <td>-118.412888</td>\n",
       "      <td>25222.0</td>\n",
       "      <td>96450.0</td>\n",
       "      <td>238249.0</td>\n",
       "      <td>287020.0</td>\n",
       "      <td>Los Angeles County</td>\n",
       "      <td>0.800000</td>\n",
       "    </tr>\n",
       "    <tr>\n",
       "      <th>20093</th>\n",
       "      <td>3.0</td>\n",
       "      <td>4</td>\n",
       "      <td>243471.0</td>\n",
       "      <td>2201.0</td>\n",
       "      <td>1990</td>\n",
       "      <td>34.555259</td>\n",
       "      <td>-118.094324</td>\n",
       "      <td>6280.0</td>\n",
       "      <td>97328.0</td>\n",
       "      <td>197173.0</td>\n",
       "      <td>46298.0</td>\n",
       "      <td>Los Angeles County</td>\n",
       "      <td>0.750000</td>\n",
       "    </tr>\n",
       "    <tr>\n",
       "      <th>9071</th>\n",
       "      <td>3.0</td>\n",
       "      <td>4</td>\n",
       "      <td>750594.0</td>\n",
       "      <td>2730.0</td>\n",
       "      <td>1964</td>\n",
       "      <td>34.204889</td>\n",
       "      <td>-118.158852</td>\n",
       "      <td>20413.0</td>\n",
       "      <td>96265.0</td>\n",
       "      <td>206683.0</td>\n",
       "      <td>543911.0</td>\n",
       "      <td>Los Angeles County</td>\n",
       "      <td>0.750000</td>\n",
       "    </tr>\n",
       "    <tr>\n",
       "      <th>33092</th>\n",
       "      <td>2.0</td>\n",
       "      <td>4</td>\n",
       "      <td>464221.0</td>\n",
       "      <td>1991.0</td>\n",
       "      <td>1952</td>\n",
       "      <td>33.798432</td>\n",
       "      <td>-118.103808</td>\n",
       "      <td>6318.0</td>\n",
       "      <td>96247.0</td>\n",
       "      <td>173956.0</td>\n",
       "      <td>290265.0</td>\n",
       "      <td>Los Angeles County</td>\n",
       "      <td>0.500000</td>\n",
       "    </tr>\n",
       "    <tr>\n",
       "      <th>45363</th>\n",
       "      <td>2.0</td>\n",
       "      <td>3</td>\n",
       "      <td>341185.0</td>\n",
       "      <td>944.0</td>\n",
       "      <td>1949</td>\n",
       "      <td>34.091857</td>\n",
       "      <td>-118.199044</td>\n",
       "      <td>4872.0</td>\n",
       "      <td>96012.0</td>\n",
       "      <td>109038.0</td>\n",
       "      <td>232147.0</td>\n",
       "      <td>Los Angeles County</td>\n",
       "      <td>0.666667</td>\n",
       "    </tr>\n",
       "  </tbody>\n",
       "</table>\n",
       "</div>"
      ],
      "text/plain": [
       "       bathrooms  bedrooms     value  square_feet  year_built   latitude  \\\n",
       "10503        4.0         5  525269.0       2664.0        1954  34.216195   \n",
       "20093        3.0         4  243471.0       2201.0        1990  34.555259   \n",
       "9071         3.0         4  750594.0       2730.0        1964  34.204889   \n",
       "33092        2.0         4  464221.0       1991.0        1952  33.798432   \n",
       "45363        2.0         3  341185.0        944.0        1949  34.091857   \n",
       "\n",
       "        longitude  lot_size  zip_code  structure_value  land_value  \\\n",
       "10503 -118.412888   25222.0   96450.0         238249.0    287020.0   \n",
       "20093 -118.094324    6280.0   97328.0         197173.0     46298.0   \n",
       "9071  -118.158852   20413.0   96265.0         206683.0    543911.0   \n",
       "33092 -118.103808    6318.0   96247.0         173956.0    290265.0   \n",
       "45363 -118.199044    4872.0   96012.0         109038.0    232147.0   \n",
       "\n",
       "                   county  bath_bed_ratio  \n",
       "10503  Los Angeles County        0.800000  \n",
       "20093  Los Angeles County        0.750000  \n",
       "9071   Los Angeles County        0.750000  \n",
       "33092  Los Angeles County        0.500000  \n",
       "45363  Los Angeles County        0.666667  "
      ]
     },
     "execution_count": 12,
     "metadata": {},
     "output_type": "execute_result"
    }
   ],
   "source": [
    "train.head()"
   ]
  },
  {
   "cell_type": "markdown",
   "id": "fa79e85d",
   "metadata": {},
   "source": [
    "## Visualizing the distribution of homes by price within the train set: "
   ]
  },
  {
   "cell_type": "code",
   "execution_count": 13,
   "id": "1b7f4b3d",
   "metadata": {
    "scrolled": true
   },
   "outputs": [
    {
     "data": {
      "image/png": "[encoded data removed]",
      "text/plain": [
       "<Figure size 432x288 with 1 Axes>"
      ]
     },
     "metadata": {
      "needs_background": "light"
     },
     "output_type": "display_data"
    }
   ],
   "source": [
    "sns.histplot(data = train, x = train.value).set(title = 'Distribution of Homes by Price');"
   ]
  },
  {
   "cell_type": "markdown",
   "id": "9e0fb457",
   "metadata": {},
   "source": [
    "## Visualizing Distribution of Homes by Square Footage:"
   ]
  },
  {
   "cell_type": "code",
   "execution_count": 14,
   "id": "020f9771",
   "metadata": {},
   "outputs": [
    {
     "data": {
      "image/png": "[encoded data removed]",
      "text/plain": [
       "<Figure size 432x288 with 1 Axes>"
      ]
     },
     "metadata": {
      "needs_background": "light"
     },
     "output_type": "display_data"
    }
   ],
   "source": [
    "sns.histplot(data = train, x = train.square_feet).set(title = 'Distribution of Homes by Square Footage');"
   ]
  },
  {
   "cell_type": "markdown",
   "id": "fcfb0376",
   "metadata": {},
   "source": [
    "## Visualizing Distribution of Homes by Bedroom Count:"
   ]
  },
  {
   "cell_type": "code",
   "execution_count": 15,
   "id": "c4fca015",
   "metadata": {
    "scrolled": true
   },
   "outputs": [
    {
     "data": {
      "image/png": "[encoded data removed]",
      "text/plain": [
       "<Figure size 432x288 with 1 Axes>"
      ]
     },
     "metadata": {
      "needs_background": "light"
     },
     "output_type": "display_data"
    }
   ],
   "source": [
    "sns.histplot(data = train, x = train.bedrooms).set(title = 'Distribution of Homes by Bedroom Count');"
   ]
  },
  {
   "cell_type": "markdown",
   "id": "504a991f",
   "metadata": {},
   "source": [
    "## Visualizing Distribution of Homes by Bathroom Count:"
   ]
  },
  {
   "cell_type": "code",
   "execution_count": 16,
   "id": "ffe5a1fa",
   "metadata": {},
   "outputs": [
    {
     "data": {
      "image/png": "[encoded data removed]",
      "text/plain": [
       "<Figure size 432x288 with 1 Axes>"
      ]
     },
     "metadata": {
      "needs_background": "light"
     },
     "output_type": "display_data"
    }
   ],
   "source": [
    "sns.histplot(data = train, x = train.bathrooms).set(title = 'Distribution of Homes by Bathroom Count');"
   ]
  },
  {
   "cell_type": "markdown",
   "id": "db60dd04",
   "metadata": {},
   "source": [
    "## Visualizing Home Value by Ratio of Bathrooms to Bedrooms:"
   ]
  },
  {
   "cell_type": "code",
   "execution_count": 17,
   "id": "08925dbb",
   "metadata": {
    "scrolled": true
   },
   "outputs": [
    {
     "data": {
      "image/png": "[encoded data removed]",
      "text/plain": [
       "<Figure size 432x288 with 1 Axes>"
      ]
     },
     "metadata": {
      "needs_background": "light"
     },
     "output_type": "display_data"
    }
   ],
   "source": [
    "sns.boxplot(data = train, x = train.bedrooms, y = train.value ).set(title = 'Home Values by Ratio of Bathrooms to Bedrooms');"
   ]
  },
  {
   "cell_type": "markdown",
   "id": "19162ad5",
   "metadata": {},
   "source": [
    "## Visualizing Home Values by County:"
   ]
  },
  {
   "cell_type": "code",
   "execution_count": 18,
   "id": "f4b3d8de",
   "metadata": {},
   "outputs": [
    {
     "data": {
      "image/png": "[encoded data removed]",
      "text/plain": [
       "<Figure size 432x288 with 1 Axes>"
      ]
     },
     "metadata": {
      "needs_background": "light"
     },
     "output_type": "display_data"
    }
   ],
   "source": [
    "sns.violinplot(data = train, x = train.county, y = train.value ).set(title = 'Plot of Home Value by County');"
   ]
  },
  {
   "cell_type": "markdown",
   "id": "6f4f3cc0",
   "metadata": {},
   "source": [
    "### Stats: Does County of Residence Have a Meaningful Impact on Value?\n",
    "- Null Hypothesis: There is no relationship between county and home value.\n",
    "- Alternative Hypothesis: There is a significant relationship between county and home value.\n",
    "- __Findings: There is sufficient evidence to reject the null and assert that there is a meaningful relationship between home values and county.__"
   ]
  },
  {
   "cell_type": "code",
   "execution_count": 19,
   "id": "bf07aec6",
   "metadata": {},
   "outputs": [
    {
     "name": "stdout",
     "output_type": "stream",
     "text": [
      "Sufficient evidence -> Reject the null hypothesis.\n"
     ]
    },
    {
     "data": {
      "text/plain": [
       "(None, 2.037937164490527e-198)"
      ]
     },
     "execution_count": 19,
     "metadata": {},
     "output_type": "execute_result"
    }
   ],
   "source": [
    "#Creating Separate DataFrames by County:\n",
    "la_values = train[train.county == 'Los Angeles County'].value\n",
    "orange_values = train[train.county == 'Orange County'].value\n",
    "ventura_values = train[train.county == 'Ventura County'].value\n",
    "\n",
    "#Running a one-way ANOVA (there is a single independent variable - 'county'):\n",
    "f, p = stats.f_oneway(la_values, orange_values, ventura_values)\n",
    "\n",
    "#Printing whether the p-value is less than alpha:\n",
    "significance_test(p), p"
   ]
  },
  {
   "cell_type": "markdown",
   "id": "01d6eb89",
   "metadata": {},
   "source": [
    "## Number of Homes for Sale by County:"
   ]
  },
  {
   "cell_type": "code",
   "execution_count": 20,
   "id": "c7fec400",
   "metadata": {},
   "outputs": [
    {
     "data": {
      "image/png": "[encoded data removed]",
      "text/plain": [
       "<Figure size 432x288 with 1 Axes>"
      ]
     },
     "metadata": {
      "needs_background": "light"
     },
     "output_type": "display_data"
    }
   ],
   "source": [
    "sns.histplot(data = train, x = train.county).set(title = 'Number of Homes for Sale by County');"
   ]
  },
  {
   "cell_type": "markdown",
   "id": "207f0e3b",
   "metadata": {},
   "source": [
    "## Distribution of Homes by Year Built:"
   ]
  },
  {
   "cell_type": "code",
   "execution_count": 21,
   "id": "e1da40e5",
   "metadata": {
    "scrolled": true
   },
   "outputs": [
    {
     "data": {
      "image/png": "[encoded data removed]",
      "text/plain": [
       "<Figure size 432x288 with 1 Axes>"
      ]
     },
     "metadata": {
      "needs_background": "light"
     },
     "output_type": "display_data"
    }
   ],
   "source": [
    "sns.histplot(data = train, x = train.year_built).set(title = 'Number of Homes for Sale by Construction Year');"
   ]
  },
  {
   "cell_type": "markdown",
   "id": "d6142b26",
   "metadata": {},
   "source": [
    "## The Relationship Between the Year a Home Was Built and the Square Footage:"
   ]
  },
  {
   "cell_type": "code",
   "execution_count": 22,
   "id": "d64e3814",
   "metadata": {},
   "outputs": [
    {
     "data": {
      "image/png": "[encoded data removed]",
      "text/plain": [
       "<Figure size 432x432 with 3 Axes>"
      ]
     },
     "metadata": {
      "needs_background": "light"
     },
     "output_type": "display_data"
    }
   ],
   "source": [
    "sns.jointplot(x = \"year_built\", y = \"square_feet\", data = train, kind = 'reg',\n",
    "                  joint_kws = {'line_kws':{'color':'red'}});"
   ]
  },
  {
   "cell_type": "markdown",
   "id": "6e1f6b29",
   "metadata": {},
   "source": [
    "### Stats: Is there a relationship between the year a home was built and the square footage?\n",
    "- Null Hypothesis: There is no relationship between the year a home was built and the square footage.\n",
    "- Alternative Hypothesis: There is a significant relationship between the year a home was built and the square footage.\n",
    "- __Findings: There is sufficient evidence to reject the null and assert that there is a meaningful relationship between construction year and square footage.__ \n",
    "    - It appears that as time has progressed, homes are being built larger."
   ]
  },
  {
   "cell_type": "code",
   "execution_count": 23,
   "id": "16315183",
   "metadata": {},
   "outputs": [
    {
     "name": "stdout",
     "output_type": "stream",
     "text": [
      "Sufficient evidence -> Reject the null hypothesis.\n"
     ]
    },
    {
     "data": {
      "text/plain": [
       "(0.48518230146550184, None)"
      ]
     },
     "execution_count": 23,
     "metadata": {},
     "output_type": "execute_result"
    }
   ],
   "source": [
    "#Running a Pearson's R test to check the correlation between year built and square footage in a home:\n",
    "corr, p = stats.pearsonr(train.square_feet, train.year_built)\n",
    "#Running a significance test to determine whether we can reject the null:\n",
    "corr, significance_test(p)"
   ]
  },
  {
   "cell_type": "markdown",
   "id": "6a875c33",
   "metadata": {},
   "source": [
    "# Modeling:"
   ]
  },
  {
   "cell_type": "markdown",
   "id": "9db425ee",
   "metadata": {},
   "source": [
    "## Prepping Data for Modeling:"
   ]
  },
  {
   "cell_type": "markdown",
   "id": "666ba7bb",
   "metadata": {},
   "source": [
    "### Splitting Train, Validate, Test Into 'X' and 'y' Sets For Modeling: "
   ]
  },
  {
   "cell_type": "code",
   "execution_count": 24,
   "id": "44e1d6fc",
   "metadata": {},
   "outputs": [],
   "source": [
    "#Splitting Train Set:\n",
    "X_train = train.drop(columns = ['value'])\n",
    "y_train = train.drop(columns = X_train)\n",
    "\n",
    "#Splitting Validate Set:\n",
    "X_validate = validate.drop(columns = ['value'])\n",
    "y_validate = validate.drop(columns = X_validate)\n",
    "\n",
    "#Splitting Test Set:\n",
    "X_test = test.drop(columns = ['value'])\n",
    "y_test = test.drop(columns = X_test)"
   ]
  },
  {
   "cell_type": "markdown",
   "id": "44992765",
   "metadata": {},
   "source": [
    "### Encoding County Data for Modeling:"
   ]
  },
  {
   "cell_type": "code",
   "execution_count": 25,
   "id": "3c930ba1",
   "metadata": {},
   "outputs": [],
   "source": [
    "X_train = wr.encode_zillow_data(X_train)\n",
    "X_validate = wr.encode_zillow_data(X_validate)\n",
    "X_test = wr.encode_zillow_data(X_test)"
   ]
  },
  {
   "cell_type": "markdown",
   "id": "ad3b45ea",
   "metadata": {},
   "source": [
    "### Scaling Data:"
   ]
  },
  {
   "cell_type": "markdown",
   "id": "a5eba552",
   "metadata": {},
   "source": [
    "- don't scale the target (scale everything but the 'y')\n",
    "- a good way to think about scaling things like years or lat/long:\n",
    "    - If you're not going to encode these values as though they were categorical variables, then you need scale it like any other continuous variable.\n",
    "- Future work to develop intuition:\n",
    "    - You could create 2 versions of the model; one in which things like years are continuous, another in which they are categorical, and then put them through to see which works best. This kind of thing is a great way to develop intuition about different models and what makes them better. "
   ]
  },
  {
   "cell_type": "code",
   "execution_count": 26,
   "id": "ceacb3c1",
   "metadata": {},
   "outputs": [],
   "source": [
    "X_train_scaled, X_validate_scaled, X_test_scaled = wr.scale_zillow_data(X_train, X_validate, X_test)"
   ]
  },
  {
   "cell_type": "markdown",
   "id": "2eb4e2da",
   "metadata": {},
   "source": [
    "### Encoding County Data for Modeling:"
   ]
  },
  {
   "cell_type": "code",
   "execution_count": 27,
   "id": "468cefe1",
   "metadata": {},
   "outputs": [],
   "source": [
    "#X_train_scaled = wr.encode_zillow_data(X_train_scaled)"
   ]
  },
  {
   "cell_type": "code",
   "execution_count": 28,
   "id": "e40181e1",
   "metadata": {
    "scrolled": true
   },
   "outputs": [],
   "source": [
    "#X_train_scaled.head()"
   ]
  },
  {
   "cell_type": "markdown",
   "id": "4f719b82",
   "metadata": {},
   "source": [
    "### Determining the Best k Features:"
   ]
  },
  {
   "cell_type": "code",
   "execution_count": 29,
   "id": "66ac8a51",
   "metadata": {},
   "outputs": [
    {
     "data": {
      "text/html": [
       "<div>\n",
       "<style scoped>\n",
       "    .dataframe tbody tr th:only-of-type {\n",
       "        vertical-align: middle;\n",
       "    }\n",
       "\n",
       "    .dataframe tbody tr th {\n",
       "        vertical-align: top;\n",
       "    }\n",
       "\n",
       "    .dataframe thead th {\n",
       "        text-align: right;\n",
       "    }\n",
       "</style>\n",
       "<table border=\"1\" class=\"dataframe\">\n",
       "  <thead>\n",
       "    <tr style=\"text-align: right;\">\n",
       "      <th></th>\n",
       "      <th>bathrooms</th>\n",
       "      <th>bedrooms</th>\n",
       "      <th>square_feet</th>\n",
       "      <th>year_built</th>\n",
       "      <th>latitude</th>\n",
       "      <th>longitude</th>\n",
       "      <th>lot_size</th>\n",
       "      <th>zip_code</th>\n",
       "      <th>structure_value</th>\n",
       "      <th>land_value</th>\n",
       "      <th>bath_bed_ratio</th>\n",
       "      <th>county_Orange County</th>\n",
       "      <th>county_Ventura County</th>\n",
       "    </tr>\n",
       "  </thead>\n",
       "  <tbody>\n",
       "    <tr>\n",
       "      <th>10503</th>\n",
       "      <td>0.428571</td>\n",
       "      <td>0.4</td>\n",
       "      <td>0.340749</td>\n",
       "      <td>1954</td>\n",
       "      <td>34.216195</td>\n",
       "      <td>-118.412888</td>\n",
       "      <td>0.003541</td>\n",
       "      <td>96450.0</td>\n",
       "      <td>238249.0</td>\n",
       "      <td>287020.0</td>\n",
       "      <td>0.214286</td>\n",
       "      <td>0</td>\n",
       "      <td>0</td>\n",
       "    </tr>\n",
       "    <tr>\n",
       "      <th>20093</th>\n",
       "      <td>0.285714</td>\n",
       "      <td>0.3</td>\n",
       "      <td>0.277944</td>\n",
       "      <td>1990</td>\n",
       "      <td>34.555259</td>\n",
       "      <td>-118.094324</td>\n",
       "      <td>0.000823</td>\n",
       "      <td>97328.0</td>\n",
       "      <td>197173.0</td>\n",
       "      <td>46298.0</td>\n",
       "      <td>0.196429</td>\n",
       "      <td>0</td>\n",
       "      <td>0</td>\n",
       "    </tr>\n",
       "    <tr>\n",
       "      <th>9071</th>\n",
       "      <td>0.285714</td>\n",
       "      <td>0.3</td>\n",
       "      <td>0.349702</td>\n",
       "      <td>1964</td>\n",
       "      <td>34.204889</td>\n",
       "      <td>-118.158852</td>\n",
       "      <td>0.002851</td>\n",
       "      <td>96265.0</td>\n",
       "      <td>206683.0</td>\n",
       "      <td>543911.0</td>\n",
       "      <td>0.196429</td>\n",
       "      <td>0</td>\n",
       "      <td>0</td>\n",
       "    </tr>\n",
       "    <tr>\n",
       "      <th>33092</th>\n",
       "      <td>0.142857</td>\n",
       "      <td>0.3</td>\n",
       "      <td>0.249457</td>\n",
       "      <td>1952</td>\n",
       "      <td>33.798432</td>\n",
       "      <td>-118.103808</td>\n",
       "      <td>0.000829</td>\n",
       "      <td>96247.0</td>\n",
       "      <td>173956.0</td>\n",
       "      <td>290265.0</td>\n",
       "      <td>0.107143</td>\n",
       "      <td>0</td>\n",
       "      <td>0</td>\n",
       "    </tr>\n",
       "    <tr>\n",
       "      <th>45363</th>\n",
       "      <td>0.142857</td>\n",
       "      <td>0.2</td>\n",
       "      <td>0.107434</td>\n",
       "      <td>1949</td>\n",
       "      <td>34.091857</td>\n",
       "      <td>-118.199044</td>\n",
       "      <td>0.000621</td>\n",
       "      <td>96012.0</td>\n",
       "      <td>109038.0</td>\n",
       "      <td>232147.0</td>\n",
       "      <td>0.166667</td>\n",
       "      <td>0</td>\n",
       "      <td>0</td>\n",
       "    </tr>\n",
       "  </tbody>\n",
       "</table>\n",
       "</div>"
      ],
      "text/plain": [
       "       bathrooms  bedrooms  square_feet  year_built   latitude   longitude  \\\n",
       "10503   0.428571       0.4     0.340749        1954  34.216195 -118.412888   \n",
       "20093   0.285714       0.3     0.277944        1990  34.555259 -118.094324   \n",
       "9071    0.285714       0.3     0.349702        1964  34.204889 -118.158852   \n",
       "33092   0.142857       0.3     0.249457        1952  33.798432 -118.103808   \n",
       "45363   0.142857       0.2     0.107434        1949  34.091857 -118.199044   \n",
       "\n",
       "       lot_size  zip_code  structure_value  land_value  bath_bed_ratio  \\\n",
       "10503  0.003541   96450.0         238249.0    287020.0        0.214286   \n",
       "20093  0.000823   97328.0         197173.0     46298.0        0.196429   \n",
       "9071   0.002851   96265.0         206683.0    543911.0        0.196429   \n",
       "33092  0.000829   96247.0         173956.0    290265.0        0.107143   \n",
       "45363  0.000621   96012.0         109038.0    232147.0        0.166667   \n",
       "\n",
       "       county_Orange County  county_Ventura County  \n",
       "10503                     0                      0  \n",
       "20093                     0                      0  \n",
       "9071                      0                      0  \n",
       "33092                     0                      0  \n",
       "45363                     0                      0  "
      ]
     },
     "execution_count": 29,
     "metadata": {},
     "output_type": "execute_result"
    }
   ],
   "source": [
    "X_train_scaled.head()"
   ]
  },
  {
   "cell_type": "code",
   "execution_count": 30,
   "id": "1613ec5f",
   "metadata": {
    "scrolled": true
   },
   "outputs": [
    {
     "data": {
      "text/plain": [
       "['bathrooms',\n",
       " 'bedrooms',\n",
       " 'square_feet',\n",
       " 'year_built',\n",
       " 'latitude',\n",
       " 'structure_value',\n",
       " 'land_value',\n",
       " 'bath_bed_ratio']"
      ]
     },
     "execution_count": 30,
     "metadata": {},
     "output_type": "execute_result"
    }
   ],
   "source": [
    "k_features = ex.select_k_features(X_train_scaled, y_train, 8)\n",
    "k_features"
   ]
  },
  {
   "cell_type": "markdown",
   "id": "f55cfc62",
   "metadata": {},
   "source": [
    "## Using Recursive Feature Elimination to Find Best Features:\n",
    "    - Seeing as this dataset is small, I'm okay with using RFE for more accuracy, as\n",
    "    it's not too intensive."
   ]
  },
  {
   "cell_type": "code",
   "execution_count": 31,
   "id": "125afcad",
   "metadata": {},
   "outputs": [],
   "source": [
    "def rfe_regression(X_train_scaled, y_train, n):\n",
    "    '''\n",
    "    Takes in a scaled X_set of a DataFrame, an un-scaled\n",
    "    y_set of the DataFrame, and 'n' for the number of desired\n",
    "    features to be selected for modeling. Returns a list of \n",
    "    the n best features for the regression model.\n",
    "    '''\n",
    "    # Creating the Regression Object:\n",
    "    lm = LinearRegression()\n",
    "    # create the rfe object, indicating the ML object (lm) and the number of features I want to use: \n",
    "    rfe = RFE(lm, n_features_to_select=10)\n",
    "    # fit the data using RFE\n",
    "    rfe.fit(X_train_scaled, y_train)\n",
    "    # Create the boolean mask that will select best columns:\n",
    "    feature_mask = rfe.support_\n",
    "    # Return the list of selected columns: \n",
    "    rfe_feature = X_train_scaled.iloc[:,feature_mask].columns.tolist()\n",
    "    return rfe_feature"
   ]
  },
  {
   "cell_type": "code",
   "execution_count": 32,
   "id": "1e0323a3",
   "metadata": {},
   "outputs": [],
   "source": [
    "rfe_features = rfe_regression(X_train_scaled, y_train, 8)"
   ]
  },
  {
   "cell_type": "code",
   "execution_count": 33,
   "id": "b41c3f70",
   "metadata": {},
   "outputs": [
    {
     "data": {
      "text/plain": [
       "['bathrooms',\n",
       " 'bedrooms',\n",
       " 'square_feet',\n",
       " 'latitude',\n",
       " 'longitude',\n",
       " 'lot_size',\n",
       " 'structure_value',\n",
       " 'land_value',\n",
       " 'bath_bed_ratio',\n",
       " 'county_Orange County']"
      ]
     },
     "execution_count": 33,
     "metadata": {},
     "output_type": "execute_result"
    }
   ],
   "source": [
    "rfe_features"
   ]
  },
  {
   "cell_type": "markdown",
   "id": "80422648",
   "metadata": {},
   "source": [
    "## Baseline Model:\n",
    "- It's important to note here that there is no \"machine learning\" happening with this model; all it is doing is finding the mean (or median) assessed home value and saving that to a new column in the DataFrame."
   ]
  },
  {
   "cell_type": "markdown",
   "id": "8fbaf374",
   "metadata": {},
   "source": [
    "### Mean Baseline:"
   ]
  },
  {
   "cell_type": "code",
   "execution_count": 34,
   "id": "88e1d649",
   "metadata": {},
   "outputs": [],
   "source": [
    "#Adding mean baseline value to y_train:\n",
    "y_train['baseline_mean'] = y_train.value.mean()\n",
    "#Adding mean baseline value to y_validate:\n",
    "y_validate['baseline_mean'] = y_validate.value.mean()"
   ]
  },
  {
   "cell_type": "markdown",
   "id": "d51655cc",
   "metadata": {},
   "source": [
    "### Median Baseline:"
   ]
  },
  {
   "cell_type": "code",
   "execution_count": 35,
   "id": "048f6928",
   "metadata": {},
   "outputs": [],
   "source": [
    "#Adding median baseline value to y_train:\n",
    "y_train['baseline_median'] = y_train.value.median()\n",
    "#Adding median baseline value to y_validate:\n",
    "y_validate['baseline_median'] = y_validate.value.median()"
   ]
  },
  {
   "cell_type": "markdown",
   "id": "fb8df1ed",
   "metadata": {},
   "source": [
    "### Calculating RMSE for Baselines:"
   ]
  },
  {
   "cell_type": "code",
   "execution_count": 36,
   "id": "f6adf751",
   "metadata": {},
   "outputs": [
    {
     "data": {
      "text/html": [
       "<div>\n",
       "<style scoped>\n",
       "    .dataframe tbody tr th:only-of-type {\n",
       "        vertical-align: middle;\n",
       "    }\n",
       "\n",
       "    .dataframe tbody tr th {\n",
       "        vertical-align: top;\n",
       "    }\n",
       "\n",
       "    .dataframe thead th {\n",
       "        text-align: right;\n",
       "    }\n",
       "</style>\n",
       "<table border=\"1\" class=\"dataframe\">\n",
       "  <thead>\n",
       "    <tr style=\"text-align: right;\">\n",
       "      <th></th>\n",
       "      <th>model</th>\n",
       "      <th>RMSE_train</th>\n",
       "      <th>RMSE_validate</th>\n",
       "    </tr>\n",
       "  </thead>\n",
       "  <tbody>\n",
       "    <tr>\n",
       "      <th>0</th>\n",
       "      <td>baseline_mean</td>\n",
       "      <td>312984.927329</td>\n",
       "      <td>311079.099317</td>\n",
       "    </tr>\n",
       "  </tbody>\n",
       "</table>\n",
       "</div>"
      ],
      "text/plain": [
       "           model     RMSE_train  RMSE_validate\n",
       "0  baseline_mean  312984.927329  311079.099317"
      ]
     },
     "execution_count": 36,
     "metadata": {},
     "output_type": "execute_result"
    }
   ],
   "source": [
    "# Creating an empty list for baseline results:\n",
    "results = []\n",
    "\n",
    "# Creating a dictionary of baseline mean values:\n",
    "baseline_mean = {\n",
    "    'model':'baseline_mean',\n",
    "    'RMSE_train': mean_squared_error(y_train['value'], y_train['baseline_mean'])**(0.5),\n",
    "    'RMSE_validate': mean_squared_error(y_validate['value'], y_validate['baseline_mean'])**(0.5)\n",
    "}\n",
    "#Appending baseline mean to results list:\n",
    "results.append(baseline_mean)\n",
    "\n",
    "#Creating a dictionary of baseline median values:\n",
    "#baseline_median = {\n",
    "    #'model':'baseline_median',\n",
    "    #'RMSE_train': mean_squared_error(y_train['value'], y_train['baseline_median'])**(0.5),\n",
    "    #'RMSE_validate': mean_squared_error(y_validate['value'], y_validate['baseline_median'])**(0.5)\n",
    "#}\n",
    "\n",
    "#Adding baseline median to results list:\n",
    "#results.append(baseline_median)\n",
    "\n",
    "#Creating a DataFrame from the list of result dictionaries:\n",
    "pd.DataFrame(results)"
   ]
  },
  {
   "cell_type": "markdown",
   "id": "bd061f1f",
   "metadata": {},
   "source": [
    "### Baseline Takeaways:\n",
    "- The __Mean__ Baseline has a lower RMSE, so I will use that as my baseline for comparison with other models."
   ]
  },
  {
   "cell_type": "markdown",
   "id": "a3630d6b",
   "metadata": {},
   "source": [
    "## LinearRegression (OLS):"
   ]
  },
  {
   "cell_type": "code",
   "execution_count": 37,
   "id": "883eada1",
   "metadata": {},
   "outputs": [
    {
     "data": {
      "text/html": [
       "<div>\n",
       "<style scoped>\n",
       "    .dataframe tbody tr th:only-of-type {\n",
       "        vertical-align: middle;\n",
       "    }\n",
       "\n",
       "    .dataframe tbody tr th {\n",
       "        vertical-align: top;\n",
       "    }\n",
       "\n",
       "    .dataframe thead th {\n",
       "        text-align: right;\n",
       "    }\n",
       "</style>\n",
       "<table border=\"1\" class=\"dataframe\">\n",
       "  <thead>\n",
       "    <tr style=\"text-align: right;\">\n",
       "      <th></th>\n",
       "      <th>value</th>\n",
       "      <th>baseline_mean</th>\n",
       "      <th>baseline_median</th>\n",
       "    </tr>\n",
       "  </thead>\n",
       "  <tbody>\n",
       "    <tr>\n",
       "      <th>10503</th>\n",
       "      <td>525269.0</td>\n",
       "      <td>421736.146329</td>\n",
       "      <td>355727.0</td>\n",
       "    </tr>\n",
       "    <tr>\n",
       "      <th>20093</th>\n",
       "      <td>243471.0</td>\n",
       "      <td>421736.146329</td>\n",
       "      <td>355727.0</td>\n",
       "    </tr>\n",
       "    <tr>\n",
       "      <th>9071</th>\n",
       "      <td>750594.0</td>\n",
       "      <td>421736.146329</td>\n",
       "      <td>355727.0</td>\n",
       "    </tr>\n",
       "    <tr>\n",
       "      <th>33092</th>\n",
       "      <td>464221.0</td>\n",
       "      <td>421736.146329</td>\n",
       "      <td>355727.0</td>\n",
       "    </tr>\n",
       "    <tr>\n",
       "      <th>45363</th>\n",
       "      <td>341185.0</td>\n",
       "      <td>421736.146329</td>\n",
       "      <td>355727.0</td>\n",
       "    </tr>\n",
       "    <tr>\n",
       "      <th>...</th>\n",
       "      <td>...</td>\n",
       "      <td>...</td>\n",
       "      <td>...</td>\n",
       "    </tr>\n",
       "    <tr>\n",
       "      <th>35106</th>\n",
       "      <td>319000.0</td>\n",
       "      <td>421736.146329</td>\n",
       "      <td>355727.0</td>\n",
       "    </tr>\n",
       "    <tr>\n",
       "      <th>19091</th>\n",
       "      <td>631000.0</td>\n",
       "      <td>421736.146329</td>\n",
       "      <td>355727.0</td>\n",
       "    </tr>\n",
       "    <tr>\n",
       "      <th>15634</th>\n",
       "      <td>431694.0</td>\n",
       "      <td>421736.146329</td>\n",
       "      <td>355727.0</td>\n",
       "    </tr>\n",
       "    <tr>\n",
       "      <th>24374</th>\n",
       "      <td>1553301.0</td>\n",
       "      <td>421736.146329</td>\n",
       "      <td>355727.0</td>\n",
       "    </tr>\n",
       "    <tr>\n",
       "      <th>2987</th>\n",
       "      <td>359832.0</td>\n",
       "      <td>421736.146329</td>\n",
       "      <td>355727.0</td>\n",
       "    </tr>\n",
       "  </tbody>\n",
       "</table>\n",
       "<p>27814 rows × 3 columns</p>\n",
       "</div>"
      ],
      "text/plain": [
       "           value  baseline_mean  baseline_median\n",
       "10503   525269.0  421736.146329         355727.0\n",
       "20093   243471.0  421736.146329         355727.0\n",
       "9071    750594.0  421736.146329         355727.0\n",
       "33092   464221.0  421736.146329         355727.0\n",
       "45363   341185.0  421736.146329         355727.0\n",
       "...          ...            ...              ...\n",
       "35106   319000.0  421736.146329         355727.0\n",
       "19091   631000.0  421736.146329         355727.0\n",
       "15634   431694.0  421736.146329         355727.0\n",
       "24374  1553301.0  421736.146329         355727.0\n",
       "2987    359832.0  421736.146329         355727.0\n",
       "\n",
       "[27814 rows x 3 columns]"
      ]
     },
     "execution_count": 37,
     "metadata": {},
     "output_type": "execute_result"
    }
   ],
   "source": [
    "y_train"
   ]
  },
  {
   "cell_type": "code",
   "execution_count": 41,
   "id": "9d488294",
   "metadata": {},
   "outputs": [
    {
     "data": {
      "text/html": [
       "<div>\n",
       "<style scoped>\n",
       "    .dataframe tbody tr th:only-of-type {\n",
       "        vertical-align: middle;\n",
       "    }\n",
       "\n",
       "    .dataframe tbody tr th {\n",
       "        vertical-align: top;\n",
       "    }\n",
       "\n",
       "    .dataframe thead th {\n",
       "        text-align: right;\n",
       "    }\n",
       "</style>\n",
       "<table border=\"1\" class=\"dataframe\">\n",
       "  <thead>\n",
       "    <tr style=\"text-align: right;\">\n",
       "      <th></th>\n",
       "      <th>bathrooms</th>\n",
       "      <th>bedrooms</th>\n",
       "      <th>square_feet</th>\n",
       "      <th>year_built</th>\n",
       "      <th>latitude</th>\n",
       "      <th>longitude</th>\n",
       "      <th>lot_size</th>\n",
       "      <th>zip_code</th>\n",
       "      <th>structure_value</th>\n",
       "      <th>land_value</th>\n",
       "      <th>bath_bed_ratio</th>\n",
       "      <th>county_Orange County</th>\n",
       "      <th>county_Ventura County</th>\n",
       "    </tr>\n",
       "  </thead>\n",
       "  <tbody>\n",
       "    <tr>\n",
       "      <th>10503</th>\n",
       "      <td>0.428571</td>\n",
       "      <td>0.4</td>\n",
       "      <td>0.340749</td>\n",
       "      <td>1954</td>\n",
       "      <td>34.216195</td>\n",
       "      <td>-118.412888</td>\n",
       "      <td>0.003541</td>\n",
       "      <td>96450.0</td>\n",
       "      <td>238249.0</td>\n",
       "      <td>287020.0</td>\n",
       "      <td>0.214286</td>\n",
       "      <td>0</td>\n",
       "      <td>0</td>\n",
       "    </tr>\n",
       "    <tr>\n",
       "      <th>20093</th>\n",
       "      <td>0.285714</td>\n",
       "      <td>0.3</td>\n",
       "      <td>0.277944</td>\n",
       "      <td>1990</td>\n",
       "      <td>34.555259</td>\n",
       "      <td>-118.094324</td>\n",
       "      <td>0.000823</td>\n",
       "      <td>97328.0</td>\n",
       "      <td>197173.0</td>\n",
       "      <td>46298.0</td>\n",
       "      <td>0.196429</td>\n",
       "      <td>0</td>\n",
       "      <td>0</td>\n",
       "    </tr>\n",
       "    <tr>\n",
       "      <th>9071</th>\n",
       "      <td>0.285714</td>\n",
       "      <td>0.3</td>\n",
       "      <td>0.349702</td>\n",
       "      <td>1964</td>\n",
       "      <td>34.204889</td>\n",
       "      <td>-118.158852</td>\n",
       "      <td>0.002851</td>\n",
       "      <td>96265.0</td>\n",
       "      <td>206683.0</td>\n",
       "      <td>543911.0</td>\n",
       "      <td>0.196429</td>\n",
       "      <td>0</td>\n",
       "      <td>0</td>\n",
       "    </tr>\n",
       "    <tr>\n",
       "      <th>33092</th>\n",
       "      <td>0.142857</td>\n",
       "      <td>0.3</td>\n",
       "      <td>0.249457</td>\n",
       "      <td>1952</td>\n",
       "      <td>33.798432</td>\n",
       "      <td>-118.103808</td>\n",
       "      <td>0.000829</td>\n",
       "      <td>96247.0</td>\n",
       "      <td>173956.0</td>\n",
       "      <td>290265.0</td>\n",
       "      <td>0.107143</td>\n",
       "      <td>0</td>\n",
       "      <td>0</td>\n",
       "    </tr>\n",
       "    <tr>\n",
       "      <th>45363</th>\n",
       "      <td>0.142857</td>\n",
       "      <td>0.2</td>\n",
       "      <td>0.107434</td>\n",
       "      <td>1949</td>\n",
       "      <td>34.091857</td>\n",
       "      <td>-118.199044</td>\n",
       "      <td>0.000621</td>\n",
       "      <td>96012.0</td>\n",
       "      <td>109038.0</td>\n",
       "      <td>232147.0</td>\n",
       "      <td>0.166667</td>\n",
       "      <td>0</td>\n",
       "      <td>0</td>\n",
       "    </tr>\n",
       "    <tr>\n",
       "      <th>...</th>\n",
       "      <td>...</td>\n",
       "      <td>...</td>\n",
       "      <td>...</td>\n",
       "      <td>...</td>\n",
       "      <td>...</td>\n",
       "      <td>...</td>\n",
       "      <td>...</td>\n",
       "      <td>...</td>\n",
       "      <td>...</td>\n",
       "      <td>...</td>\n",
       "      <td>...</td>\n",
       "      <td>...</td>\n",
       "      <td>...</td>\n",
       "    </tr>\n",
       "    <tr>\n",
       "      <th>35106</th>\n",
       "      <td>0.000000</td>\n",
       "      <td>0.2</td>\n",
       "      <td>0.110418</td>\n",
       "      <td>1947</td>\n",
       "      <td>33.911433</td>\n",
       "      <td>-118.203414</td>\n",
       "      <td>0.000954</td>\n",
       "      <td>96091.0</td>\n",
       "      <td>135000.0</td>\n",
       "      <td>184000.0</td>\n",
       "      <td>0.047619</td>\n",
       "      <td>0</td>\n",
       "      <td>0</td>\n",
       "    </tr>\n",
       "    <tr>\n",
       "      <th>19091</th>\n",
       "      <td>0.142857</td>\n",
       "      <td>0.2</td>\n",
       "      <td>0.182990</td>\n",
       "      <td>1962</td>\n",
       "      <td>33.672006</td>\n",
       "      <td>-117.896768</td>\n",
       "      <td>0.000923</td>\n",
       "      <td>96958.0</td>\n",
       "      <td>85138.0</td>\n",
       "      <td>545862.0</td>\n",
       "      <td>0.166667</td>\n",
       "      <td>1</td>\n",
       "      <td>0</td>\n",
       "    </tr>\n",
       "    <tr>\n",
       "      <th>15634</th>\n",
       "      <td>0.142857</td>\n",
       "      <td>0.3</td>\n",
       "      <td>0.166848</td>\n",
       "      <td>1953</td>\n",
       "      <td>34.272557</td>\n",
       "      <td>-118.481645</td>\n",
       "      <td>0.000910</td>\n",
       "      <td>96370.0</td>\n",
       "      <td>161234.0</td>\n",
       "      <td>270460.0</td>\n",
       "      <td>0.107143</td>\n",
       "      <td>0</td>\n",
       "      <td>0</td>\n",
       "    </tr>\n",
       "    <tr>\n",
       "      <th>24374</th>\n",
       "      <td>0.142857</td>\n",
       "      <td>0.1</td>\n",
       "      <td>0.337765</td>\n",
       "      <td>1929</td>\n",
       "      <td>34.114124</td>\n",
       "      <td>-118.112067</td>\n",
       "      <td>0.001587</td>\n",
       "      <td>96296.0</td>\n",
       "      <td>310660.0</td>\n",
       "      <td>1242641.0</td>\n",
       "      <td>0.285714</td>\n",
       "      <td>0</td>\n",
       "      <td>0</td>\n",
       "    </tr>\n",
       "    <tr>\n",
       "      <th>2987</th>\n",
       "      <td>0.214286</td>\n",
       "      <td>0.2</td>\n",
       "      <td>0.177699</td>\n",
       "      <td>1977</td>\n",
       "      <td>33.929270</td>\n",
       "      <td>-117.891456</td>\n",
       "      <td>0.000130</td>\n",
       "      <td>97035.0</td>\n",
       "      <td>98342.0</td>\n",
       "      <td>261490.0</td>\n",
       "      <td>0.226190</td>\n",
       "      <td>1</td>\n",
       "      <td>0</td>\n",
       "    </tr>\n",
       "  </tbody>\n",
       "</table>\n",
       "<p>27814 rows × 13 columns</p>\n",
       "</div>"
      ],
      "text/plain": [
       "       bathrooms  bedrooms  square_feet  year_built   latitude   longitude  \\\n",
       "10503   0.428571       0.4     0.340749        1954  34.216195 -118.412888   \n",
       "20093   0.285714       0.3     0.277944        1990  34.555259 -118.094324   \n",
       "9071    0.285714       0.3     0.349702        1964  34.204889 -118.158852   \n",
       "33092   0.142857       0.3     0.249457        1952  33.798432 -118.103808   \n",
       "45363   0.142857       0.2     0.107434        1949  34.091857 -118.199044   \n",
       "...          ...       ...          ...         ...        ...         ...   \n",
       "35106   0.000000       0.2     0.110418        1947  33.911433 -118.203414   \n",
       "19091   0.142857       0.2     0.182990        1962  33.672006 -117.896768   \n",
       "15634   0.142857       0.3     0.166848        1953  34.272557 -118.481645   \n",
       "24374   0.142857       0.1     0.337765        1929  34.114124 -118.112067   \n",
       "2987    0.214286       0.2     0.177699        1977  33.929270 -117.891456   \n",
       "\n",
       "       lot_size  zip_code  structure_value  land_value  bath_bed_ratio  \\\n",
       "10503  0.003541   96450.0         238249.0    287020.0        0.214286   \n",
       "20093  0.000823   97328.0         197173.0     46298.0        0.196429   \n",
       "9071   0.002851   96265.0         206683.0    543911.0        0.196429   \n",
       "33092  0.000829   96247.0         173956.0    290265.0        0.107143   \n",
       "45363  0.000621   96012.0         109038.0    232147.0        0.166667   \n",
       "...         ...       ...              ...         ...             ...   \n",
       "35106  0.000954   96091.0         135000.0    184000.0        0.047619   \n",
       "19091  0.000923   96958.0          85138.0    545862.0        0.166667   \n",
       "15634  0.000910   96370.0         161234.0    270460.0        0.107143   \n",
       "24374  0.001587   96296.0         310660.0   1242641.0        0.285714   \n",
       "2987   0.000130   97035.0          98342.0    261490.0        0.226190   \n",
       "\n",
       "       county_Orange County  county_Ventura County  \n",
       "10503                     0                      0  \n",
       "20093                     0                      0  \n",
       "9071                      0                      0  \n",
       "33092                     0                      0  \n",
       "45363                     0                      0  \n",
       "...                     ...                    ...  \n",
       "35106                     0                      0  \n",
       "19091                     1                      0  \n",
       "15634                     0                      0  \n",
       "24374                     0                      0  \n",
       "2987                      1                      0  \n",
       "\n",
       "[27814 rows x 13 columns]"
      ]
     },
     "execution_count": 41,
     "metadata": {},
     "output_type": "execute_result"
    }
   ],
   "source": [
    "X_train_scaled"
   ]
  },
  {
   "cell_type": "code",
   "execution_count": 38,
   "id": "a55733b8",
   "metadata": {
    "scrolled": true
   },
   "outputs": [
    {
     "name": "stdout",
     "output_type": "stream",
     "text": [
      "RMSE for OLS using LinearRegression\n",
      "Training/In-Sample:  1.0616564008911857e-09 \n",
      "Validation/Out-of-Sample:  1.0641065316992046e-09\n"
     ]
    }
   ],
   "source": [
    "# Creating the Model Object:\n",
    "lm = LinearRegression(normalize=True)\n",
    "\n",
    "# fit the model to our training data. We must specify the column in y_train, \n",
    "# since we have converted it to a dataframe from a series! \n",
    "lm.fit(X_train_scaled, y_train.value)\n",
    "\n",
    "# predict train\n",
    "y_train['OLS_pred'] = lm.predict(X_train_scaled)\n",
    "\n",
    "# evaluate: rmse\n",
    "rmse_train = mean_squared_error(y_train.value, y_train.OLS_pred)**(0.5)\n",
    "\n",
    "# predict validate\n",
    "y_validate['OLS_pred'] = lm.predict(X_validate_scaled)\n",
    "\n",
    "# evaluate: rmse\n",
    "rmse_validate = mean_squared_error(y_validate.value, y_validate.OLS_pred)**(0.5)\n",
    "\n",
    "baseline_mean = {\n",
    "    'model':'baseline_mean',\n",
    "    'RMSE_train': mean_squared_error(y_train['value'], y_train['baseline_mean'])**(0.5),\n",
    "    'RMSE_validate': mean_squared_error(y_validate['value'], y_validate['baseline_mean'])**(0.5)\n",
    "}\n",
    "\n",
    "print(\"RMSE for OLS using LinearRegression\\nTraining/In-Sample: \", rmse_train, \n",
    "      \"\\nValidation/Out-of-Sample: \", rmse_validate)"
   ]
  },
  {
   "cell_type": "code",
   "execution_count": null,
   "id": "64963352",
   "metadata": {},
   "outputs": [],
   "source": []
  }
 ],
 "metadata": {
  "kernelspec": {
   "display_name": "Python 3 (ipykernel)",
   "language": "python",
   "name": "python3"
  },
  "language_info": {
   "codemirror_mode": {
    "name": "ipython",
    "version": 3
   },
   "file_extension": ".py",
   "mimetype": "text/x-python",
   "name": "python",
   "nbconvert_exporter": "python",
   "pygments_lexer": "ipython3",
   "version": "3.9.7"
  }
 },
 "nbformat": 4,
 "nbformat_minor": 5
}
