{
 "cells": [
  {
   "cell_type": "markdown",
   "id": "0c531054",
   "metadata": {},
   "source": [
    "# Predicting Home Prices With Regression\n",
    "__Greg Maggard__ <br>\n",
    "July 22, 2022"
   ]
  },
  {
   "cell_type": "markdown",
   "id": "4b794e3e",
   "metadata": {},
   "source": [
    "## <span style = 'color:blue'>General Overview:</span>\n",
    "This project aims to use regression models to predict home values from the Zillow dataset containing listings from 2017.\n",
    "\n",
    "<span style = 'color:blue'>============================================================================================</span>\n",
    "\n",
    "### Main Goals:\n",
    "- Use regression machine learning models to make predictions regarding housing prices. \n",
    "- Identify key features that can be used to create an effective predictive model.\n",
    "- Use findings to make recommendations and establish a foundation for future work to improve model's performance. \n",
    "\n",
    "<span style = 'color:blue'>============================================================================================</span>\n",
    "\n",
    "### Executive Summary:\n",
    "- This project aims to improve upon an existing model to predict home prices for Zillow listings from 2017.\n",
    "- Data was acquired by querying 2017 home data from the Zillow database. \n",
    "- Exploration was done to test some hypotheses about relationships between features. \n",
    "- Multiple regression models were run, ultimately finding Linear Regression to be the most effect, reducing the model's error by ~19.44%.\n",
    "- I recommend deploying this model over the original for the time being, given that there is a 20% increase in model performance.\n",
    "- Given more time, I'd like to continue to refine the model with current features, while also trying to add more home features and data into the dataset."
   ]
  },
  {
   "cell_type": "markdown",
   "id": "01db5b1e",
   "metadata": {},
   "source": [
    "## <span style = 'color:blue'>Importing Relevant Tools:</span>"
   ]
  },
  {
   "cell_type": "code",
   "execution_count": 1,
   "id": "d15ae6b7",
   "metadata": {},
   "outputs": [],
   "source": [
    "import pandas as pd\n",
    "import seaborn as sns\n",
    "import scipy.stats as stats\n",
    "import warnings\n",
    "warnings.filterwarnings('ignore')\n",
    "\n",
    "α = .05\n",
    "\n",
    "from env import get_db_url\n",
    "import wrangle as wr\n",
    "import explore as ex\n",
    "\n",
    "from stats_toolkit import significance_test\n",
    "from sklearn.metrics import mean_squared_error, r2_score\n",
    "from sklearn.linear_model import LinearRegression"
   ]
  },
  {
   "cell_type": "markdown",
   "id": "02a9ac1f",
   "metadata": {},
   "source": [
    "## <span style = 'color:blue'>Acquiring Data:</span>"
   ]
  },
  {
   "cell_type": "markdown",
   "id": "d8398398",
   "metadata": {},
   "source": [
    "### Querying database for *single family homes* that have transaction dates *during the year of 2017:*\n",
    "\n",
    "```SQL\n",
    "SELECT\n",
    "        bathroomcnt AS bathrooms,\n",
    "        bedroomcnt AS bedrooms,\n",
    "        taxvaluedollarcnt AS value,\n",
    "        calculatedfinishedsquarefeet AS square_feet, \n",
    "        yearbuilt AS year_built,\n",
    "        fips, \n",
    "        latitude,\n",
    "        longitude,\n",
    "        lotsizesquarefeet AS lot_size\n",
    "        FROM properties_2017 \n",
    "        LEFT JOIN predictions_2017 USING (parcelid) \n",
    "        LEFT JOIN propertylandusetype USING (propertylandusetypeid)\n",
    "        WHERE propertylandusedesc IN ('Single Family Residential',\n",
    "        'Inferred Single Family Residential') \n",
    "        AND YEAR(transactiondate) = 2017;\n",
    "``` \n",
    "            \n",
    "<span style = 'color:blue'>============================================================================================</span>\n",
    "\n",
    "### Data Dictionary: \n",
    "\n",
    "| Column/Feature | Description |\n",
    "|--- | --- |\n",
    "| __bathrooom__ | The number of bathrooms in the home. |\n",
    "| __bedrooms__ | The number of bedrooms in the home. |\n",
    "| __value__ | The tax-assessed value of the home. <br> __Not__ the home's ultimate sale price. |\n",
    "| __square_feet__ | The home's square footage. |\n",
    "| __year_built__ | The year the home was built. |\n",
    "| __fips__ | \"Federal Information Process System\" code, used to <br> identify zip codes in the U.S. |\n",
    "| __latitude__ | The latitude of the home. |\n",
    "| __longitude__ | The longitude of the home. |\n",
    "| __lot_size__ | The square footage of the lot on which <br> the home is built. |"
   ]
  },
  {
   "cell_type": "markdown",
   "id": "2fdfa364",
   "metadata": {},
   "source": [
    "### Using Pandas to Save Query Output to DataFrame:\n",
    "__52,441 rows are returned, with the above 9 columns:__"
   ]
  },
  {
   "cell_type": "code",
   "execution_count": 2,
   "id": "5982b74b",
   "metadata": {
    "scrolled": true
   },
   "outputs": [
    {
     "data": {
      "text/html": [
       "<div>\n",
       "<style scoped>\n",
       "    .dataframe tbody tr th:only-of-type {\n",
       "        vertical-align: middle;\n",
       "    }\n",
       "\n",
       "    .dataframe tbody tr th {\n",
       "        vertical-align: top;\n",
       "    }\n",
       "\n",
       "    .dataframe thead th {\n",
       "        text-align: right;\n",
       "    }\n",
       "</style>\n",
       "<table border=\"1\" class=\"dataframe\">\n",
       "  <thead>\n",
       "    <tr style=\"text-align: right;\">\n",
       "      <th></th>\n",
       "      <th>bathrooms</th>\n",
       "      <th>bedrooms</th>\n",
       "      <th>value</th>\n",
       "      <th>square_feet</th>\n",
       "      <th>year_built</th>\n",
       "      <th>fips</th>\n",
       "      <th>latitude</th>\n",
       "      <th>longitude</th>\n",
       "      <th>lot_size</th>\n",
       "    </tr>\n",
       "  </thead>\n",
       "  <tbody>\n",
       "    <tr>\n",
       "      <th>0</th>\n",
       "      <td>3.5</td>\n",
       "      <td>4.0</td>\n",
       "      <td>1023282.0</td>\n",
       "      <td>3100.0</td>\n",
       "      <td>1998.0</td>\n",
       "      <td>6059.0</td>\n",
       "      <td>33634931.0</td>\n",
       "      <td>-117869207.0</td>\n",
       "      <td>4506.0</td>\n",
       "    </tr>\n",
       "    <tr>\n",
       "      <th>1</th>\n",
       "      <td>1.0</td>\n",
       "      <td>2.0</td>\n",
       "      <td>464000.0</td>\n",
       "      <td>1465.0</td>\n",
       "      <td>1967.0</td>\n",
       "      <td>6111.0</td>\n",
       "      <td>34449266.0</td>\n",
       "      <td>-119281531.0</td>\n",
       "      <td>12647.0</td>\n",
       "    </tr>\n",
       "  </tbody>\n",
       "</table>\n",
       "</div>"
      ],
      "text/plain": [
       "   bathrooms  bedrooms      value  square_feet  year_built    fips  \\\n",
       "0        3.5       4.0  1023282.0       3100.0      1998.0  6059.0   \n",
       "1        1.0       2.0   464000.0       1465.0      1967.0  6111.0   \n",
       "\n",
       "     latitude    longitude  lot_size  \n",
       "0  33634931.0 -117869207.0    4506.0  \n",
       "1  34449266.0 -119281531.0   12647.0  "
      ]
     },
     "execution_count": 2,
     "metadata": {},
     "output_type": "execute_result"
    }
   ],
   "source": [
    "query_df = wr.get_zillow_data()\n",
    "query_df.head(2)"
   ]
  },
  {
   "cell_type": "markdown",
   "id": "e85d772f",
   "metadata": {},
   "source": [
    "<span style = 'color:blue'>============================================================================================</span>"
   ]
  },
  {
   "cell_type": "markdown",
   "id": "79e409eb",
   "metadata": {},
   "source": [
    "## <span style = 'color:blue'> Wrangling Data: </span>\n",
    "\n",
    "### - General Data Format Cleaning:\n",
    "- Converting moving decimal left 6 places on latitude and longitude.\n",
    "\n",
    "### - Assigning county names to each home, based on the fips code one the record:  \n",
    "- 60370: Los Angeles County\n",
    "- 60490: Orange County\n",
    "- 61110: Ventura County\n",
    "\n",
    "### - Homes Dropped:\n",
    "- Having 0 bedrooms\n",
    "- Having 0 bathrooms\n",
    "- Having less than 120 square feet\n",
    "    - These homes to not meet the CA minimum to classify as a residence.\n",
    "- Having more than 10,000 square feet\n",
    "    - These homes make up a small portion of the set and could skew the model.\n",
    "- Home value over 1.6 million dollars\n",
    "    - These homes make up a small portion of the set and could skew the model.\n",
    "- Having more than 100,000 square footage of lot size.\n",
    "    - These homes make up a small portion of the set and could skew the model.\n",
    "- Home records containing null values in any column.\n",
    "    \n",
    "### - Columns Created:\n",
    "- Column displaying the ratios of bedrooms to bathrooms.\n",
    "\n",
    "### Notes on Wrangling:\n",
    "- All of these cleaning steps are carried out in the wrangle script, and leave 94.3\\% of the data remaining. \n",
    "- I feel comfortable with the omission of this data, as I want to ensure that I'm not excluding too large a chunk of my total set, but do want to be sure that I'm focusing my model on homes that comprise the bulk of Zillow's business."
   ]
  },
  {
   "cell_type": "code",
   "execution_count": 3,
   "id": "ae0f978f",
   "metadata": {
    "scrolled": true
   },
   "outputs": [
    {
     "data": {
      "text/html": [
       "<div>\n",
       "<style scoped>\n",
       "    .dataframe tbody tr th:only-of-type {\n",
       "        vertical-align: middle;\n",
       "    }\n",
       "\n",
       "    .dataframe tbody tr th {\n",
       "        vertical-align: top;\n",
       "    }\n",
       "\n",
       "    .dataframe thead th {\n",
       "        text-align: right;\n",
       "    }\n",
       "</style>\n",
       "<table border=\"1\" class=\"dataframe\">\n",
       "  <thead>\n",
       "    <tr style=\"text-align: right;\">\n",
       "      <th></th>\n",
       "      <th>bathrooms</th>\n",
       "      <th>bedrooms</th>\n",
       "      <th>value</th>\n",
       "      <th>square_feet</th>\n",
       "      <th>year_built</th>\n",
       "      <th>latitude</th>\n",
       "      <th>longitude</th>\n",
       "      <th>lot_size</th>\n",
       "      <th>county</th>\n",
       "      <th>bath_bed_ratio</th>\n",
       "    </tr>\n",
       "  </thead>\n",
       "  <tbody>\n",
       "    <tr>\n",
       "      <th>0</th>\n",
       "      <td>3.5</td>\n",
       "      <td>4</td>\n",
       "      <td>1023282.0</td>\n",
       "      <td>3100.0</td>\n",
       "      <td>1998</td>\n",
       "      <td>33.634931</td>\n",
       "      <td>-117.869207</td>\n",
       "      <td>4506.0</td>\n",
       "      <td>Orange County</td>\n",
       "      <td>0.875</td>\n",
       "    </tr>\n",
       "  </tbody>\n",
       "</table>\n",
       "</div>"
      ],
      "text/plain": [
       "   bathrooms  bedrooms      value  square_feet  year_built   latitude  \\\n",
       "0        3.5         4  1023282.0       3100.0        1998  33.634931   \n",
       "\n",
       "    longitude  lot_size         county  bath_bed_ratio  \n",
       "0 -117.869207    4506.0  Orange County           0.875  "
      ]
     },
     "execution_count": 3,
     "metadata": {},
     "output_type": "execute_result"
    }
   ],
   "source": [
    "df = wr.wrangle_zillow()\n",
    "df.head(1)"
   ]
  },
  {
   "cell_type": "markdown",
   "id": "8a268051",
   "metadata": {},
   "source": [
    "### Splitting the Data Before Exploration:\n",
    "Using a scripted function to split the cleaned data into train, validate, and test sets."
   ]
  },
  {
   "cell_type": "code",
   "execution_count": 4,
   "id": "36832fa2",
   "metadata": {},
   "outputs": [],
   "source": [
    "train, validate, test = wr.split_zillow_data(df)"
   ]
  },
  {
   "cell_type": "code",
   "execution_count": 5,
   "id": "efecf1bc",
   "metadata": {},
   "outputs": [
    {
     "data": {
      "text/html": [
       "<div>\n",
       "<style scoped>\n",
       "    .dataframe tbody tr th:only-of-type {\n",
       "        vertical-align: middle;\n",
       "    }\n",
       "\n",
       "    .dataframe tbody tr th {\n",
       "        vertical-align: top;\n",
       "    }\n",
       "\n",
       "    .dataframe thead th {\n",
       "        text-align: right;\n",
       "    }\n",
       "</style>\n",
       "<table border=\"1\" class=\"dataframe\">\n",
       "  <thead>\n",
       "    <tr style=\"text-align: right;\">\n",
       "      <th></th>\n",
       "      <th>bathrooms</th>\n",
       "      <th>bedrooms</th>\n",
       "      <th>value</th>\n",
       "      <th>square_feet</th>\n",
       "      <th>year_built</th>\n",
       "      <th>latitude</th>\n",
       "      <th>longitude</th>\n",
       "      <th>lot_size</th>\n",
       "      <th>county</th>\n",
       "      <th>bath_bed_ratio</th>\n",
       "    </tr>\n",
       "  </thead>\n",
       "  <tbody>\n",
       "    <tr>\n",
       "      <th>37492</th>\n",
       "      <td>2.0</td>\n",
       "      <td>3</td>\n",
       "      <td>468048.0</td>\n",
       "      <td>3233.0</td>\n",
       "      <td>1950</td>\n",
       "      <td>33.96735</td>\n",
       "      <td>-117.974418</td>\n",
       "      <td>80171.0</td>\n",
       "      <td>Los Angeles County</td>\n",
       "      <td>0.666667</td>\n",
       "    </tr>\n",
       "  </tbody>\n",
       "</table>\n",
       "</div>"
      ],
      "text/plain": [
       "       bathrooms  bedrooms     value  square_feet  year_built  latitude  \\\n",
       "37492        2.0         3  468048.0       3233.0        1950  33.96735   \n",
       "\n",
       "        longitude  lot_size              county  bath_bed_ratio  \n",
       "37492 -117.974418   80171.0  Los Angeles County        0.666667  "
      ]
     },
     "execution_count": 5,
     "metadata": {},
     "output_type": "execute_result"
    }
   ],
   "source": [
    "train.head(1)"
   ]
  },
  {
   "cell_type": "markdown",
   "id": "8d7a8bf2",
   "metadata": {},
   "source": [
    "\n",
    "<span style = 'color:blue'>============================================================================================</span>"
   ]
  },
  {
   "cell_type": "markdown",
   "id": "fa8d38c5",
   "metadata": {},
   "source": [
    "## <span style = 'color:blue'> Exploration: </span>"
   ]
  },
  {
   "cell_type": "markdown",
   "id": "f3cb0cbd",
   "metadata": {},
   "source": [
    "### Key Questions Answered:\n",
    "- Is there a significant relationship between square footage and home value?\n",
    "    - __Statistical Finding: There is sufficient evidence to reject the null and assert that there is a significant relationship between square footage and the assessed value.__\n",
    "- Is there a significant relationship between lot_size and home value?\n",
    "    - __Findings: There is sufficient evidence to reject the null and assert that there is a significant relationship between lot size and the assessed value.__\n",
    "- Is there a relationship between the county in which a home is built and its value?\n",
    "    - __Statistical Finding: There is sufficient evidence to reject the null and assert that there is a meaningful relationship between home values and county.__\n",
    "- Is there a relationship between the year a home is built and the square footage of a home?\n",
    "    - __Statistical Finding: There is sufficient evidence to reject the null and assert that there is a meaningful relationship between home values and county.__\n",
    "\n",
    "<span style = 'color:blue'>============================================================================================</span>"
   ]
  },
  {
   "cell_type": "markdown",
   "id": "bbe5ea4f",
   "metadata": {},
   "source": [
    "### Visualizing Distribution of Homes by Square Footage:"
   ]
  },
  {
   "cell_type": "code",
   "execution_count": 6,
   "id": "7436e2c8",
   "metadata": {},
   "outputs": [
    {
     "data": {
      "image/png": "[encoded data removed]",
      "text/plain": [
       "<Figure size 432x288 with 1 Axes>"
      ]
     },
     "metadata": {
      "needs_background": "light"
     },
     "output_type": "display_data"
    }
   ],
   "source": [
    "sns.histplot(data = train, x = train.square_feet).set(title = 'Distribution of Homes by Square Footage');"
   ]
  },
  {
   "cell_type": "markdown",
   "id": "00554b9a",
   "metadata": {},
   "source": [
    "#### Is there a relationship between square footage and value?"
   ]
  },
  {
   "cell_type": "code",
   "execution_count": 7,
   "id": "748d4c42",
   "metadata": {},
   "outputs": [
    {
     "data": {
      "image/png": "[encoded data removed]",
      "text/plain": [
       "<Figure size 432x432 with 3 Axes>"
      ]
     },
     "metadata": {
      "needs_background": "light"
     },
     "output_type": "display_data"
    }
   ],
   "source": [
    "sns.jointplot(x = \"square_feet\", y = \"value\", data = train, kind = 'reg',\n",
    "                  joint_kws = {'line_kws':{'color':'red'}});"
   ]
  },
  {
   "cell_type": "markdown",
   "id": "7efce262",
   "metadata": {},
   "source": [
    "#### Statistical Test:\n",
    "- Null Hypothesis: There is no significant relationship between the home's square footage and the assessed value.\n",
    "- Alternative Hypothesis: There is a significant relationship between the home's square footage and the assessed value.\n",
    "- __Findings: There is sufficient evidence to reject the null and assert that there is a significant relationship between square footage and the assessed value.__ \n",
    "    - It appears that as time as square footage increases, value tends to increase as well."
   ]
  },
  {
   "cell_type": "code",
   "execution_count": 8,
   "id": "a57d35d3",
   "metadata": {},
   "outputs": [
    {
     "name": "stdout",
     "output_type": "stream",
     "text": [
      "Sufficient evidence -> Reject the null hypothesis.\n",
      "The correlation coefficient for square footage and value is 0.55.\n"
     ]
    }
   ],
   "source": [
    "#Running a Pearson's R test to check the correlation between square footage and a home's value:\n",
    "corr, p = stats.pearsonr(train.square_feet, train.value)\n",
    "#Running a significance test to determine whether we can reject the null:\n",
    "significance_test(p)\n",
    "print(f'The correlation coefficient for square footage and value is {round(corr, 2)}.')"
   ]
  },
  {
   "cell_type": "markdown",
   "id": "c81d8835",
   "metadata": {},
   "source": [
    "### Visualizing Distribution of Homes by Lot Size:"
   ]
  },
  {
   "cell_type": "code",
   "execution_count": 9,
   "id": "caf294f4",
   "metadata": {},
   "outputs": [
    {
     "data": {
      "image/png": "[encoded data removed]",
      "text/plain": [
       "<Figure size 432x288 with 1 Axes>"
      ]
     },
     "metadata": {
      "needs_background": "light"
     },
     "output_type": "display_data"
    }
   ],
   "source": [
    "sns.histplot(data = train, x = train.lot_size).set(title = 'Distribution of Homes by Square Footage');"
   ]
  },
  {
   "cell_type": "markdown",
   "id": "14b0d0ef",
   "metadata": {},
   "source": [
    "#### Is there a relationship between home lot size and value?"
   ]
  },
  {
   "cell_type": "code",
   "execution_count": 10,
   "id": "758e5e11",
   "metadata": {},
   "outputs": [
    {
     "data": {
      "image/png": "[encoded data removed]",
      "text/plain": [
       "<Figure size 432x432 with 3 Axes>"
      ]
     },
     "metadata": {
      "needs_background": "light"
     },
     "output_type": "display_data"
    }
   ],
   "source": [
    "sns.jointplot(data = train, x = \"lot_size\", y = \"value\", kind = 'reg',\n",
    "                  joint_kws = {'line_kws':{'color':'red'}});"
   ]
  },
  {
   "cell_type": "markdown",
   "id": "1128062d",
   "metadata": {},
   "source": [
    "#### Statistical Test:\n",
    "- Null Hypothesis: There is no significant relationship between the home's lot size and the assessed value.\n",
    "- Alternative Hypothesis: There is a significant relationship between the home's lot size and the assessed value.\n",
    "- __Findings: There is sufficient evidence to reject the null and assert that there is a significant relationship between lot size and the assessed value.__ \n",
    "    - It appears that as time as lot size increases, value tends to increase as well."
   ]
  },
  {
   "cell_type": "code",
   "execution_count": 11,
   "id": "5e0c1e88",
   "metadata": {},
   "outputs": [
    {
     "name": "stdout",
     "output_type": "stream",
     "text": [
      "Sufficient evidence -> Reject the null hypothesis.\n",
      "The correlation coefficient for lot size and value is 0.16.\n"
     ]
    }
   ],
   "source": [
    "#Running a Pearson's R test to check the correlation between lot size and the value of a home:\n",
    "corr, p = stats.pearsonr(train.lot_size, train.value)\n",
    "#Running a significance test to determine whether we can reject the null:\n",
    "significance_test(p)\n",
    "print(f'The correlation coefficient for lot size and value is {round(corr, 2)}.')"
   ]
  },
  {
   "cell_type": "markdown",
   "id": "70627c22",
   "metadata": {},
   "source": [
    "### Visualizing Home Values by County:"
   ]
  },
  {
   "cell_type": "code",
   "execution_count": 12,
   "id": "1297b753",
   "metadata": {},
   "outputs": [
    {
     "data": {
      "image/png": "[encoded data removed]",
      "text/plain": [
       "<Figure size 432x288 with 1 Axes>"
      ]
     },
     "metadata": {
      "needs_background": "light"
     },
     "output_type": "display_data"
    }
   ],
   "source": [
    "sns.violinplot(data = train, x = train.county, y = train.value ).set(title = 'Plot of Home Value by County');"
   ]
  },
  {
   "cell_type": "markdown",
   "id": "c55c7174",
   "metadata": {},
   "source": [
    "#### Stats: Does County of Residence Have a Meaningful Impact on Value?\n",
    "- Null Hypothesis: There is no relationship between county and home value.\n",
    "- Alternative Hypothesis: There is a significant relationship between county and home value.\n",
    "- __Findings: There is sufficient evidence to reject the null and assert that there is a meaningful relationship between county and home values.__"
   ]
  },
  {
   "cell_type": "code",
   "execution_count": 13,
   "id": "74dcd1aa",
   "metadata": {},
   "outputs": [
    {
     "name": "stdout",
     "output_type": "stream",
     "text": [
      "Sufficient evidence -> Reject the null hypothesis.\n"
     ]
    }
   ],
   "source": [
    "#Creating Separate DataFrames by County:\n",
    "la_values = train[train.county == 'Los Angeles County'].value\n",
    "orange_values = train[train.county == 'Orange County'].value\n",
    "ventura_values = train[train.county == 'Ventura County'].value\n",
    "\n",
    "#Running a one-way ANOVA (there is a single independent variable - 'county'):\n",
    "f, p = stats.f_oneway(la_values, orange_values, ventura_values)\n",
    "\n",
    "#Printing whether the p-value is less than alpha:\n",
    "significance_test(p)"
   ]
  },
  {
   "cell_type": "markdown",
   "id": "4a8b6e3d",
   "metadata": {},
   "source": [
    "### Distribution of Homes by Year Built:"
   ]
  },
  {
   "cell_type": "code",
   "execution_count": 14,
   "id": "6f72f538",
   "metadata": {},
   "outputs": [
    {
     "data": {
      "image/png": "[encoded data removed]",
      "text/plain": [
       "<Figure size 432x288 with 1 Axes>"
      ]
     },
     "metadata": {
      "needs_background": "light"
     },
     "output_type": "display_data"
    }
   ],
   "source": [
    "sns.histplot(data = train, x = train.year_built).set(title = 'Number of Homes for Sale by Construction Year');"
   ]
  },
  {
   "cell_type": "markdown",
   "id": "51c8ac20",
   "metadata": {},
   "source": [
    "### The Relationship Between the Year a Home Was Built and the Square Footage:"
   ]
  },
  {
   "cell_type": "code",
   "execution_count": 15,
   "id": "10a4eff7",
   "metadata": {},
   "outputs": [
    {
     "data": {
      "image/png": "[encoded data removed]",
      "text/plain": [
       "<Figure size 432x432 with 3 Axes>"
      ]
     },
     "metadata": {
      "needs_background": "light"
     },
     "output_type": "display_data"
    }
   ],
   "source": [
    "sns.jointplot(x = \"year_built\", y = \"square_feet\", data = train, kind = 'reg',\n",
    "                  joint_kws = {'line_kws':{'color':'red'}});"
   ]
  },
  {
   "cell_type": "markdown",
   "id": "c495d2fd",
   "metadata": {},
   "source": [
    "#### Stats: Is there a relationship between the year a home was built and the square footage?\n",
    "- Null Hypothesis: There is no relationship between the year a home was built and the square footage.\n",
    "- Alternative Hypothesis: There is a significant relationship between the year a home was built and the square footage.\n",
    "- __Findings: There is sufficient evidence to reject the null and assert that there is a meaningful relationship between construction year and square footage.__ \n",
    "    - It appears that as time has progressed, homes are being built larger."
   ]
  },
  {
   "cell_type": "code",
   "execution_count": 16,
   "id": "40bb7aca",
   "metadata": {},
   "outputs": [
    {
     "name": "stdout",
     "output_type": "stream",
     "text": [
      "Sufficient evidence -> Reject the null hypothesis.\n",
      "The correlation coefficient for build year and square footage is 0.48.\n"
     ]
    }
   ],
   "source": [
    "#Running a Pearson's R test to check the correlation between year built and square footage in a home:\n",
    "corr, p = stats.pearsonr(train.square_feet, train.year_built)\n",
    "#Running a significance test to determine whether we can reject the null:\n",
    "significance_test(p)\n",
    "print(f'The correlation coefficient for build year and square footage is {round(corr, 2)}.')"
   ]
  },
  {
   "cell_type": "markdown",
   "id": "b4968a5f",
   "metadata": {},
   "source": [
    "### Key Explore Takeaways:\n",
    "\n",
    "The following findings mean their variables will be used in the modeling:\n",
    "- There is a significant relationship between __square footage__ and value.\n",
    "- There is a significant relationship between __lot size__ and value.\n",
    "- There is a significant relationship between the __county__ a home is in and its value.\n",
    "- There is a significant relationship between the __year__ a home was built and its value.\n",
    "\n",
    "Other factors, such as the value of the land, the value of the structure, and the tax amount were left out, as including them would lead to information bleed and compromise the model's fit."
   ]
  },
  {
   "cell_type": "markdown",
   "id": "82edd034",
   "metadata": {},
   "source": [
    "<span style = 'color:blue'>============================================================================================</span>"
   ]
  },
  {
   "cell_type": "markdown",
   "id": "3061aa1e",
   "metadata": {},
   "source": [
    "# <span style = 'color:blue'>Modeling:</span>"
   ]
  },
  {
   "cell_type": "markdown",
   "id": "db4e237b",
   "metadata": {},
   "source": [
    "## Prepping Data for Modeling:"
   ]
  },
  {
   "cell_type": "markdown",
   "id": "d071dad7",
   "metadata": {},
   "source": [
    "### Splitting Train, Validate, Test Into 'X' and 'y' Sets For Modeling: "
   ]
  },
  {
   "cell_type": "code",
   "execution_count": 17,
   "id": "7d4a8565",
   "metadata": {},
   "outputs": [],
   "source": [
    "#Splitting Train Set:\n",
    "X_train = train.drop(columns = ['value'])\n",
    "y_train = train.drop(columns = X_train)\n",
    "\n",
    "#Splitting Validate Set:\n",
    "X_validate = validate.drop(columns = ['value'])\n",
    "y_validate = validate.drop(columns = X_validate)\n",
    "\n",
    "#Splitting Test Set:\n",
    "X_test = test.drop(columns = ['value'])\n",
    "y_test = test.drop(columns = X_test)"
   ]
  },
  {
   "cell_type": "markdown",
   "id": "3f406139",
   "metadata": {},
   "source": [
    "### Encoding County Data for Modeling:"
   ]
  },
  {
   "cell_type": "code",
   "execution_count": 18,
   "id": "36e9769a",
   "metadata": {},
   "outputs": [],
   "source": [
    "X_train = wr.encode_zillow_data(X_train)\n",
    "X_validate = wr.encode_zillow_data(X_validate)\n",
    "X_test = wr.encode_zillow_data(X_test)"
   ]
  },
  {
   "cell_type": "markdown",
   "id": "9713fbff",
   "metadata": {},
   "source": [
    "### Scaling Data:"
   ]
  },
  {
   "cell_type": "code",
   "execution_count": 19,
   "id": "eaf2cf6f",
   "metadata": {},
   "outputs": [],
   "source": [
    "X_train_scaled, X_validate_scaled, X_test_scaled = wr.scale_zillow_data(X_train, X_validate, X_test)"
   ]
  },
  {
   "cell_type": "code",
   "execution_count": 20,
   "id": "933c2810",
   "metadata": {
    "scrolled": true
   },
   "outputs": [
    {
     "data": {
      "text/html": [
       "<div>\n",
       "<style scoped>\n",
       "    .dataframe tbody tr th:only-of-type {\n",
       "        vertical-align: middle;\n",
       "    }\n",
       "\n",
       "    .dataframe tbody tr th {\n",
       "        vertical-align: top;\n",
       "    }\n",
       "\n",
       "    .dataframe thead th {\n",
       "        text-align: right;\n",
       "    }\n",
       "</style>\n",
       "<table border=\"1\" class=\"dataframe\">\n",
       "  <thead>\n",
       "    <tr style=\"text-align: right;\">\n",
       "      <th></th>\n",
       "      <th>bathrooms</th>\n",
       "      <th>bedrooms</th>\n",
       "      <th>square_feet</th>\n",
       "      <th>year_built</th>\n",
       "      <th>latitude</th>\n",
       "      <th>longitude</th>\n",
       "      <th>lot_size</th>\n",
       "      <th>bath_bed_ratio</th>\n",
       "      <th>county_Orange County</th>\n",
       "      <th>county_Ventura County</th>\n",
       "    </tr>\n",
       "  </thead>\n",
       "  <tbody>\n",
       "    <tr>\n",
       "      <th>37492</th>\n",
       "      <td>0.111111</td>\n",
       "      <td>0.222222</td>\n",
       "      <td>0.315482</td>\n",
       "      <td>0.521739</td>\n",
       "      <td>33.967350</td>\n",
       "      <td>-117.974418</td>\n",
       "      <td>0.803238</td>\n",
       "      <td>0.063927</td>\n",
       "      <td>0</td>\n",
       "      <td>0</td>\n",
       "    </tr>\n",
       "    <tr>\n",
       "      <th>17287</th>\n",
       "      <td>0.111111</td>\n",
       "      <td>0.222222</td>\n",
       "      <td>0.156973</td>\n",
       "      <td>0.565217</td>\n",
       "      <td>34.186815</td>\n",
       "      <td>-118.617523</td>\n",
       "      <td>0.154126</td>\n",
       "      <td>0.063927</td>\n",
       "      <td>0</td>\n",
       "      <td>0</td>\n",
       "    </tr>\n",
       "    <tr>\n",
       "      <th>37793</th>\n",
       "      <td>0.111111</td>\n",
       "      <td>0.333333</td>\n",
       "      <td>0.170694</td>\n",
       "      <td>0.579710</td>\n",
       "      <td>33.760669</td>\n",
       "      <td>-118.313263</td>\n",
       "      <td>0.077385</td>\n",
       "      <td>0.041096</td>\n",
       "      <td>0</td>\n",
       "      <td>0</td>\n",
       "    </tr>\n",
       "    <tr>\n",
       "      <th>27628</th>\n",
       "      <td>0.166667</td>\n",
       "      <td>0.222222</td>\n",
       "      <td>0.194757</td>\n",
       "      <td>0.782609</td>\n",
       "      <td>33.710195</td>\n",
       "      <td>-117.775035</td>\n",
       "      <td>0.042496</td>\n",
       "      <td>0.086758</td>\n",
       "      <td>1</td>\n",
       "      <td>0</td>\n",
       "    </tr>\n",
       "    <tr>\n",
       "      <th>36486</th>\n",
       "      <td>0.111111</td>\n",
       "      <td>0.333333</td>\n",
       "      <td>0.174381</td>\n",
       "      <td>0.789855</td>\n",
       "      <td>34.319200</td>\n",
       "      <td>-118.476752</td>\n",
       "      <td>0.173600</td>\n",
       "      <td>0.041096</td>\n",
       "      <td>0</td>\n",
       "      <td>0</td>\n",
       "    </tr>\n",
       "  </tbody>\n",
       "</table>\n",
       "</div>"
      ],
      "text/plain": [
       "       bathrooms  bedrooms  square_feet  year_built   latitude   longitude  \\\n",
       "37492   0.111111  0.222222     0.315482    0.521739  33.967350 -117.974418   \n",
       "17287   0.111111  0.222222     0.156973    0.565217  34.186815 -118.617523   \n",
       "37793   0.111111  0.333333     0.170694    0.579710  33.760669 -118.313263   \n",
       "27628   0.166667  0.222222     0.194757    0.782609  33.710195 -117.775035   \n",
       "36486   0.111111  0.333333     0.174381    0.789855  34.319200 -118.476752   \n",
       "\n",
       "       lot_size  bath_bed_ratio  county_Orange County  county_Ventura County  \n",
       "37492  0.803238        0.063927                     0                      0  \n",
       "17287  0.154126        0.063927                     0                      0  \n",
       "37793  0.077385        0.041096                     0                      0  \n",
       "27628  0.042496        0.086758                     1                      0  \n",
       "36486  0.173600        0.041096                     0                      0  "
      ]
     },
     "execution_count": 20,
     "metadata": {},
     "output_type": "execute_result"
    }
   ],
   "source": [
    "X_train_scaled.head()"
   ]
  },
  {
   "cell_type": "markdown",
   "id": "09fca351",
   "metadata": {},
   "source": [
    "<span style = 'color:blue'>============================================================================================</span>"
   ]
  },
  {
   "cell_type": "markdown",
   "id": "f028624b",
   "metadata": {},
   "source": [
    "## Baseline Model:\n",
    "- The mean baseline proved to have the lowest error, so it was selected as baseline for evaluating the final model.\n",
    "- It's important to note here that there is no \"machine learning\" happening with this model; all it is doing is finding the mean assessed home value and saving that to a new column in the DataFrame."
   ]
  },
  {
   "cell_type": "code",
   "execution_count": 21,
   "id": "93eabe0b",
   "metadata": {},
   "outputs": [],
   "source": [
    "#Adding mean baseline value to y_train:\n",
    "y_train['baseline_mean'] = y_train.value.mean()\n",
    "#Adding mean baseline value to y_validate:\n",
    "y_validate['baseline_mean'] = y_validate.value.mean()"
   ]
  },
  {
   "cell_type": "markdown",
   "id": "ffd33fa5",
   "metadata": {},
   "source": [
    "### Calculating RMSE (Error) for Baseline Model:"
   ]
  },
  {
   "cell_type": "code",
   "execution_count": 22,
   "id": "cd56721e",
   "metadata": {},
   "outputs": [
    {
     "data": {
      "text/html": [
       "<div>\n",
       "<style scoped>\n",
       "    .dataframe tbody tr th:only-of-type {\n",
       "        vertical-align: middle;\n",
       "    }\n",
       "\n",
       "    .dataframe tbody tr th {\n",
       "        vertical-align: top;\n",
       "    }\n",
       "\n",
       "    .dataframe thead th {\n",
       "        text-align: right;\n",
       "    }\n",
       "</style>\n",
       "<table border=\"1\" class=\"dataframe\">\n",
       "  <thead>\n",
       "    <tr style=\"text-align: right;\">\n",
       "      <th></th>\n",
       "      <th>model</th>\n",
       "      <th>RMSE_train</th>\n",
       "      <th>RMSE_validate</th>\n",
       "    </tr>\n",
       "  </thead>\n",
       "  <tbody>\n",
       "    <tr>\n",
       "      <th>0</th>\n",
       "      <td>baseline_mean</td>\n",
       "      <td>311363.354731</td>\n",
       "      <td>311821.692922</td>\n",
       "    </tr>\n",
       "  </tbody>\n",
       "</table>\n",
       "</div>"
      ],
      "text/plain": [
       "           model     RMSE_train  RMSE_validate\n",
       "0  baseline_mean  311363.354731  311821.692922"
      ]
     },
     "execution_count": 22,
     "metadata": {},
     "output_type": "execute_result"
    }
   ],
   "source": [
    "# Creating an empty list for baseline results:\n",
    "results = []\n",
    "\n",
    "# Creating a dictionary of baseline mean values:\n",
    "baseline_mean = {\n",
    "    'model':'baseline_mean',\n",
    "    'RMSE_train': mean_squared_error(y_train['value'], y_train['baseline_mean']) ** 0.5,\n",
    "    'RMSE_validate': mean_squared_error(y_validate['value'], y_validate['baseline_mean'])** 0.5\n",
    "}\n",
    "#Appending baseline mean to results list:\n",
    "results.append(baseline_mean)\n",
    "\n",
    "#Creating a DataFrame from the list of result dictionaries:\n",
    "results = pd.DataFrame(results)\n",
    "results"
   ]
  },
  {
   "cell_type": "markdown",
   "id": "f7de7b8e",
   "metadata": {},
   "source": [
    "<span style = 'color:blue'>============================================================================================</span>"
   ]
  },
  {
   "cell_type": "markdown",
   "id": "4cad2848",
   "metadata": {},
   "source": [
    "## LinearRegression (OLS) Model:"
   ]
  },
  {
   "cell_type": "code",
   "execution_count": 23,
   "id": "0feeaeb8",
   "metadata": {
    "scrolled": true
   },
   "outputs": [
    {
     "data": {
      "text/html": [
       "<div>\n",
       "<style scoped>\n",
       "    .dataframe tbody tr th:only-of-type {\n",
       "        vertical-align: middle;\n",
       "    }\n",
       "\n",
       "    .dataframe tbody tr th {\n",
       "        vertical-align: top;\n",
       "    }\n",
       "\n",
       "    .dataframe thead th {\n",
       "        text-align: right;\n",
       "    }\n",
       "</style>\n",
       "<table border=\"1\" class=\"dataframe\">\n",
       "  <thead>\n",
       "    <tr style=\"text-align: right;\">\n",
       "      <th></th>\n",
       "      <th>model</th>\n",
       "      <th>RMSE_train</th>\n",
       "      <th>RMSE_validate</th>\n",
       "    </tr>\n",
       "  </thead>\n",
       "  <tbody>\n",
       "    <tr>\n",
       "      <th>0</th>\n",
       "      <td>baseline_mean</td>\n",
       "      <td>311363.354731</td>\n",
       "      <td>311821.692922</td>\n",
       "    </tr>\n",
       "    <tr>\n",
       "      <th>1</th>\n",
       "      <td>ols_regression</td>\n",
       "      <td>247685.435791</td>\n",
       "      <td>250445.090236</td>\n",
       "    </tr>\n",
       "  </tbody>\n",
       "</table>\n",
       "</div>"
      ],
      "text/plain": [
       "            model     RMSE_train  RMSE_validate\n",
       "0   baseline_mean  311363.354731  311821.692922\n",
       "1  ols_regression  247685.435791  250445.090236"
      ]
     },
     "execution_count": 23,
     "metadata": {},
     "output_type": "execute_result"
    }
   ],
   "source": [
    "#Creating an empty list for the error calculations:\n",
    "error = []\n",
    "\n",
    "# Creating the Model Object:\n",
    "lm = LinearRegression(normalize=True)\n",
    "\n",
    "# Fitting the model to the value in the training set:\n",
    "lm.fit(X_train_scaled, y_train.value)\n",
    "\n",
    "# Using OLS to make predictions on training set:\n",
    "y_train['OLS_pred'] = lm.predict(X_train_scaled)\n",
    "\n",
    "# Calculating the RMSE for train:\n",
    "rmse_train = mean_squared_error(y_train.value, y_train.OLS_pred)**(0.5)\n",
    "\n",
    "# Using OLS to make predictions on validate set:\n",
    "y_validate['OLS_pred'] = lm.predict(X_validate_scaled)\n",
    "\n",
    "# Calculating the RMSE for validate:\n",
    "rmse_validate = mean_squared_error(y_validate.value, y_validate.OLS_pred)**(0.5)\n",
    "\n",
    "#Creating a dictionary of ols_regression stats:\n",
    "ols_regression = {\n",
    "    'model':'ols_regression',\n",
    "    'RMSE_train': mean_squared_error(y_train['value'], y_train['OLS_pred'])**(0.5),\n",
    "    'RMSE_validate': mean_squared_error(y_validate['value'], y_validate['OLS_pred'])**(0.5)\n",
    "}\n",
    "\n",
    "#Adding the ols_regression stats to the empty list:\n",
    "error.append(ols_regression)\n",
    "#Converting the list to a DataFrame:\n",
    "error = pd.DataFrame(error)\n",
    "\n",
    "#Concatenating the RMSE DataFrames, ignoring index so it auto-updates in the final DataFrame:\n",
    "results = pd.concat([results, error], ignore_index = True)\n",
    "results"
   ]
  },
  {
   "cell_type": "markdown",
   "id": "503a67e3",
   "metadata": {},
   "source": [
    "<span style = 'color:blue'>============================================================================================</span>"
   ]
  },
  {
   "cell_type": "markdown",
   "id": "c0a758c2",
   "metadata": {},
   "source": [
    "## Testing Model Performance on the Test Set:"
   ]
  },
  {
   "cell_type": "markdown",
   "id": "c496491a",
   "metadata": {},
   "source": [
    "### Generating OLS Regression Prediction for Test and Creating RMSE_test Column:"
   ]
  },
  {
   "cell_type": "code",
   "execution_count": 24,
   "id": "8979ee79",
   "metadata": {},
   "outputs": [],
   "source": [
    "#Creating an empty list for the error calculations:\n",
    "error = []\n",
    "\n",
    "# Creating the Model Object:\n",
    "lm = LinearRegression(normalize=True)\n",
    "\n",
    "# Fitting the model to the values in the training set:\n",
    "lm.fit(X_train_scaled, y_train.value)\n",
    "\n",
    "# Using OLS to make predictions on training set:\n",
    "y_train['OLS_pred'] = lm.predict(X_train_scaled)\n",
    "\n",
    "# Calculating the RMSE for train:\n",
    "rmse_train = mean_squared_error(y_train.value, y_train.OLS_pred)**(0.5)\n",
    "\n",
    "# Using OLS to make predictions on test set:\n",
    "y_test['OLS_pred'] = lm.predict(X_test_scaled)\n",
    "\n",
    "# Calculating the RMSE for test:\n",
    "rmse_validate = mean_squared_error(y_test.value, y_test.OLS_pred)**(0.5)\n",
    "\n",
    "#Creating a dictionary of ols_regression stats:\n",
    "ols_regression = {\n",
    "    'model':'ols_regression',\n",
    "    'RMSE_train': mean_squared_error(y_train['value'], y_train['OLS_pred'])**(0.5),\n",
    "    'RMSE_test': mean_squared_error(y_test['value'], y_test['OLS_pred'])**(0.5)\n",
    "}\n",
    "\n",
    "#Adding the ols_regression stats to the empty list:\n",
    "error.append(ols_regression)\n",
    "#Converting the list to a DataFrame:\n",
    "error = pd.DataFrame(error)\n",
    "\n",
    "#Concatenating the RMSE DataFrames, ignoring index so it auto-updates in the final DataFrame:\n",
    "results = pd.concat([results, error], ignore_index = True)"
   ]
  },
  {
   "cell_type": "markdown",
   "id": "dcf4ca64",
   "metadata": {},
   "source": [
    "### Generating Baseline Model Prediction for Test Now That RMSE_test Column Exists:"
   ]
  },
  {
   "cell_type": "code",
   "execution_count": 25,
   "id": "557225d0",
   "metadata": {},
   "outputs": [
    {
     "data": {
      "text/html": [
       "<div>\n",
       "<style scoped>\n",
       "    .dataframe tbody tr th:only-of-type {\n",
       "        vertical-align: middle;\n",
       "    }\n",
       "\n",
       "    .dataframe tbody tr th {\n",
       "        vertical-align: top;\n",
       "    }\n",
       "\n",
       "    .dataframe thead th {\n",
       "        text-align: right;\n",
       "    }\n",
       "</style>\n",
       "<table border=\"1\" class=\"dataframe\">\n",
       "  <thead>\n",
       "    <tr style=\"text-align: right;\">\n",
       "      <th></th>\n",
       "      <th>model</th>\n",
       "      <th>RMSE_train</th>\n",
       "      <th>RMSE_validate</th>\n",
       "      <th>RMSE_test</th>\n",
       "    </tr>\n",
       "  </thead>\n",
       "  <tbody>\n",
       "    <tr>\n",
       "      <th>0</th>\n",
       "      <td>baseline_mean</td>\n",
       "      <td>311363.354731</td>\n",
       "      <td>311821.692922</td>\n",
       "      <td>311821.692922</td>\n",
       "    </tr>\n",
       "    <tr>\n",
       "      <th>1</th>\n",
       "      <td>ols_regression</td>\n",
       "      <td>247685.435791</td>\n",
       "      <td>250445.090236</td>\n",
       "      <td>NaN</td>\n",
       "    </tr>\n",
       "    <tr>\n",
       "      <th>2</th>\n",
       "      <td>ols_regression</td>\n",
       "      <td>247685.435791</td>\n",
       "      <td>NaN</td>\n",
       "      <td>250050.139269</td>\n",
       "    </tr>\n",
       "  </tbody>\n",
       "</table>\n",
       "</div>"
      ],
      "text/plain": [
       "            model     RMSE_train  RMSE_validate      RMSE_test\n",
       "0   baseline_mean  311363.354731  311821.692922  311821.692922\n",
       "1  ols_regression  247685.435791  250445.090236            NaN\n",
       "2  ols_regression  247685.435791            NaN  250050.139269"
      ]
     },
     "execution_count": 25,
     "metadata": {},
     "output_type": "execute_result"
    }
   ],
   "source": [
    "results['RMSE_test'][0] = mean_squared_error(y_validate['value'], y_validate['baseline_mean'])** 0.5\n",
    "results"
   ]
  },
  {
   "cell_type": "markdown",
   "id": "ad62da78",
   "metadata": {},
   "source": [
    "### Calculating the Performance Difference Between the Regression and Baseline:"
   ]
  },
  {
   "cell_type": "code",
   "execution_count": 26,
   "id": "70d09ba0",
   "metadata": {},
   "outputs": [
    {
     "name": "stdout",
     "output_type": "stream",
     "text": [
      "The model beats the baseline by 19.81%.\n"
     ]
    }
   ],
   "source": [
    "ols_test_performance = (results.RMSE_test[0] - results.RMSE_test[2]) / results.RMSE_test[0]\n",
    "print(f\"The model beats the baseline by {round((ols_test_performance * 100),2)}%.\")"
   ]
  },
  {
   "cell_type": "markdown",
   "id": "a0f8d8b3",
   "metadata": {},
   "source": [
    "## Modeling Takeaways:"
   ]
  },
  {
   "cell_type": "markdown",
   "id": "5c759128",
   "metadata": {},
   "source": [
    "- The OLS Regression model beats the baseline by ~19.81% on the test set."
   ]
  },
  {
   "cell_type": "markdown",
   "id": "fa391a17",
   "metadata": {},
   "source": [
    "<span style = 'color:blue'>============================================================================================</span>"
   ]
  },
  {
   "cell_type": "markdown",
   "id": "b61cf460",
   "metadata": {},
   "source": [
    "# <span style = 'color:blue'> Conclusion: </span>\n",
    "\n",
    "## Key Findings:\n",
    "- Home square footage, lot size, county, and build year all proved to be significant drivers of home value.\n",
    "- The OLS Linear Regression model, with the features provided, was able to improve upon the baseline model by ~19.81%. I would expect that this will be the case on further out-of-sample data.\n",
    "\n",
    "## Recommendations:\n",
    "- I recommend deploying this linear regression model for now, as an improvement of nearly %20 over the current model means there is substantial financial benefit on the line.\n",
    "- I'd also recommend perhaps doing more qualitative research to understand what factors customers look for in estimating a home's value.\n",
    "\n",
    "## Next Steps:\n",
    "- With the luxury of more time, I would like to further explore the variables in the dataset and see if I could find a better combination to refine the model.\n",
    "- It would likely be worthwhile to look into acquiring more data on the homes to see if there are other factors that could be drivers of home value. \n",
    "    - There are factors like how recently a home has been renovated, proximity to quality schools or greenspaces, or myriad other aspects that could be considered.\n",
    "    \n",
    "<span style = 'color:blue'>============================================================================================</span>"
   ]
  }
 ],
 "metadata": {
  "kernelspec": {
   "display_name": "Python 3 (ipykernel)",
   "language": "python",
   "name": "python3"
  },
  "language_info": {
   "codemirror_mode": {
    "name": "ipython",
    "version": 3
   },
   "file_extension": ".py",
   "mimetype": "text/x-python",
   "name": "python",
   "nbconvert_exporter": "python",
   "pygments_lexer": "ipython3",
   "version": "3.9.7"
  }
 },
 "nbformat": 4,
 "nbformat_minor": 5
}
